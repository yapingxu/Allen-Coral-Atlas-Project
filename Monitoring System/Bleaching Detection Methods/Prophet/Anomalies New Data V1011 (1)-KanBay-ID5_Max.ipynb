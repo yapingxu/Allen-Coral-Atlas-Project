{
 "cells": [
  {
   "cell_type": "code",
   "execution_count": 1,
   "metadata": {},
   "outputs": [],
   "source": [
    "import pandas as pd\n",
    "\n",
    "\n",
    "from dbfread import DBF\n",
    "from pandas import DataFrame\n",
    "\n",
    "df2 = pd.read_excel(\"C:\\\\Users\\\\yapingxu.ASURITE\\\\Documents\\\\Allen Coral Atlas\\\\ID5ZonalMean\\\\ID5Mean.xlsx\")\n",
    "#dbf = DBF(\"C:\\\\Users\\\\yapingxu.ASURITE\\\\Documents\\\\Allen Coral Atlas\\\\Oahu\\\\bottom_reprocess\\\\kanbay\\\\CoralClip\\\\ShpData\\\\ValidLocationsMean.dbf\", load=True)\n",
    "#dbf = DBF(\"D:\\\\LCL\\\\LCL\\\\yaping coral reef\\\\ShpData\\\\ShpData\\\\ValidLocationsMean.dbf\", load=True)\n",
    "#df = DataFrame(iter(dbf))\n",
    "\n",
    "#from simpledbf import Dbf5\n",
    "# dbf = Dbf5(\"C:\\\\Users\\\\LCL\\\\Allen Coral Atlas\\\\ShpData\\\\ValidLocationsMax.dbf\")\n",
    "\n",
    "#import geopandas as gpd\n",
    "#gpddf = gpd.read_file(\"C:\\\\Users\\\\yapingxu.ASURITE\\\\Documents\\\\Allen Coral Atlas\\\\Oahu\\\\bottom_reprocess\\\\kanbay\\\\CoralClip\\\\ShpData\\\\ValidLocationsMean.dbf\",float_precision='high') \n",
    "#df=pd.DataFrame(gpddf)\n",
    "\n",
    "\n",
    "#df1 = gpd.GeoDataFrame.from_file(u\"C:\\\\Users\\\\yapingxu.ASURITE\\\\Documents\\\\Allen Coral Atlas\\\\Oahu\\\\bottom_reprocess\\\\kanbay\\\\CoralClip\\\\ShpData\\\\ValidLocationsMean.dbf\")\n",
    "#df = pd.DataFrame(df1)\n",
    "\n",
    "##df = dbf.to_dataframe()\n",
    "#df\n"
   ]
  },
  {
   "cell_type": "code",
   "execution_count": 2,
   "metadata": {},
   "outputs": [
    {
     "data": {
      "text/plain": [
       "False"
      ]
     },
     "execution_count": 2,
     "metadata": {},
     "output_type": "execute_result"
    }
   ],
   "source": [
    "import sys\n",
    "'geopandas' in sys.modules"
   ]
  },
  {
   "cell_type": "code",
   "execution_count": 3,
   "metadata": {},
   "outputs": [
    {
     "data": {
      "text/html": [
       "<div>\n",
       "<style scoped>\n",
       "    .dataframe tbody tr th:only-of-type {\n",
       "        vertical-align: middle;\n",
       "    }\n",
       "\n",
       "    .dataframe tbody tr th {\n",
       "        vertical-align: top;\n",
       "    }\n",
       "\n",
       "    .dataframe thead th {\n",
       "        text-align: right;\n",
       "    }\n",
       "</style>\n",
       "<table border=\"1\" class=\"dataframe\">\n",
       "  <thead>\n",
       "    <tr style=\"text-align: right;\">\n",
       "      <th></th>\n",
       "      <th>Id</th>\n",
       "      <th>ds</th>\n",
       "      <th>y</th>\n",
       "    </tr>\n",
       "  </thead>\n",
       "  <tbody>\n",
       "    <tr>\n",
       "      <td>0</td>\n",
       "      <td>1</td>\n",
       "      <td>20190429</td>\n",
       "      <td>0.0515</td>\n",
       "    </tr>\n",
       "    <tr>\n",
       "      <td>1</td>\n",
       "      <td>2</td>\n",
       "      <td>20190506</td>\n",
       "      <td>0.0206</td>\n",
       "    </tr>\n",
       "    <tr>\n",
       "      <td>2</td>\n",
       "      <td>3</td>\n",
       "      <td>20190513</td>\n",
       "      <td>0.0559</td>\n",
       "    </tr>\n",
       "    <tr>\n",
       "      <td>3</td>\n",
       "      <td>4</td>\n",
       "      <td>20190520</td>\n",
       "      <td>NaN</td>\n",
       "    </tr>\n",
       "    <tr>\n",
       "      <td>4</td>\n",
       "      <td>5</td>\n",
       "      <td>20190527</td>\n",
       "      <td>0.0095</td>\n",
       "    </tr>\n",
       "  </tbody>\n",
       "</table>\n",
       "</div>"
      ],
      "text/plain": [
       "   Id        ds       y\n",
       "0   1  20190429  0.0515\n",
       "1   2  20190506  0.0206\n",
       "2   3  20190513  0.0559\n",
       "3   4  20190520     NaN\n",
       "4   5  20190527  0.0095"
      ]
     },
     "execution_count": 3,
     "metadata": {},
     "output_type": "execute_result"
    }
   ],
   "source": [
    "df2.head()"
   ]
  },
  {
   "cell_type": "code",
   "execution_count": 4,
   "metadata": {},
   "outputs": [
    {
     "data": {
      "text/plain": [
       "26"
      ]
     },
     "execution_count": 4,
     "metadata": {},
     "output_type": "execute_result"
    }
   ],
   "source": [
    "len(df2)"
   ]
  },
  {
   "cell_type": "code",
   "execution_count": 8,
   "metadata": {},
   "outputs": [],
   "source": [
    "import pandas as pd\n",
    "from fbprophet import Prophet\n",
    "import matplotlib\n",
    "import altair as alt\n",
    "alt.renderers.enable('notebook')\n",
    "from vega_datasets import data\n",
    "\n",
    "from altair import pipe, limit_rows, to_values\n",
    "t = lambda data: pipe(data, limit_rows(max_rows=110000), to_values) # default is 5000 rows, changed to 6000 to display total rows.\n",
    "alt.data_transformers.register('custom', t)\n",
    "alt.data_transformers.enable('custom')\n",
    "\n",
    "#df1 = pd.read_excel(\"C:\\\\Users\\\\yapingxu\\\\Documents\\\\TimeSeriesPython\\\\Oahu\\\\DataCSV - Copy.xlsx\")\n",
    "def fit_predict_model(dataframe, interval_width = 0.70, n_changepoints =4):\n",
    "    m = Prophet(daily_seasonality = False, yearly_seasonality = False, weekly_seasonality = False,\n",
    "                seasonality_mode = 'additive', \n",
    "                interval_width = interval_width,\n",
    "                n_changepoints = n_changepoints\n",
    "                )\n",
    "                #changepoint_range = changepoint_range)\n",
    "    m = m.fit(dataframe)\n",
    "    forecast = m.predict(dataframe)\n",
    "    forecast['fact'] = dataframe['y'].reset_index(drop = True)\n",
    "    forecast['Id'] = dataframe['Id']\n",
    "    return forecast\n",
    "    \n",
    "pred = fit_predict_model(df2)"
   ]
  },
  {
   "cell_type": "code",
   "execution_count": 9,
   "metadata": {},
   "outputs": [],
   "source": [
    "def detect_anomalies(forecast):\n",
    "    forecasted = forecast[['ds','trend', 'yhat', 'yhat_lower', 'yhat_upper', 'fact','Id']].copy()\n",
    "    #forecast['fact'] = df['y']\n",
    "\n",
    "    forecasted['anomaly'] = 0\n",
    "    forecasted.loc[forecasted['fact'] > forecasted['yhat_upper'], 'anomaly'] = 1\n",
    "    forecasted.loc[forecasted['fact'] < forecasted['yhat_lower'], 'anomaly'] = -1\n",
    "\n",
    "    #anomaly importances, define the size of the red points\n",
    "    forecasted['importance'] = 0\n",
    "    forecasted.loc[forecasted['anomaly'] ==1, 'importance'] = \\\n",
    "        (forecasted['fact'] - forecasted['yhat_upper'])/forecast['fact']\n",
    "    forecasted.loc[forecasted['anomaly'] ==-1, 'importance'] = \\\n",
    "        (forecasted['yhat_lower'] - forecasted['fact'])/forecast['fact']\n",
    "    \n",
    "    return forecasted\n",
    "\n",
    "pred2 = detect_anomalies(pred)"
   ]
  },
  {
   "cell_type": "code",
   "execution_count": 10,
   "metadata": {
    "scrolled": true
   },
   "outputs": [
    {
     "data": {
      "application/javascript": [
       "const spec = {\"config\": {\"view\": {\"width\": 400, \"height\": 300}, \"mark\": {\"tooltip\": null}, \"title\": {\"fontSize\": 20}}, \"layer\": [{\"data\": {\"name\": \"data-93f1f717c51dde86aa78f36b61751775\"}, \"mark\": {\"type\": \"area\", \"color\": \"#7FC97F\", \"interpolate\": \"basis\"}, \"encoding\": {\"tooltip\": [{\"type\": \"temporal\", \"field\": \"ds\"}, {\"type\": \"quantitative\", \"field\": \"fact\"}, {\"type\": \"quantitative\", \"field\": \"yhat_lower\"}, {\"type\": \"quantitative\", \"field\": \"yhat_upper\"}, {\"type\": \"quantitative\", \"field\": \"Id\"}], \"x\": {\"type\": \"temporal\", \"field\": \"ds\", \"title\": \"date\"}, \"y\": {\"type\": \"quantitative\", \"field\": \"yhat_upper\"}, \"y2\": {\"field\": \"yhat_lower\"}}, \"selection\": {\"selector004\": {\"type\": \"interval\", \"bind\": \"scales\", \"encodings\": [\"x\", \"y\"]}}, \"title\": \"Anomaly Detection\"}, {\"data\": {\"name\": \"data-953f3d636f09126e8b0ca615675a232e\"}, \"mark\": {\"type\": \"circle\", \"color\": \"Black\", \"opacity\": 0.7, \"size\": 15}, \"encoding\": {\"tooltip\": [{\"type\": \"temporal\", \"field\": \"ds\"}, {\"type\": \"quantitative\", \"field\": \"fact\"}, {\"type\": \"quantitative\", \"field\": \"yhat_lower\"}, {\"type\": \"quantitative\", \"field\": \"yhat_upper\"}, {\"type\": \"quantitative\", \"field\": \"Id\"}], \"x\": {\"type\": \"temporal\", \"field\": \"ds\"}, \"y\": {\"type\": \"quantitative\", \"field\": \"fact\", \"title\": \"bottom reflectance\"}}, \"selection\": {\"selector005\": {\"type\": \"interval\", \"bind\": \"scales\", \"encodings\": [\"x\", \"y\"]}}}, {\"data\": {\"name\": \"data-4e86b1e5ff0b18d90f6550f1063d685c\"}, \"mark\": {\"type\": \"circle\", \"color\": \"Red\", \"size\": 30}, \"encoding\": {\"size\": {\"type\": \"quantitative\", \"field\": \"importance\", \"legend\": null}, \"tooltip\": [{\"type\": \"temporal\", \"field\": \"ds\"}, {\"type\": \"quantitative\", \"field\": \"fact\"}, {\"type\": \"quantitative\", \"field\": \"yhat_lower\"}, {\"type\": \"quantitative\", \"field\": \"yhat_upper\"}, {\"type\": \"quantitative\", \"field\": \"Id\"}], \"x\": {\"type\": \"temporal\", \"field\": \"ds\"}, \"y\": {\"type\": \"quantitative\", \"field\": \"fact\", \"title\": \"bottom reflectance\"}}, \"selection\": {\"selector006\": {\"type\": \"interval\", \"bind\": \"scales\", \"encodings\": [\"x\", \"y\"]}}}], \"height\": 450, \"width\": 870, \"$schema\": \"https://vega.github.io/schema/vega-lite/v3.4.0.json\", \"datasets\": {\"data-93f1f717c51dde86aa78f36b61751775\": [{\"ds\": \"2019-04-29T00:00:00\", \"trend\": 0.03281495990064371, \"yhat\": 0.03281495990064371, \"yhat_lower\": 0.014817527313660912, \"yhat_upper\": 0.04979867025699031, \"fact\": 0.0515, \"Id\": 1, \"anomaly\": 1, \"importance\": 0.033035528990479415}, {\"ds\": \"2019-05-06T00:00:00\", \"trend\": 0.03296806920858322, \"yhat\": 0.03296806920858322, \"yhat_lower\": 0.015435677708650647, \"yhat_upper\": 0.049835566829176656, \"fact\": 0.0206, \"Id\": 2, \"anomaly\": 0, \"importance\": 0.0}, {\"ds\": \"2019-05-13T00:00:00\", \"trend\": 0.033121178516522735, \"yhat\": 0.033121178516522735, \"yhat_lower\": 0.014938960720048407, \"yhat_upper\": 0.05112445597249988, \"fact\": 0.0559, \"Id\": 3, \"anomaly\": 1, \"importance\": 0.08543012571556566}, {\"ds\": \"2019-05-20T00:00:00\", \"trend\": 0.03327428782446225, \"yhat\": 0.03327428782446225, \"yhat_lower\": 0.016380601351927485, \"yhat_upper\": 0.050863818230135104, \"fact\": null, \"Id\": 4, \"anomaly\": 0, \"importance\": 0.0}, {\"ds\": \"2019-05-27T00:00:00\", \"trend\": 0.03342739713240176, \"yhat\": 0.03342739713240176, \"yhat_lower\": 0.015860511796697258, \"yhat_upper\": 0.04965424469745144, \"fact\": 0.0095, \"Id\": 5, \"anomaly\": -1, \"importance\": 0.6695275575470798}, {\"ds\": \"2019-06-03T00:00:00\", \"trend\": 0.03358050644034127, \"yhat\": 0.03358050644034127, \"yhat_lower\": 0.016223661955203545, \"yhat_upper\": 0.05135869377112312, \"fact\": 0.0082, \"Id\": 6, \"anomaly\": -1, \"importance\": 0.9784953603906761}, {\"ds\": \"2019-06-10T00:00:00\", \"trend\": 0.03373361574866904, \"yhat\": 0.03373361574866904, \"yhat_lower\": 0.016597867867972047, \"yhat_upper\": 0.051530574239078475, \"fact\": 0.0265, \"Id\": 7, \"anomaly\": 0, \"importance\": 0.0}, {\"ds\": \"2019-06-17T00:00:00\", \"trend\": 0.03388672505699681, \"yhat\": 0.03388672505699681, \"yhat_lower\": 0.015148187658135328, \"yhat_upper\": 0.05195464054439894, \"fact\": 0.0348, \"Id\": 8, \"anomaly\": 0, \"importance\": 0.0}, {\"ds\": \"2019-06-24T00:00:00\", \"trend\": 0.034039834365324574, \"yhat\": 0.034039834365324574, \"yhat_lower\": 0.015528665466634325, \"yhat_upper\": 0.052481928890074955, \"fact\": null, \"Id\": 9, \"anomaly\": 0, \"importance\": 0.0}, {\"ds\": \"2019-07-01T00:00:00\", \"trend\": 0.034192943673652346, \"yhat\": 0.034192943673652346, \"yhat_lower\": 0.016329896507367003, \"yhat_upper\": 0.05204698467702187, \"fact\": null, \"Id\": 10, \"anomaly\": 0, \"importance\": 0.0}, {\"ds\": \"2019-07-08T00:00:00\", \"trend\": 0.03434605298198011, \"yhat\": 0.03434605298198011, \"yhat_lower\": 0.01668752125689347, \"yhat_upper\": 0.052989991523591955, \"fact\": 0.0208, \"Id\": 11, \"anomaly\": 0, \"importance\": 0.0}, {\"ds\": \"2019-07-15T00:00:00\", \"trend\": 0.034499162290307875, \"yhat\": 0.034499162290307875, \"yhat_lower\": 0.01591175427517455, \"yhat_upper\": 0.053115870027995074, \"fact\": 0.0624, \"Id\": 12, \"anomaly\": 1, \"importance\": 0.14878413416674557}, {\"ds\": \"2019-07-22T00:00:00\", \"trend\": 0.03465227159421191, \"yhat\": 0.03465227159421191, \"yhat_lower\": 0.017174988771599863, \"yhat_upper\": 0.05223040193782614, \"fact\": null, \"Id\": 13, \"anomaly\": 0, \"importance\": 0.0}, {\"ds\": \"2019-07-29T00:00:00\", \"trend\": 0.03480538089811593, \"yhat\": 0.03480538089811593, \"yhat_lower\": 0.017292095082669524, \"yhat_upper\": 0.05238075275838629, \"fact\": 0.0217, \"Id\": 14, \"anomaly\": 0, \"importance\": 0.0}, {\"ds\": \"2019-08-05T00:00:00\", \"trend\": 0.034958490202019965, \"yhat\": 0.034958490202019965, \"yhat_lower\": 0.017619464817516507, \"yhat_upper\": 0.05122512994041789, \"fact\": 0.0206, \"Id\": 15, \"anomaly\": 0, \"importance\": 0.0}, {\"ds\": \"2019-08-12T00:00:00\", \"trend\": 0.03511159950592399, \"yhat\": 0.03511159950592399, \"yhat_lower\": 0.015703391916745617, \"yhat_upper\": 0.05216200931090803, \"fact\": 0.0543, \"Id\": 16, \"anomaly\": 1, \"importance\": 0.0393736775155059}, {\"ds\": \"2019-08-19T00:00:00\", \"trend\": 0.03526470881081847, \"yhat\": 0.03526470881081847, \"yhat_lower\": 0.018308653668017157, \"yhat_upper\": 0.05150476095468445, \"fact\": 0.0706, \"Id\": 17, \"anomaly\": 1, \"importance\": 0.27047080800730233}, {\"ds\": \"2019-08-26T00:00:00\", \"trend\": 0.03541781811571294, \"yhat\": 0.03541781811571294, \"yhat_lower\": 0.01771946278734224, \"yhat_upper\": 0.051948220401687874, \"fact\": 0.0409, \"Id\": 18, \"anomaly\": 0, \"importance\": 0.0}, {\"ds\": \"2019-09-02T00:00:00\", \"trend\": 0.03557092742060742, \"yhat\": 0.03557092742060742, \"yhat_lower\": 0.018561548672351318, \"yhat_upper\": 0.05526840005252545, \"fact\": null, \"Id\": 19, \"anomaly\": 0, \"importance\": 0.0}, {\"ds\": \"2019-09-09T00:00:00\", \"trend\": 0.0357240367255019, \"yhat\": 0.0357240367255019, \"yhat_lower\": 0.01676907450784796, \"yhat_upper\": 0.052791376069206, \"fact\": 0.0322, \"Id\": 20, \"anomaly\": 0, \"importance\": 0.0}, {\"ds\": \"2019-09-16T00:00:00\", \"trend\": 0.03587714603039637, \"yhat\": 0.03587714603039637, \"yhat_lower\": 0.01831591483166177, \"yhat_upper\": 0.053189491762296086, \"fact\": 0.0382, \"Id\": 21, \"anomaly\": 0, \"importance\": 0.0}, {\"ds\": \"2019-09-23T00:00:00\", \"trend\": 0.03603025533800661, \"yhat\": 0.03603025533800661, \"yhat_lower\": 0.018353701299928537, \"yhat_upper\": 0.054471083453876495, \"fact\": null, \"Id\": 22, \"anomaly\": 0, \"importance\": 0.0}, {\"ds\": \"2019-09-30T00:00:00\", \"trend\": 0.036183364645616854, \"yhat\": 0.036183364645616854, \"yhat_lower\": 0.01660765574498201, \"yhat_upper\": 0.05304410758426756, \"fact\": 0.0406, \"Id\": 23, \"anomaly\": 0, \"importance\": 0.0}, {\"ds\": \"2019-10-07T00:00:00\", \"trend\": 0.036336473953227096, \"yhat\": 0.036336473953227096, \"yhat_lower\": 0.017411119066969488, \"yhat_upper\": 0.05430924630448835, \"fact\": 0.0462, \"Id\": 24, \"anomaly\": 0, \"importance\": 0.0}, {\"ds\": \"2019-10-14T00:00:00\", \"trend\": 0.036489583260837344, \"yhat\": 0.036489583260837344, \"yhat_lower\": 0.018177493088262945, \"yhat_upper\": 0.053764001523901095, \"fact\": 0.0236, \"Id\": 25, \"anomaly\": 0, \"importance\": 0.0}, {\"ds\": \"2019-10-21T00:00:00\", \"trend\": 0.036642692568447585, \"yhat\": 0.036642692568447585, \"yhat_lower\": 0.01738955898963312, \"yhat_upper\": 0.05494989499204002, \"fact\": 0.0156, \"Id\": 26, \"anomaly\": -1, \"importance\": 0.11471531984827707}], \"data-953f3d636f09126e8b0ca615675a232e\": [{\"ds\": \"2019-05-06T00:00:00\", \"trend\": 0.03296806920858322, \"yhat\": 0.03296806920858322, \"yhat_lower\": 0.015435677708650647, \"yhat_upper\": 0.049835566829176656, \"fact\": 0.0206, \"Id\": 2, \"anomaly\": 0, \"importance\": 0.0}, {\"ds\": \"2019-05-20T00:00:00\", \"trend\": 0.03327428782446225, \"yhat\": 0.03327428782446225, \"yhat_lower\": 0.016380601351927485, \"yhat_upper\": 0.050863818230135104, \"fact\": null, \"Id\": 4, \"anomaly\": 0, \"importance\": 0.0}, {\"ds\": \"2019-06-10T00:00:00\", \"trend\": 0.03373361574866904, \"yhat\": 0.03373361574866904, \"yhat_lower\": 0.016597867867972047, \"yhat_upper\": 0.051530574239078475, \"fact\": 0.0265, \"Id\": 7, \"anomaly\": 0, \"importance\": 0.0}, {\"ds\": \"2019-06-17T00:00:00\", \"trend\": 0.03388672505699681, \"yhat\": 0.03388672505699681, \"yhat_lower\": 0.015148187658135328, \"yhat_upper\": 0.05195464054439894, \"fact\": 0.0348, \"Id\": 8, \"anomaly\": 0, \"importance\": 0.0}, {\"ds\": \"2019-06-24T00:00:00\", \"trend\": 0.034039834365324574, \"yhat\": 0.034039834365324574, \"yhat_lower\": 0.015528665466634325, \"yhat_upper\": 0.052481928890074955, \"fact\": null, \"Id\": 9, \"anomaly\": 0, \"importance\": 0.0}, {\"ds\": \"2019-07-01T00:00:00\", \"trend\": 0.034192943673652346, \"yhat\": 0.034192943673652346, \"yhat_lower\": 0.016329896507367003, \"yhat_upper\": 0.05204698467702187, \"fact\": null, \"Id\": 10, \"anomaly\": 0, \"importance\": 0.0}, {\"ds\": \"2019-07-08T00:00:00\", \"trend\": 0.03434605298198011, \"yhat\": 0.03434605298198011, \"yhat_lower\": 0.01668752125689347, \"yhat_upper\": 0.052989991523591955, \"fact\": 0.0208, \"Id\": 11, \"anomaly\": 0, \"importance\": 0.0}, {\"ds\": \"2019-07-22T00:00:00\", \"trend\": 0.03465227159421191, \"yhat\": 0.03465227159421191, \"yhat_lower\": 0.017174988771599863, \"yhat_upper\": 0.05223040193782614, \"fact\": null, \"Id\": 13, \"anomaly\": 0, \"importance\": 0.0}, {\"ds\": \"2019-07-29T00:00:00\", \"trend\": 0.03480538089811593, \"yhat\": 0.03480538089811593, \"yhat_lower\": 0.017292095082669524, \"yhat_upper\": 0.05238075275838629, \"fact\": 0.0217, \"Id\": 14, \"anomaly\": 0, \"importance\": 0.0}, {\"ds\": \"2019-08-05T00:00:00\", \"trend\": 0.034958490202019965, \"yhat\": 0.034958490202019965, \"yhat_lower\": 0.017619464817516507, \"yhat_upper\": 0.05122512994041789, \"fact\": 0.0206, \"Id\": 15, \"anomaly\": 0, \"importance\": 0.0}, {\"ds\": \"2019-08-26T00:00:00\", \"trend\": 0.03541781811571294, \"yhat\": 0.03541781811571294, \"yhat_lower\": 0.01771946278734224, \"yhat_upper\": 0.051948220401687874, \"fact\": 0.0409, \"Id\": 18, \"anomaly\": 0, \"importance\": 0.0}, {\"ds\": \"2019-09-02T00:00:00\", \"trend\": 0.03557092742060742, \"yhat\": 0.03557092742060742, \"yhat_lower\": 0.018561548672351318, \"yhat_upper\": 0.05526840005252545, \"fact\": null, \"Id\": 19, \"anomaly\": 0, \"importance\": 0.0}, {\"ds\": \"2019-09-09T00:00:00\", \"trend\": 0.0357240367255019, \"yhat\": 0.0357240367255019, \"yhat_lower\": 0.01676907450784796, \"yhat_upper\": 0.052791376069206, \"fact\": 0.0322, \"Id\": 20, \"anomaly\": 0, \"importance\": 0.0}, {\"ds\": \"2019-09-16T00:00:00\", \"trend\": 0.03587714603039637, \"yhat\": 0.03587714603039637, \"yhat_lower\": 0.01831591483166177, \"yhat_upper\": 0.053189491762296086, \"fact\": 0.0382, \"Id\": 21, \"anomaly\": 0, \"importance\": 0.0}, {\"ds\": \"2019-09-23T00:00:00\", \"trend\": 0.03603025533800661, \"yhat\": 0.03603025533800661, \"yhat_lower\": 0.018353701299928537, \"yhat_upper\": 0.054471083453876495, \"fact\": null, \"Id\": 22, \"anomaly\": 0, \"importance\": 0.0}, {\"ds\": \"2019-09-30T00:00:00\", \"trend\": 0.036183364645616854, \"yhat\": 0.036183364645616854, \"yhat_lower\": 0.01660765574498201, \"yhat_upper\": 0.05304410758426756, \"fact\": 0.0406, \"Id\": 23, \"anomaly\": 0, \"importance\": 0.0}, {\"ds\": \"2019-10-07T00:00:00\", \"trend\": 0.036336473953227096, \"yhat\": 0.036336473953227096, \"yhat_lower\": 0.017411119066969488, \"yhat_upper\": 0.05430924630448835, \"fact\": 0.0462, \"Id\": 24, \"anomaly\": 0, \"importance\": 0.0}, {\"ds\": \"2019-10-14T00:00:00\", \"trend\": 0.036489583260837344, \"yhat\": 0.036489583260837344, \"yhat_lower\": 0.018177493088262945, \"yhat_upper\": 0.053764001523901095, \"fact\": 0.0236, \"Id\": 25, \"anomaly\": 0, \"importance\": 0.0}], \"data-4e86b1e5ff0b18d90f6550f1063d685c\": [{\"ds\": \"2019-04-29T00:00:00\", \"trend\": 0.03281495990064371, \"yhat\": 0.03281495990064371, \"yhat_lower\": 0.014817527313660912, \"yhat_upper\": 0.04979867025699031, \"fact\": 0.0515, \"Id\": 1, \"anomaly\": 1, \"importance\": 0.033035528990479415}, {\"ds\": \"2019-05-13T00:00:00\", \"trend\": 0.033121178516522735, \"yhat\": 0.033121178516522735, \"yhat_lower\": 0.014938960720048407, \"yhat_upper\": 0.05112445597249988, \"fact\": 0.0559, \"Id\": 3, \"anomaly\": 1, \"importance\": 0.08543012571556566}, {\"ds\": \"2019-05-27T00:00:00\", \"trend\": 0.03342739713240176, \"yhat\": 0.03342739713240176, \"yhat_lower\": 0.015860511796697258, \"yhat_upper\": 0.04965424469745144, \"fact\": 0.0095, \"Id\": 5, \"anomaly\": -1, \"importance\": 0.6695275575470798}, {\"ds\": \"2019-06-03T00:00:00\", \"trend\": 0.03358050644034127, \"yhat\": 0.03358050644034127, \"yhat_lower\": 0.016223661955203545, \"yhat_upper\": 0.05135869377112312, \"fact\": 0.0082, \"Id\": 6, \"anomaly\": -1, \"importance\": 0.9784953603906761}, {\"ds\": \"2019-07-15T00:00:00\", \"trend\": 0.034499162290307875, \"yhat\": 0.034499162290307875, \"yhat_lower\": 0.01591175427517455, \"yhat_upper\": 0.053115870027995074, \"fact\": 0.0624, \"Id\": 12, \"anomaly\": 1, \"importance\": 0.14878413416674557}, {\"ds\": \"2019-08-12T00:00:00\", \"trend\": 0.03511159950592399, \"yhat\": 0.03511159950592399, \"yhat_lower\": 0.015703391916745617, \"yhat_upper\": 0.05216200931090803, \"fact\": 0.0543, \"Id\": 16, \"anomaly\": 1, \"importance\": 0.0393736775155059}, {\"ds\": \"2019-08-19T00:00:00\", \"trend\": 0.03526470881081847, \"yhat\": 0.03526470881081847, \"yhat_lower\": 0.018308653668017157, \"yhat_upper\": 0.05150476095468445, \"fact\": 0.0706, \"Id\": 17, \"anomaly\": 1, \"importance\": 0.27047080800730233}, {\"ds\": \"2019-10-21T00:00:00\", \"trend\": 0.036642692568447585, \"yhat\": 0.036642692568447585, \"yhat_lower\": 0.01738955898963312, \"yhat_upper\": 0.05494989499204002, \"fact\": 0.0156, \"Id\": 26, \"anomaly\": -1, \"importance\": 0.11471531984827707}]}};\n",
       "const opt = {};\n",
       "const type = \"vega-lite\";\n",
       "const id = \"9a6eb381-31e9-44f0-a7c9-8bf50bb98001\";\n",
       "\n",
       "const output_area = this;\n",
       "\n",
       "require([\"nbextensions/jupyter-vega/index\"], function(vega) {\n",
       "  const target = document.createElement(\"div\");\n",
       "  target.id = id;\n",
       "  target.className = \"vega-embed\";\n",
       "\n",
       "  const style = document.createElement(\"style\");\n",
       "  style.textContent = [\n",
       "    \".vega-embed .error p {\",\n",
       "    \"  color: firebrick;\",\n",
       "    \"  font-size: 14px;\",\n",
       "    \"}\",\n",
       "  ].join(\"\\\\n\");\n",
       "\n",
       "  // element is a jQuery wrapped DOM element inside the output area\n",
       "  // see http://ipython.readthedocs.io/en/stable/api/generated/\\\n",
       "  // IPython.display.html#IPython.display.Javascript.__init__\n",
       "  element[0].appendChild(target);\n",
       "  element[0].appendChild(style);\n",
       "\n",
       "  vega.render(\"#\" + id, spec, type, opt, output_area);\n",
       "}, function (err) {\n",
       "  if (err.requireType !== \"scripterror\") {\n",
       "    throw(err);\n",
       "  }\n",
       "});\n"
      ],
      "text/plain": [
       "<vega.vegalite.VegaLite at 0x1da05e2f808>"
      ]
     },
     "metadata": {
      "jupyter-vega": "#9a6eb381-31e9-44f0-a7c9-8bf50bb98001"
     },
     "output_type": "display_data"
    },
    {
     "data": {
      "text/plain": []
     },
     "execution_count": 10,
     "metadata": {},
     "output_type": "execute_result"
    },
    {
     "data": {
      "image/png": "[encoded data removed]"
     },
     "metadata": {
      "jupyter-vega": "#9a6eb381-31e9-44f0-a7c9-8bf50bb98001"
     },
     "output_type": "display_data"
    }
   ],
   "source": [
    "def plot_anomalies(forecasted):\n",
    "    interval = alt.Chart(forecasted).mark_area(interpolate=\"basis\", color = '#7FC97F').encode(\n",
    "    x=alt.X('ds:T',  title ='date'),\n",
    "    y='yhat_upper',\n",
    "    y2='yhat_lower',\n",
    "    tooltip=['ds', 'fact', 'yhat_lower', 'yhat_upper','Id']\n",
    "    ).interactive().properties(\n",
    "        title='Anomaly Detection'\n",
    "    )\n",
    "\n",
    "    fact = alt.Chart(forecasted[forecasted.anomaly==0]).mark_circle(size=15, opacity=0.7, color = 'Black').encode(\n",
    "        x='ds:T',\n",
    "        y=alt.Y('fact', title='bottom reflectance'),    \n",
    "        tooltip=['ds', 'fact', 'yhat_lower', 'yhat_upper','Id']\n",
    "    ).interactive()\n",
    "\n",
    "    anomalies = alt.Chart(forecasted[forecasted.anomaly!=0]).mark_circle(size=30, color = 'Red').encode(\n",
    "        x='ds:T',\n",
    "        y=alt.Y('fact', title='bottom reflectance'),    \n",
    "        tooltip=['ds', 'fact', 'yhat_lower', 'yhat_upper','Id'],\n",
    "        size = alt.Size( 'importance', legend=None)\n",
    "    ).interactive()\n",
    "\n",
    "    return alt.layer(interval, fact, anomalies)\\\n",
    "              .properties(width=870, height=450)\\\n",
    "              .configure_title(fontSize=20)\n",
    "            \n",
    "plot_anomalies(pred2)"
   ]
  },
  {
   "cell_type": "code",
   "execution_count": 20,
   "metadata": {},
   "outputs": [
    {
     "name": "stdout",
     "output_type": "stream",
     "text": [
      "0      1\n",
      "1      2\n",
      "2      3\n",
      "3      4\n",
      "4      5\n",
      "5      6\n",
      "6      7\n",
      "7      8\n",
      "8      9\n",
      "9     10\n",
      "10    11\n",
      "11    12\n",
      "12    13\n",
      "13    14\n",
      "14    15\n",
      "15    16\n",
      "16    17\n",
      "17    18\n",
      "18    19\n",
      "19    20\n",
      "20    21\n",
      "21    22\n",
      "22    23\n",
      "23    24\n",
      "24    25\n",
      "Name: Id, dtype: int64\n"
     ]
    }
   ],
   "source": [
    "print (pred.Id)"
   ]
  },
  {
   "cell_type": "code",
   "execution_count": 21,
   "metadata": {},
   "outputs": [
    {
     "name": "stdout",
     "output_type": "stream",
     "text": [
      "0      1\n",
      "1      2\n",
      "2      3\n",
      "3      4\n",
      "4      5\n",
      "5      6\n",
      "6      7\n",
      "7      8\n",
      "8      9\n",
      "9     10\n",
      "10    11\n",
      "11    12\n",
      "12    13\n",
      "13    14\n",
      "14    15\n",
      "15    16\n",
      "16    17\n",
      "17    18\n",
      "18    19\n",
      "19    20\n",
      "20    21\n",
      "21    22\n",
      "22    23\n",
      "23    24\n",
      "24    25\n",
      "Name: Id, dtype: int64\n"
     ]
    }
   ],
   "source": [
    "print (pred2.Id)"
   ]
  },
  {
   "cell_type": "code",
   "execution_count": 22,
   "metadata": {},
   "outputs": [
    {
     "name": "stdout",
     "output_type": "stream",
     "text": [
      "0      1\n",
      "1      2\n",
      "2      3\n",
      "3      4\n",
      "4      5\n",
      "5      6\n",
      "6      7\n",
      "7      8\n",
      "8      9\n",
      "9     10\n",
      "10    11\n",
      "11    12\n",
      "12    13\n",
      "13    14\n",
      "14    15\n",
      "15    16\n",
      "16    17\n",
      "17    18\n",
      "18    19\n",
      "19    20\n",
      "20    21\n",
      "21    22\n",
      "22    23\n",
      "23    24\n",
      "24    25\n",
      "Name: Id, dtype: int64\n"
     ]
    }
   ],
   "source": [
    "print (pred.Id)"
   ]
  },
  {
   "cell_type": "code",
   "execution_count": 23,
   "metadata": {},
   "outputs": [],
   "source": [
    "upper = pred[pred['fact']>pred['yhat_upper']] \n",
    "lower = pred[pred['fact']<pred['yhat_lower']] \n",
    "#abnorm=pred[pred['anomaly']==0]"
   ]
  },
  {
   "cell_type": "code",
   "execution_count": 24,
   "metadata": {},
   "outputs": [
    {
     "name": "stdout",
     "output_type": "stream",
     "text": [
      "Empty DataFrame\n",
      "Columns: [ds, trend, yhat_lower, yhat_upper, trend_lower, trend_upper, additive_terms, additive_terms_lower, additive_terms_upper, multiplicative_terms, multiplicative_terms_lower, multiplicative_terms_upper, yhat, fact, Id]\n",
      "Index: []\n"
     ]
    }
   ],
   "source": [
    "print (upper)"
   ]
  },
  {
   "cell_type": "code",
   "execution_count": 25,
   "metadata": {},
   "outputs": [
    {
     "data": {
      "text/html": [
       "<table border=\"1\" class=\"dataframe\">\n",
       "  <thead>\n",
       "    <tr style=\"text-align: right;\">\n",
       "      <th></th>\n",
       "      <th>ds</th>\n",
       "      <th>trend</th>\n",
       "      <th>yhat_lower</th>\n",
       "      <th>yhat_upper</th>\n",
       "      <th>trend_lower</th>\n",
       "      <th>trend_upper</th>\n",
       "      <th>additive_terms</th>\n",
       "      <th>additive_terms_lower</th>\n",
       "      <th>additive_terms_upper</th>\n",
       "      <th>multiplicative_terms</th>\n",
       "      <th>multiplicative_terms_lower</th>\n",
       "      <th>multiplicative_terms_upper</th>\n",
       "      <th>yhat</th>\n",
       "      <th>fact</th>\n",
       "      <th>Id</th>\n",
       "    </tr>\n",
       "  </thead>\n",
       "  <tbody>\n",
       "  </tbody>\n",
       "</table>"
      ],
      "text/plain": [
       "<IPython.core.display.HTML object>"
      ]
     },
     "metadata": {},
     "output_type": "display_data"
    }
   ],
   "source": [
    "from IPython.core.display import HTML\n",
    "display(HTML(upper.to_html()))"
   ]
  },
  {
   "cell_type": "code",
   "execution_count": null,
   "metadata": {},
   "outputs": [],
   "source": []
  }
 ],
 "metadata": {
  "kernelspec": {
   "display_name": "Python 3",
   "language": "python",
   "name": "python3"
  },
  "language_info": {
   "codemirror_mode": {
    "name": "ipython",
    "version": 3
   },
   "file_extension": ".py",
   "mimetype": "text/x-python",
   "name": "python",
   "nbconvert_exporter": "python",
   "pygments_lexer": "ipython3",
   "version": "3.7.4"
  }
 },
 "nbformat": 4,
 "nbformat_minor": 2
}
