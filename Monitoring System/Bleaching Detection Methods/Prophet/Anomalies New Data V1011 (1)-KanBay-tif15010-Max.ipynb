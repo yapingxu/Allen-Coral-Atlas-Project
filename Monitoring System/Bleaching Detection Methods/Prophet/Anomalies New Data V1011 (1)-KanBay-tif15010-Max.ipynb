{
 "cells": [
  {
   "cell_type": "code",
   "execution_count": 1,
   "metadata": {},
   "outputs": [],
   "source": [
    "import pandas as pd\n",
    "\n",
    "\n",
    "from dbfread import DBF\n",
    "from pandas import DataFrame\n",
    "\n",
    "df2 = pd.read_excel(\"C:\\\\Users\\\\yapingxu.ASURITE\\\\Documents\\\\Allen Coral Atlas\\\\L15-0126E-1148N_br.tif15010\\\\tif15010max.xlsx\")\n",
    "#dbf = DBF(\"C:\\\\Users\\\\yapingxu.ASURITE\\\\Documents\\\\Allen Coral Atlas\\\\Oahu\\\\bottom_reprocess\\\\kanbay\\\\CoralClip\\\\ShpData\\\\ValidLocationsMean.dbf\", load=True)\n",
    "#dbf = DBF(\"D:\\\\LCL\\\\LCL\\\\yaping coral reef\\\\ShpData\\\\ShpData\\\\ValidLocationsMean.dbf\", load=True)\n",
    "#df = DataFrame(iter(dbf))\n",
    "\n",
    "#from simpledbf import Dbf5\n",
    "# dbf = Dbf5(\"C:\\\\Users\\\\LCL\\\\Allen Coral Atlas\\\\ShpData\\\\ValidLocationsMax.dbf\")\n",
    "\n",
    "#import geopandas as gpd\n",
    "#gpddf = gpd.read_file(\"C:\\\\Users\\\\yapingxu.ASURITE\\\\Documents\\\\Allen Coral Atlas\\\\Oahu\\\\bottom_reprocess\\\\kanbay\\\\CoralClip\\\\ShpData\\\\ValidLocationsMean.dbf\",float_precision='high') \n",
    "#df=pd.DataFrame(gpddf)\n",
    "\n",
    "\n",
    "#df1 = gpd.GeoDataFrame.from_file(u\"C:\\\\Users\\\\yapingxu.ASURITE\\\\Documents\\\\Allen Coral Atlas\\\\Oahu\\\\bottom_reprocess\\\\kanbay\\\\CoralClip\\\\ShpData\\\\ValidLocationsMean.dbf\")\n",
    "#df = pd.DataFrame(df1)\n",
    "\n",
    "##df = dbf.to_dataframe()\n",
    "#df\n"
   ]
  },
  {
   "cell_type": "code",
   "execution_count": 2,
   "metadata": {},
   "outputs": [
    {
     "data": {
      "text/plain": [
       "False"
      ]
     },
     "execution_count": 2,
     "metadata": {},
     "output_type": "execute_result"
    }
   ],
   "source": [
    "import sys\n",
    "'geopandas' in sys.modules"
   ]
  },
  {
   "cell_type": "code",
   "execution_count": 3,
   "metadata": {},
   "outputs": [
    {
     "data": {
      "text/html": [
       "<div>\n",
       "<style scoped>\n",
       "    .dataframe tbody tr th:only-of-type {\n",
       "        vertical-align: middle;\n",
       "    }\n",
       "\n",
       "    .dataframe tbody tr th {\n",
       "        vertical-align: top;\n",
       "    }\n",
       "\n",
       "    .dataframe thead th {\n",
       "        text-align: right;\n",
       "    }\n",
       "</style>\n",
       "<table border=\"1\" class=\"dataframe\">\n",
       "  <thead>\n",
       "    <tr style=\"text-align: right;\">\n",
       "      <th></th>\n",
       "      <th>Id</th>\n",
       "      <th>ds</th>\n",
       "      <th>y</th>\n",
       "    </tr>\n",
       "  </thead>\n",
       "  <tbody>\n",
       "    <tr>\n",
       "      <td>0</td>\n",
       "      <td>1</td>\n",
       "      <td>20190429</td>\n",
       "      <td>0.0423</td>\n",
       "    </tr>\n",
       "    <tr>\n",
       "      <td>1</td>\n",
       "      <td>2</td>\n",
       "      <td>20190506</td>\n",
       "      <td>0.0272</td>\n",
       "    </tr>\n",
       "    <tr>\n",
       "      <td>2</td>\n",
       "      <td>3</td>\n",
       "      <td>20190513</td>\n",
       "      <td>0.0588</td>\n",
       "    </tr>\n",
       "    <tr>\n",
       "      <td>3</td>\n",
       "      <td>4</td>\n",
       "      <td>20190520</td>\n",
       "      <td>0.0513</td>\n",
       "    </tr>\n",
       "    <tr>\n",
       "      <td>4</td>\n",
       "      <td>5</td>\n",
       "      <td>20190527</td>\n",
       "      <td>NaN</td>\n",
       "    </tr>\n",
       "  </tbody>\n",
       "</table>\n",
       "</div>"
      ],
      "text/plain": [
       "   Id        ds       y\n",
       "0   1  20190429  0.0423\n",
       "1   2  20190506  0.0272\n",
       "2   3  20190513  0.0588\n",
       "3   4  20190520  0.0513\n",
       "4   5  20190527     NaN"
      ]
     },
     "execution_count": 3,
     "metadata": {},
     "output_type": "execute_result"
    }
   ],
   "source": [
    "df2.head()"
   ]
  },
  {
   "cell_type": "code",
   "execution_count": 4,
   "metadata": {},
   "outputs": [
    {
     "data": {
      "text/plain": [
       "25"
      ]
     },
     "execution_count": 4,
     "metadata": {},
     "output_type": "execute_result"
    }
   ],
   "source": [
    "len(df2)"
   ]
  },
  {
   "cell_type": "code",
   "execution_count": 8,
   "metadata": {},
   "outputs": [],
   "source": [
    "import pandas as pd\n",
    "from fbprophet import Prophet\n",
    "import matplotlib\n",
    "import altair as alt\n",
    "alt.renderers.enable('notebook')\n",
    "from vega_datasets import data\n",
    "\n",
    "from altair import pipe, limit_rows, to_values\n",
    "t = lambda data: pipe(data, limit_rows(max_rows=110000), to_values) # default is 5000 rows, changed to 6000 to display total rows.\n",
    "alt.data_transformers.register('custom', t)\n",
    "alt.data_transformers.enable('custom')\n",
    "\n",
    "#df1 = pd.read_excel(\"C:\\\\Users\\\\yapingxu\\\\Documents\\\\TimeSeriesPython\\\\Oahu\\\\DataCSV - Copy.xlsx\")\n",
    "def fit_predict_model(dataframe, interval_width = 0.90, n_changepoints =1):\n",
    "    m = Prophet(daily_seasonality = False, yearly_seasonality = False, weekly_seasonality = False,\n",
    "                seasonality_mode = 'additive', \n",
    "                interval_width = interval_width,\n",
    "                n_changepoints = n_changepoints\n",
    "                )\n",
    "                #changepoint_range = changepoint_range)\n",
    "    m = m.fit(dataframe)\n",
    "    forecast = m.predict(dataframe)\n",
    "    forecast['fact'] = dataframe['y'].reset_index(drop = True)\n",
    "    forecast['Id'] = dataframe['Id']\n",
    "    return forecast\n",
    "    \n",
    "pred = fit_predict_model(df2)"
   ]
  },
  {
   "cell_type": "code",
   "execution_count": 9,
   "metadata": {},
   "outputs": [],
   "source": [
    "def detect_anomalies(forecast):\n",
    "    forecasted = forecast[['ds','trend', 'yhat', 'yhat_lower', 'yhat_upper', 'fact','Id']].copy()\n",
    "    #forecast['fact'] = df['y']\n",
    "\n",
    "    forecasted['anomaly'] = 0\n",
    "    forecasted.loc[forecasted['fact'] > forecasted['yhat_upper'], 'anomaly'] = 1\n",
    "    forecasted.loc[forecasted['fact'] < forecasted['yhat_lower'], 'anomaly'] = -1\n",
    "\n",
    "    #anomaly importances, define the size of the red points\n",
    "    forecasted['importance'] = 0\n",
    "    forecasted.loc[forecasted['anomaly'] ==1, 'importance'] = \\\n",
    "        (forecasted['fact'] - forecasted['yhat_upper'])/forecast['fact']\n",
    "    forecasted.loc[forecasted['anomaly'] ==-1, 'importance'] = \\\n",
    "        (forecasted['yhat_lower'] - forecasted['fact'])/forecast['fact']\n",
    "    \n",
    "    return forecasted\n",
    "\n",
    "pred2 = detect_anomalies(pred)"
   ]
  },
  {
   "cell_type": "code",
   "execution_count": 10,
   "metadata": {
    "scrolled": true
   },
   "outputs": [
    {
     "data": {
      "application/javascript": [
       "const spec = {\"config\": {\"view\": {\"width\": 400, \"height\": 300}, \"mark\": {\"tooltip\": null}, \"title\": {\"fontSize\": 20}}, \"layer\": [{\"data\": {\"name\": \"data-dceae23ff985b395e5b70a6bd6e524d5\"}, \"mark\": {\"type\": \"area\", \"color\": \"#7FC97F\", \"interpolate\": \"basis\"}, \"encoding\": {\"tooltip\": [{\"type\": \"temporal\", \"field\": \"ds\"}, {\"type\": \"quantitative\", \"field\": \"fact\"}, {\"type\": \"quantitative\", \"field\": \"yhat_lower\"}, {\"type\": \"quantitative\", \"field\": \"yhat_upper\"}, {\"type\": \"quantitative\", \"field\": \"Id\"}], \"x\": {\"type\": \"temporal\", \"field\": \"ds\", \"title\": \"date\"}, \"y\": {\"type\": \"quantitative\", \"field\": \"yhat_upper\"}, \"y2\": {\"field\": \"yhat_lower\"}}, \"selection\": {\"selector004\": {\"type\": \"interval\", \"bind\": \"scales\", \"encodings\": [\"x\", \"y\"]}}, \"title\": \"Anomaly Detection\"}, {\"data\": {\"name\": \"data-2cefdd189e4561c91e8d6e4f85eb9117\"}, \"mark\": {\"type\": \"circle\", \"color\": \"Black\", \"opacity\": 0.7, \"size\": 15}, \"encoding\": {\"tooltip\": [{\"type\": \"temporal\", \"field\": \"ds\"}, {\"type\": \"quantitative\", \"field\": \"fact\"}, {\"type\": \"quantitative\", \"field\": \"yhat_lower\"}, {\"type\": \"quantitative\", \"field\": \"yhat_upper\"}, {\"type\": \"quantitative\", \"field\": \"Id\"}], \"x\": {\"type\": \"temporal\", \"field\": \"ds\"}, \"y\": {\"type\": \"quantitative\", \"field\": \"fact\", \"title\": \"bottom reflectance\"}}, \"selection\": {\"selector005\": {\"type\": \"interval\", \"bind\": \"scales\", \"encodings\": [\"x\", \"y\"]}}}, {\"data\": {\"name\": \"data-137ca46d8287acd9d3496ca5aea60463\"}, \"mark\": {\"type\": \"circle\", \"color\": \"Red\", \"size\": 30}, \"encoding\": {\"size\": {\"type\": \"quantitative\", \"field\": \"importance\", \"legend\": null}, \"tooltip\": [{\"type\": \"temporal\", \"field\": \"ds\"}, {\"type\": \"quantitative\", \"field\": \"fact\"}, {\"type\": \"quantitative\", \"field\": \"yhat_lower\"}, {\"type\": \"quantitative\", \"field\": \"yhat_upper\"}, {\"type\": \"quantitative\", \"field\": \"Id\"}], \"x\": {\"type\": \"temporal\", \"field\": \"ds\"}, \"y\": {\"type\": \"quantitative\", \"field\": \"fact\", \"title\": \"bottom reflectance\"}}, \"selection\": {\"selector006\": {\"type\": \"interval\", \"bind\": \"scales\", \"encodings\": [\"x\", \"y\"]}}}], \"height\": 450, \"width\": 870, \"$schema\": \"https://vega.github.io/schema/vega-lite/v3.4.0.json\", \"datasets\": {\"data-dceae23ff985b395e5b70a6bd6e524d5\": [{\"ds\": \"2019-04-29T00:00:00\", \"trend\": 0.04433833648129495, \"yhat\": 0.04433833648129495, \"yhat_lower\": 0.0007638817134193526, \"yhat_upper\": 0.08251397728050505, \"fact\": 0.0423, \"Id\": 1, \"anomaly\": 0, \"importance\": 0.0}, {\"ds\": \"2019-05-06T00:00:00\", \"trend\": 0.0447316139653658, \"yhat\": 0.0447316139653658, \"yhat_lower\": 0.005884835793224502, \"yhat_upper\": 0.08387705485807825, \"fact\": 0.0272, \"Id\": 2, \"anomaly\": 0, \"importance\": 0.0}, {\"ds\": \"2019-05-13T00:00:00\", \"trend\": 0.04512489144943664, \"yhat\": 0.04512489144943664, \"yhat_lower\": 0.00767669710675076, \"yhat_upper\": 0.08587081705044984, \"fact\": 0.0588, \"Id\": 3, \"anomaly\": 0, \"importance\": 0.0}, {\"ds\": \"2019-05-20T00:00:00\", \"trend\": 0.0455181689335075, \"yhat\": 0.0455181689335075, \"yhat_lower\": 0.0030505572128660704, \"yhat_upper\": 0.08590107855683854, \"fact\": 0.0513, \"Id\": 4, \"anomaly\": 0, \"importance\": 0.0}, {\"ds\": \"2019-05-27T00:00:00\", \"trend\": 0.04591144641757834, \"yhat\": 0.04591144641757834, \"yhat_lower\": 0.0044495132030486955, \"yhat_upper\": 0.08176297932968589, \"fact\": null, \"Id\": 5, \"anomaly\": 0, \"importance\": 0.0}, {\"ds\": \"2019-06-03T00:00:00\", \"trend\": 0.04630472390164919, \"yhat\": 0.04630472390164919, \"yhat_lower\": 0.006865910161842466, \"yhat_upper\": 0.08562847400185092, \"fact\": 0.028, \"Id\": 6, \"anomaly\": 0, \"importance\": 0.0}, {\"ds\": \"2019-06-10T00:00:00\", \"trend\": 0.046698001385720035, \"yhat\": 0.046698001385720035, \"yhat_lower\": 0.004586773308313281, \"yhat_upper\": 0.08557564353924886, \"fact\": 0.0521, \"Id\": 7, \"anomaly\": 0, \"importance\": 0.0}, {\"ds\": \"2019-06-17T00:00:00\", \"trend\": 0.047091278869790885, \"yhat\": 0.047091278869790885, \"yhat_lower\": 0.004102262321220736, \"yhat_upper\": 0.08580203479038533, \"fact\": null, \"Id\": 8, \"anomaly\": 0, \"importance\": 0.0}, {\"ds\": \"2019-07-01T00:00:00\", \"trend\": 0.047877833837932586, \"yhat\": 0.047877833837932586, \"yhat_lower\": 0.005935551128728977, \"yhat_upper\": 0.0876187517155533, \"fact\": 0.0093, \"Id\": 9, \"anomaly\": 0, \"importance\": 0.0}, {\"ds\": \"2019-07-08T00:00:00\", \"trend\": 0.04827111132200343, \"yhat\": 0.04827111132200343, \"yhat_lower\": 0.008057065940801557, \"yhat_upper\": 0.08704426250574872, \"fact\": 0.0772, \"Id\": 10, \"anomaly\": 0, \"importance\": 0.0}, {\"ds\": \"2019-07-15T00:00:00\", \"trend\": 0.04866438880607428, \"yhat\": 0.04866438880607428, \"yhat_lower\": 0.0067647397031527666, \"yhat_upper\": 0.08950094316717926, \"fact\": null, \"Id\": 11, \"anomaly\": 0, \"importance\": 0.0}, {\"ds\": \"2019-07-22T00:00:00\", \"trend\": 0.04905766629014512, \"yhat\": 0.04905766629014512, \"yhat_lower\": 0.009371693374779562, \"yhat_upper\": 0.08728938985754922, \"fact\": 0.0373, \"Id\": 12, \"anomaly\": 0, \"importance\": 0.0}, {\"ds\": \"2019-07-29T00:00:00\", \"trend\": 0.04945094377421597, \"yhat\": 0.04945094377421597, \"yhat_lower\": 0.009012306100962096, \"yhat_upper\": 0.08956069368535201, \"fact\": 0.0392, \"Id\": 13, \"anomaly\": 0, \"importance\": 0.0}, {\"ds\": \"2019-08-05T00:00:00\", \"trend\": 0.049844221258286824, \"yhat\": 0.049844221258286824, \"yhat_lower\": 0.008760300562732037, \"yhat_upper\": 0.09071209759329235, \"fact\": 0.0527, \"Id\": 14, \"anomaly\": 0, \"importance\": 0.0}, {\"ds\": \"2019-08-12T00:00:00\", \"trend\": 0.050237498742357674, \"yhat\": 0.050237498742357674, \"yhat_lower\": 0.01063305252525644, \"yhat_upper\": 0.09004138947457195, \"fact\": 0.0762, \"Id\": 15, \"anomaly\": 0, \"importance\": 0.0}, {\"ds\": \"2019-08-19T00:00:00\", \"trend\": 0.05063077622642852, \"yhat\": 0.05063077622642852, \"yhat_lower\": 0.013459208577780265, \"yhat_upper\": 0.09366292977192744, \"fact\": 0.1193, \"Id\": 16, \"anomaly\": 1, \"importance\": 0.21489581079692002}, {\"ds\": \"2019-08-26T00:00:00\", \"trend\": 0.05102405371049937, \"yhat\": 0.05102405371049937, \"yhat_lower\": 0.0105394930532709, \"yhat_upper\": 0.0899940820123684, \"fact\": 0.0184, \"Id\": 17, \"anomaly\": 0, \"importance\": 0.0}, {\"ds\": \"2019-09-02T00:00:00\", \"trend\": 0.05141733119457021, \"yhat\": 0.05141733119457021, \"yhat_lower\": 0.013462578897248311, \"yhat_upper\": 0.08964515091383721, \"fact\": null, \"Id\": 18, \"anomaly\": 0, \"importance\": 0.0}, {\"ds\": \"2019-09-09T00:00:00\", \"trend\": 0.05181060867864106, \"yhat\": 0.05181060867864106, \"yhat_lower\": 0.012910636713250831, \"yhat_upper\": 0.09095310556093675, \"fact\": 0.0654, \"Id\": 19, \"anomaly\": 0, \"importance\": 0.0}, {\"ds\": \"2019-09-16T00:00:00\", \"trend\": 0.052203886162711904, \"yhat\": 0.052203886162711904, \"yhat_lower\": 0.011510870247954105, \"yhat_upper\": 0.0897072626592378, \"fact\": 0.0401, \"Id\": 20, \"anomaly\": 0, \"importance\": 0.0}, {\"ds\": \"2019-09-23T00:00:00\", \"trend\": 0.05259717079227312, \"yhat\": 0.05259717079227312, \"yhat_lower\": 0.012510350823148322, \"yhat_upper\": 0.09500602582457474, \"fact\": 0.0673, \"Id\": 21, \"anomaly\": 0, \"importance\": 0.0}, {\"ds\": \"2019-09-30T00:00:00\", \"trend\": 0.05299045542183433, \"yhat\": 0.05299045542183433, \"yhat_lower\": 0.014059471723525443, \"yhat_upper\": 0.09295744871937049, \"fact\": 0.05, \"Id\": 22, \"anomaly\": 0, \"importance\": 0.0}, {\"ds\": \"2019-10-07T00:00:00\", \"trend\": 0.053383740051395547, \"yhat\": 0.053383740051395547, \"yhat_lower\": 0.01495735881233123, \"yhat_upper\": 0.09310335989209997, \"fact\": 0.0723, \"Id\": 23, \"anomaly\": 0, \"importance\": 0.0}, {\"ds\": \"2019-10-14T00:00:00\", \"trend\": 0.053777024680956756, \"yhat\": 0.053777024680956756, \"yhat_lower\": 0.014565899154795878, \"yhat_upper\": 0.09222146209055823, \"fact\": 0.0321, \"Id\": 24, \"anomaly\": 0, \"importance\": 0.0}, {\"ds\": \"2019-10-21T00:00:00\", \"trend\": 0.05417030931051797, \"yhat\": 0.05417030931051797, \"yhat_lower\": 0.015861099526130067, \"yhat_upper\": 0.0928438727985449, \"fact\": 0.0212, \"Id\": 25, \"anomaly\": 0, \"importance\": 0.0}], \"data-2cefdd189e4561c91e8d6e4f85eb9117\": [{\"ds\": \"2019-04-29T00:00:00\", \"trend\": 0.04433833648129495, \"yhat\": 0.04433833648129495, \"yhat_lower\": 0.0007638817134193526, \"yhat_upper\": 0.08251397728050505, \"fact\": 0.0423, \"Id\": 1, \"anomaly\": 0, \"importance\": 0.0}, {\"ds\": \"2019-05-06T00:00:00\", \"trend\": 0.0447316139653658, \"yhat\": 0.0447316139653658, \"yhat_lower\": 0.005884835793224502, \"yhat_upper\": 0.08387705485807825, \"fact\": 0.0272, \"Id\": 2, \"anomaly\": 0, \"importance\": 0.0}, {\"ds\": \"2019-05-13T00:00:00\", \"trend\": 0.04512489144943664, \"yhat\": 0.04512489144943664, \"yhat_lower\": 0.00767669710675076, \"yhat_upper\": 0.08587081705044984, \"fact\": 0.0588, \"Id\": 3, \"anomaly\": 0, \"importance\": 0.0}, {\"ds\": \"2019-05-20T00:00:00\", \"trend\": 0.0455181689335075, \"yhat\": 0.0455181689335075, \"yhat_lower\": 0.0030505572128660704, \"yhat_upper\": 0.08590107855683854, \"fact\": 0.0513, \"Id\": 4, \"anomaly\": 0, \"importance\": 0.0}, {\"ds\": \"2019-05-27T00:00:00\", \"trend\": 0.04591144641757834, \"yhat\": 0.04591144641757834, \"yhat_lower\": 0.0044495132030486955, \"yhat_upper\": 0.08176297932968589, \"fact\": null, \"Id\": 5, \"anomaly\": 0, \"importance\": 0.0}, {\"ds\": \"2019-06-03T00:00:00\", \"trend\": 0.04630472390164919, \"yhat\": 0.04630472390164919, \"yhat_lower\": 0.006865910161842466, \"yhat_upper\": 0.08562847400185092, \"fact\": 0.028, \"Id\": 6, \"anomaly\": 0, \"importance\": 0.0}, {\"ds\": \"2019-06-10T00:00:00\", \"trend\": 0.046698001385720035, \"yhat\": 0.046698001385720035, \"yhat_lower\": 0.004586773308313281, \"yhat_upper\": 0.08557564353924886, \"fact\": 0.0521, \"Id\": 7, \"anomaly\": 0, \"importance\": 0.0}, {\"ds\": \"2019-06-17T00:00:00\", \"trend\": 0.047091278869790885, \"yhat\": 0.047091278869790885, \"yhat_lower\": 0.004102262321220736, \"yhat_upper\": 0.08580203479038533, \"fact\": null, \"Id\": 8, \"anomaly\": 0, \"importance\": 0.0}, {\"ds\": \"2019-07-01T00:00:00\", \"trend\": 0.047877833837932586, \"yhat\": 0.047877833837932586, \"yhat_lower\": 0.005935551128728977, \"yhat_upper\": 0.0876187517155533, \"fact\": 0.0093, \"Id\": 9, \"anomaly\": 0, \"importance\": 0.0}, {\"ds\": \"2019-07-08T00:00:00\", \"trend\": 0.04827111132200343, \"yhat\": 0.04827111132200343, \"yhat_lower\": 0.008057065940801557, \"yhat_upper\": 0.08704426250574872, \"fact\": 0.0772, \"Id\": 10, \"anomaly\": 0, \"importance\": 0.0}, {\"ds\": \"2019-07-15T00:00:00\", \"trend\": 0.04866438880607428, \"yhat\": 0.04866438880607428, \"yhat_lower\": 0.0067647397031527666, \"yhat_upper\": 0.08950094316717926, \"fact\": null, \"Id\": 11, \"anomaly\": 0, \"importance\": 0.0}, {\"ds\": \"2019-07-22T00:00:00\", \"trend\": 0.04905766629014512, \"yhat\": 0.04905766629014512, \"yhat_lower\": 0.009371693374779562, \"yhat_upper\": 0.08728938985754922, \"fact\": 0.0373, \"Id\": 12, \"anomaly\": 0, \"importance\": 0.0}, {\"ds\": \"2019-07-29T00:00:00\", \"trend\": 0.04945094377421597, \"yhat\": 0.04945094377421597, \"yhat_lower\": 0.009012306100962096, \"yhat_upper\": 0.08956069368535201, \"fact\": 0.0392, \"Id\": 13, \"anomaly\": 0, \"importance\": 0.0}, {\"ds\": \"2019-08-05T00:00:00\", \"trend\": 0.049844221258286824, \"yhat\": 0.049844221258286824, \"yhat_lower\": 0.008760300562732037, \"yhat_upper\": 0.09071209759329235, \"fact\": 0.0527, \"Id\": 14, \"anomaly\": 0, \"importance\": 0.0}, {\"ds\": \"2019-08-12T00:00:00\", \"trend\": 0.050237498742357674, \"yhat\": 0.050237498742357674, \"yhat_lower\": 0.01063305252525644, \"yhat_upper\": 0.09004138947457195, \"fact\": 0.0762, \"Id\": 15, \"anomaly\": 0, \"importance\": 0.0}, {\"ds\": \"2019-08-26T00:00:00\", \"trend\": 0.05102405371049937, \"yhat\": 0.05102405371049937, \"yhat_lower\": 0.0105394930532709, \"yhat_upper\": 0.0899940820123684, \"fact\": 0.0184, \"Id\": 17, \"anomaly\": 0, \"importance\": 0.0}, {\"ds\": \"2019-09-02T00:00:00\", \"trend\": 0.05141733119457021, \"yhat\": 0.05141733119457021, \"yhat_lower\": 0.013462578897248311, \"yhat_upper\": 0.08964515091383721, \"fact\": null, \"Id\": 18, \"anomaly\": 0, \"importance\": 0.0}, {\"ds\": \"2019-09-09T00:00:00\", \"trend\": 0.05181060867864106, \"yhat\": 0.05181060867864106, \"yhat_lower\": 0.012910636713250831, \"yhat_upper\": 0.09095310556093675, \"fact\": 0.0654, \"Id\": 19, \"anomaly\": 0, \"importance\": 0.0}, {\"ds\": \"2019-09-16T00:00:00\", \"trend\": 0.052203886162711904, \"yhat\": 0.052203886162711904, \"yhat_lower\": 0.011510870247954105, \"yhat_upper\": 0.0897072626592378, \"fact\": 0.0401, \"Id\": 20, \"anomaly\": 0, \"importance\": 0.0}, {\"ds\": \"2019-09-23T00:00:00\", \"trend\": 0.05259717079227312, \"yhat\": 0.05259717079227312, \"yhat_lower\": 0.012510350823148322, \"yhat_upper\": 0.09500602582457474, \"fact\": 0.0673, \"Id\": 21, \"anomaly\": 0, \"importance\": 0.0}, {\"ds\": \"2019-09-30T00:00:00\", \"trend\": 0.05299045542183433, \"yhat\": 0.05299045542183433, \"yhat_lower\": 0.014059471723525443, \"yhat_upper\": 0.09295744871937049, \"fact\": 0.05, \"Id\": 22, \"anomaly\": 0, \"importance\": 0.0}, {\"ds\": \"2019-10-07T00:00:00\", \"trend\": 0.053383740051395547, \"yhat\": 0.053383740051395547, \"yhat_lower\": 0.01495735881233123, \"yhat_upper\": 0.09310335989209997, \"fact\": 0.0723, \"Id\": 23, \"anomaly\": 0, \"importance\": 0.0}, {\"ds\": \"2019-10-14T00:00:00\", \"trend\": 0.053777024680956756, \"yhat\": 0.053777024680956756, \"yhat_lower\": 0.014565899154795878, \"yhat_upper\": 0.09222146209055823, \"fact\": 0.0321, \"Id\": 24, \"anomaly\": 0, \"importance\": 0.0}, {\"ds\": \"2019-10-21T00:00:00\", \"trend\": 0.05417030931051797, \"yhat\": 0.05417030931051797, \"yhat_lower\": 0.015861099526130067, \"yhat_upper\": 0.0928438727985449, \"fact\": 0.0212, \"Id\": 25, \"anomaly\": 0, \"importance\": 0.0}], \"data-137ca46d8287acd9d3496ca5aea60463\": [{\"ds\": \"2019-08-19T00:00:00\", \"trend\": 0.05063077622642852, \"yhat\": 0.05063077622642852, \"yhat_lower\": 0.013459208577780265, \"yhat_upper\": 0.09366292977192744, \"fact\": 0.1193, \"Id\": 16, \"anomaly\": 1, \"importance\": 0.21489581079692002}]}};\n",
       "const opt = {};\n",
       "const type = \"vega-lite\";\n",
       "const id = \"e963ff7a-538f-4d98-961d-574467fc9e64\";\n",
       "\n",
       "const output_area = this;\n",
       "\n",
       "require([\"nbextensions/jupyter-vega/index\"], function(vega) {\n",
       "  const target = document.createElement(\"div\");\n",
       "  target.id = id;\n",
       "  target.className = \"vega-embed\";\n",
       "\n",
       "  const style = document.createElement(\"style\");\n",
       "  style.textContent = [\n",
       "    \".vega-embed .error p {\",\n",
       "    \"  color: firebrick;\",\n",
       "    \"  font-size: 14px;\",\n",
       "    \"}\",\n",
       "  ].join(\"\\\\n\");\n",
       "\n",
       "  // element is a jQuery wrapped DOM element inside the output area\n",
       "  // see http://ipython.readthedocs.io/en/stable/api/generated/\\\n",
       "  // IPython.display.html#IPython.display.Javascript.__init__\n",
       "  element[0].appendChild(target);\n",
       "  element[0].appendChild(style);\n",
       "\n",
       "  vega.render(\"#\" + id, spec, type, opt, output_area);\n",
       "}, function (err) {\n",
       "  if (err.requireType !== \"scripterror\") {\n",
       "    throw(err);\n",
       "  }\n",
       "});\n"
      ],
      "text/plain": [
       "<vega.vegalite.VegaLite at 0x19168d7f208>"
      ]
     },
     "metadata": {
      "jupyter-vega": "#e963ff7a-538f-4d98-961d-574467fc9e64"
     },
     "output_type": "display_data"
    },
    {
     "data": {
      "text/plain": []
     },
     "execution_count": 10,
     "metadata": {},
     "output_type": "execute_result"
    },
    {
     "data": {
      "image/png": "[encoded data removed]"
     },
     "metadata": {
      "jupyter-vega": "#e963ff7a-538f-4d98-961d-574467fc9e64"
     },
     "output_type": "display_data"
    }
   ],
   "source": [
    "def plot_anomalies(forecasted):\n",
    "    interval = alt.Chart(forecasted).mark_area(interpolate=\"basis\", color = '#7FC97F').encode(\n",
    "    x=alt.X('ds:T',  title ='date'),\n",
    "    y='yhat_upper',\n",
    "    y2='yhat_lower',\n",
    "    tooltip=['ds', 'fact', 'yhat_lower', 'yhat_upper','Id']\n",
    "    ).interactive().properties(\n",
    "        title='Anomaly Detection'\n",
    "    )\n",
    "\n",
    "    fact = alt.Chart(forecasted[forecasted.anomaly==0]).mark_circle(size=15, opacity=0.7, color = 'Black').encode(\n",
    "        x='ds:T',\n",
    "        y=alt.Y('fact', title='bottom reflectance'),    \n",
    "        tooltip=['ds', 'fact', 'yhat_lower', 'yhat_upper','Id']\n",
    "    ).interactive()\n",
    "\n",
    "    anomalies = alt.Chart(forecasted[forecasted.anomaly!=0]).mark_circle(size=30, color = 'Red').encode(\n",
    "        x='ds:T',\n",
    "        y=alt.Y('fact', title='bottom reflectance'),    \n",
    "        tooltip=['ds', 'fact', 'yhat_lower', 'yhat_upper','Id'],\n",
    "        size = alt.Size( 'importance', legend=None)\n",
    "    ).interactive()\n",
    "\n",
    "    return alt.layer(interval, fact, anomalies)\\\n",
    "              .properties(width=870, height=450)\\\n",
    "              .configure_title(fontSize=20)\n",
    "            \n",
    "plot_anomalies(pred2)"
   ]
  },
  {
   "cell_type": "code",
   "execution_count": 20,
   "metadata": {},
   "outputs": [
    {
     "name": "stdout",
     "output_type": "stream",
     "text": [
      "0      1\n",
      "1      2\n",
      "2      3\n",
      "3      4\n",
      "4      5\n",
      "5      6\n",
      "6      7\n",
      "7      8\n",
      "8      9\n",
      "9     10\n",
      "10    11\n",
      "11    12\n",
      "12    13\n",
      "13    14\n",
      "14    15\n",
      "15    16\n",
      "16    17\n",
      "17    18\n",
      "18    19\n",
      "19    20\n",
      "20    21\n",
      "21    22\n",
      "22    23\n",
      "23    24\n",
      "24    25\n",
      "Name: Id, dtype: int64\n"
     ]
    }
   ],
   "source": [
    "print (pred.Id)"
   ]
  },
  {
   "cell_type": "code",
   "execution_count": 21,
   "metadata": {},
   "outputs": [
    {
     "name": "stdout",
     "output_type": "stream",
     "text": [
      "0      1\n",
      "1      2\n",
      "2      3\n",
      "3      4\n",
      "4      5\n",
      "5      6\n",
      "6      7\n",
      "7      8\n",
      "8      9\n",
      "9     10\n",
      "10    11\n",
      "11    12\n",
      "12    13\n",
      "13    14\n",
      "14    15\n",
      "15    16\n",
      "16    17\n",
      "17    18\n",
      "18    19\n",
      "19    20\n",
      "20    21\n",
      "21    22\n",
      "22    23\n",
      "23    24\n",
      "24    25\n",
      "Name: Id, dtype: int64\n"
     ]
    }
   ],
   "source": [
    "print (pred2.Id)"
   ]
  },
  {
   "cell_type": "code",
   "execution_count": 22,
   "metadata": {},
   "outputs": [
    {
     "name": "stdout",
     "output_type": "stream",
     "text": [
      "0      1\n",
      "1      2\n",
      "2      3\n",
      "3      4\n",
      "4      5\n",
      "5      6\n",
      "6      7\n",
      "7      8\n",
      "8      9\n",
      "9     10\n",
      "10    11\n",
      "11    12\n",
      "12    13\n",
      "13    14\n",
      "14    15\n",
      "15    16\n",
      "16    17\n",
      "17    18\n",
      "18    19\n",
      "19    20\n",
      "20    21\n",
      "21    22\n",
      "22    23\n",
      "23    24\n",
      "24    25\n",
      "Name: Id, dtype: int64\n"
     ]
    }
   ],
   "source": [
    "print (pred.Id)"
   ]
  },
  {
   "cell_type": "code",
   "execution_count": 23,
   "metadata": {},
   "outputs": [],
   "source": [
    "upper = pred[pred['fact']>pred['yhat_upper']] \n",
    "lower = pred[pred['fact']<pred['yhat_lower']] \n",
    "#abnorm=pred[pred['anomaly']==0]"
   ]
  },
  {
   "cell_type": "code",
   "execution_count": 24,
   "metadata": {},
   "outputs": [
    {
     "name": "stdout",
     "output_type": "stream",
     "text": [
      "Empty DataFrame\n",
      "Columns: [ds, trend, yhat_lower, yhat_upper, trend_lower, trend_upper, additive_terms, additive_terms_lower, additive_terms_upper, multiplicative_terms, multiplicative_terms_lower, multiplicative_terms_upper, yhat, fact, Id]\n",
      "Index: []\n"
     ]
    }
   ],
   "source": [
    "print (upper)"
   ]
  },
  {
   "cell_type": "code",
   "execution_count": 25,
   "metadata": {},
   "outputs": [
    {
     "data": {
      "text/html": [
       "<table border=\"1\" class=\"dataframe\">\n",
       "  <thead>\n",
       "    <tr style=\"text-align: right;\">\n",
       "      <th></th>\n",
       "      <th>ds</th>\n",
       "      <th>trend</th>\n",
       "      <th>yhat_lower</th>\n",
       "      <th>yhat_upper</th>\n",
       "      <th>trend_lower</th>\n",
       "      <th>trend_upper</th>\n",
       "      <th>additive_terms</th>\n",
       "      <th>additive_terms_lower</th>\n",
       "      <th>additive_terms_upper</th>\n",
       "      <th>multiplicative_terms</th>\n",
       "      <th>multiplicative_terms_lower</th>\n",
       "      <th>multiplicative_terms_upper</th>\n",
       "      <th>yhat</th>\n",
       "      <th>fact</th>\n",
       "      <th>Id</th>\n",
       "    </tr>\n",
       "  </thead>\n",
       "  <tbody>\n",
       "  </tbody>\n",
       "</table>"
      ],
      "text/plain": [
       "<IPython.core.display.HTML object>"
      ]
     },
     "metadata": {},
     "output_type": "display_data"
    }
   ],
   "source": [
    "from IPython.core.display import HTML\n",
    "display(HTML(upper.to_html()))"
   ]
  },
  {
   "cell_type": "code",
   "execution_count": null,
   "metadata": {},
   "outputs": [],
   "source": []
  }
 ],
 "metadata": {
  "kernelspec": {
   "display_name": "Python 3",
   "language": "python",
   "name": "python3"
  },
  "language_info": {
   "codemirror_mode": {
    "name": "ipython",
    "version": 3
   },
   "file_extension": ".py",
   "mimetype": "text/x-python",
   "name": "python",
   "nbconvert_exporter": "python",
   "pygments_lexer": "ipython3",
   "version": "3.7.4"
  }
 },
 "nbformat": 4,
 "nbformat_minor": 2
}
