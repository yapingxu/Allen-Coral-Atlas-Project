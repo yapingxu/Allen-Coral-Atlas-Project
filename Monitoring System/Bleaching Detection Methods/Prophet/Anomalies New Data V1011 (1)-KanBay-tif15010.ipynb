{
 "cells": [
  {
   "cell_type": "code",
   "execution_count": 56,
   "metadata": {},
   "outputs": [],
   "source": [
    "import pandas as pd\n",
    "\n",
    "\n",
    "from dbfread import DBF\n",
    "from pandas import DataFrame\n",
    "\n",
    "df2 = pd.read_excel(\"C:\\\\Users\\\\yapingxu.ASURITE\\\\Documents\\\\Allen Coral Atlas\\\\L15-0126E-1148N_br.tif15010\\\\tif15010mean.xlsx\")\n",
    "#dbf = DBF(\"C:\\\\Users\\\\yapingxu.ASURITE\\\\Documents\\\\Allen Coral Atlas\\\\Oahu\\\\bottom_reprocess\\\\kanbay\\\\CoralClip\\\\ShpData\\\\ValidLocationsMean.dbf\", load=True)\n",
    "#dbf = DBF(\"D:\\\\LCL\\\\LCL\\\\yaping coral reef\\\\ShpData\\\\ShpData\\\\ValidLocationsMean.dbf\", load=True)\n",
    "#df = DataFrame(iter(dbf))\n",
    "\n",
    "#from simpledbf import Dbf5\n",
    "# dbf = Dbf5(\"C:\\\\Users\\\\LCL\\\\Allen Coral Atlas\\\\ShpData\\\\ValidLocationsMax.dbf\")\n",
    "\n",
    "#import geopandas as gpd\n",
    "#gpddf = gpd.read_file(\"C:\\\\Users\\\\yapingxu.ASURITE\\\\Documents\\\\Allen Coral Atlas\\\\Oahu\\\\bottom_reprocess\\\\kanbay\\\\CoralClip\\\\ShpData\\\\ValidLocationsMean.dbf\",float_precision='high') \n",
    "#df=pd.DataFrame(gpddf)\n",
    "\n",
    "\n",
    "#df1 = gpd.GeoDataFrame.from_file(u\"C:\\\\Users\\\\yapingxu.ASURITE\\\\Documents\\\\Allen Coral Atlas\\\\Oahu\\\\bottom_reprocess\\\\kanbay\\\\CoralClip\\\\ShpData\\\\ValidLocationsMean.dbf\")\n",
    "#df = pd.DataFrame(df1)\n",
    "\n",
    "##df = dbf.to_dataframe()\n",
    "#df\n"
   ]
  },
  {
   "cell_type": "code",
   "execution_count": 57,
   "metadata": {},
   "outputs": [
    {
     "data": {
      "text/plain": [
       "False"
      ]
     },
     "execution_count": 57,
     "metadata": {},
     "output_type": "execute_result"
    }
   ],
   "source": [
    "import sys\n",
    "'geopandas' in sys.modules"
   ]
  },
  {
   "cell_type": "code",
   "execution_count": 58,
   "metadata": {},
   "outputs": [
    {
     "data": {
      "text/html": [
       "<div>\n",
       "<style scoped>\n",
       "    .dataframe tbody tr th:only-of-type {\n",
       "        vertical-align: middle;\n",
       "    }\n",
       "\n",
       "    .dataframe tbody tr th {\n",
       "        vertical-align: top;\n",
       "    }\n",
       "\n",
       "    .dataframe thead th {\n",
       "        text-align: right;\n",
       "    }\n",
       "</style>\n",
       "<table border=\"1\" class=\"dataframe\">\n",
       "  <thead>\n",
       "    <tr style=\"text-align: right;\">\n",
       "      <th></th>\n",
       "      <th>Id</th>\n",
       "      <th>ds</th>\n",
       "      <th>y</th>\n",
       "    </tr>\n",
       "  </thead>\n",
       "  <tbody>\n",
       "    <tr>\n",
       "      <td>0</td>\n",
       "      <td>1</td>\n",
       "      <td>20190429</td>\n",
       "      <td>0.0289</td>\n",
       "    </tr>\n",
       "    <tr>\n",
       "      <td>1</td>\n",
       "      <td>2</td>\n",
       "      <td>20190506</td>\n",
       "      <td>-0.0058</td>\n",
       "    </tr>\n",
       "    <tr>\n",
       "      <td>2</td>\n",
       "      <td>3</td>\n",
       "      <td>20190513</td>\n",
       "      <td>0.0341</td>\n",
       "    </tr>\n",
       "    <tr>\n",
       "      <td>3</td>\n",
       "      <td>4</td>\n",
       "      <td>20190520</td>\n",
       "      <td>0.0344</td>\n",
       "    </tr>\n",
       "    <tr>\n",
       "      <td>4</td>\n",
       "      <td>5</td>\n",
       "      <td>20190527</td>\n",
       "      <td>NaN</td>\n",
       "    </tr>\n",
       "  </tbody>\n",
       "</table>\n",
       "</div>"
      ],
      "text/plain": [
       "   Id        ds       y\n",
       "0   1  20190429  0.0289\n",
       "1   2  20190506 -0.0058\n",
       "2   3  20190513  0.0341\n",
       "3   4  20190520  0.0344\n",
       "4   5  20190527     NaN"
      ]
     },
     "execution_count": 58,
     "metadata": {},
     "output_type": "execute_result"
    }
   ],
   "source": [
    "df2.head()"
   ]
  },
  {
   "cell_type": "code",
   "execution_count": 59,
   "metadata": {},
   "outputs": [
    {
     "data": {
      "text/plain": [
       "25"
      ]
     },
     "execution_count": 59,
     "metadata": {},
     "output_type": "execute_result"
    }
   ],
   "source": [
    "len(df2)"
   ]
  },
  {
   "cell_type": "code",
   "execution_count": 77,
   "metadata": {},
   "outputs": [],
   "source": [
    "import pandas as pd\n",
    "from fbprophet import Prophet\n",
    "import matplotlib\n",
    "import altair as alt\n",
    "alt.renderers.enable('notebook')\n",
    "from vega_datasets import data\n",
    "\n",
    "from altair import pipe, limit_rows, to_values\n",
    "t = lambda data: pipe(data, limit_rows(max_rows=110000), to_values) # default is 5000 rows, changed to 6000 to display total rows.\n",
    "alt.data_transformers.register('custom', t)\n",
    "alt.data_transformers.enable('custom')\n",
    "\n",
    "#df1 = pd.read_excel(\"C:\\\\Users\\\\yapingxu\\\\Documents\\\\TimeSeriesPython\\\\Oahu\\\\DataCSV - Copy.xlsx\")\n",
    "def fit_predict_model(dataframe, interval_width = 0.80, n_changepoints =1):\n",
    "    m = Prophet(daily_seasonality = False, yearly_seasonality = False, weekly_seasonality = False,\n",
    "                seasonality_mode = 'additive', \n",
    "                interval_width = interval_width,\n",
    "                n_changepoints = n_changepoints\n",
    "                )\n",
    "                #changepoint_range = changepoint_range)\n",
    "    m = m.fit(dataframe)\n",
    "    forecast = m.predict(dataframe)\n",
    "    forecast['fact'] = dataframe['y'].reset_index(drop = True)\n",
    "    forecast['Id'] = dataframe['Id']\n",
    "    return forecast\n",
    "    \n",
    "pred = fit_predict_model(df2)"
   ]
  },
  {
   "cell_type": "code",
   "execution_count": 78,
   "metadata": {},
   "outputs": [],
   "source": [
    "def detect_anomalies(forecast):\n",
    "    forecasted = forecast[['ds','trend', 'yhat', 'yhat_lower', 'yhat_upper', 'fact','Id']].copy()\n",
    "    #forecast['fact'] = df['y']\n",
    "\n",
    "    forecasted['anomaly'] = 0\n",
    "    forecasted.loc[forecasted['fact'] > forecasted['yhat_upper'], 'anomaly'] = 1\n",
    "    forecasted.loc[forecasted['fact'] < forecasted['yhat_lower'], 'anomaly'] = -1\n",
    "\n",
    "    #anomaly importances, define the size of the red points\n",
    "    forecasted['importance'] = 0\n",
    "    forecasted.loc[forecasted['anomaly'] ==1, 'importance'] = \\\n",
    "        (forecasted['fact'] - forecasted['yhat_upper'])/forecast['fact']\n",
    "    forecasted.loc[forecasted['anomaly'] ==-1, 'importance'] = \\\n",
    "        (forecasted['yhat_lower'] - forecasted['fact'])/forecast['fact']\n",
    "    \n",
    "    return forecasted\n",
    "\n",
    "pred2 = detect_anomalies(pred)"
   ]
  },
  {
   "cell_type": "code",
   "execution_count": 79,
   "metadata": {
    "scrolled": true
   },
   "outputs": [
    {
     "data": {
      "application/javascript": [
       "const spec = {\"config\": {\"view\": {\"width\": 400, \"height\": 300}, \"mark\": {\"tooltip\": null}, \"title\": {\"fontSize\": 20}}, \"layer\": [{\"data\": {\"name\": \"data-5a963efcc33eb70c49991f68d913d276\"}, \"mark\": {\"type\": \"area\", \"color\": \"#7FC97F\", \"interpolate\": \"basis\"}, \"encoding\": {\"tooltip\": [{\"type\": \"temporal\", \"field\": \"ds\"}, {\"type\": \"quantitative\", \"field\": \"fact\"}, {\"type\": \"quantitative\", \"field\": \"yhat_lower\"}, {\"type\": \"quantitative\", \"field\": \"yhat_upper\"}, {\"type\": \"quantitative\", \"field\": \"Id\"}], \"x\": {\"type\": \"temporal\", \"field\": \"ds\", \"title\": \"date\"}, \"y\": {\"type\": \"quantitative\", \"field\": \"yhat_upper\"}, \"y2\": {\"field\": \"yhat_lower\"}}, \"selection\": {\"selector049\": {\"type\": \"interval\", \"bind\": \"scales\", \"encodings\": [\"x\", \"y\"]}}, \"title\": \"Anomaly Detection\"}, {\"data\": {\"name\": \"data-8cc4e2b66b2a0a585c52130b6084fb14\"}, \"mark\": {\"type\": \"circle\", \"color\": \"Black\", \"opacity\": 0.7, \"size\": 15}, \"encoding\": {\"tooltip\": [{\"type\": \"temporal\", \"field\": \"ds\"}, {\"type\": \"quantitative\", \"field\": \"fact\"}, {\"type\": \"quantitative\", \"field\": \"yhat_lower\"}, {\"type\": \"quantitative\", \"field\": \"yhat_upper\"}, {\"type\": \"quantitative\", \"field\": \"Id\"}], \"x\": {\"type\": \"temporal\", \"field\": \"ds\"}, \"y\": {\"type\": \"quantitative\", \"field\": \"fact\", \"title\": \"bottom reflectance\"}}, \"selection\": {\"selector050\": {\"type\": \"interval\", \"bind\": \"scales\", \"encodings\": [\"x\", \"y\"]}}}, {\"data\": {\"name\": \"data-41aa90ad306471aaae4a6997fb285c79\"}, \"mark\": {\"type\": \"circle\", \"color\": \"Red\", \"size\": 30}, \"encoding\": {\"size\": {\"type\": \"quantitative\", \"field\": \"importance\", \"legend\": null}, \"tooltip\": [{\"type\": \"temporal\", \"field\": \"ds\"}, {\"type\": \"quantitative\", \"field\": \"fact\"}, {\"type\": \"quantitative\", \"field\": \"yhat_lower\"}, {\"type\": \"quantitative\", \"field\": \"yhat_upper\"}, {\"type\": \"quantitative\", \"field\": \"Id\"}], \"x\": {\"type\": \"temporal\", \"field\": \"ds\"}, \"y\": {\"type\": \"quantitative\", \"field\": \"fact\", \"title\": \"bottom reflectance\"}}, \"selection\": {\"selector051\": {\"type\": \"interval\", \"bind\": \"scales\", \"encodings\": [\"x\", \"y\"]}}}], \"height\": 450, \"width\": 870, \"$schema\": \"https://vega.github.io/schema/vega-lite/v3.4.0.json\", \"datasets\": {\"data-5a963efcc33eb70c49991f68d913d276\": [{\"ds\": \"2019-04-29T00:00:00\", \"trend\": 0.009434081017152322, \"yhat\": 0.009434081017152322, \"yhat_lower\": -0.030792792695801208, \"yhat_upper\": 0.049965968623526875, \"fact\": 0.0289, \"Id\": 1, \"anomaly\": 0, \"importance\": 0.0}, {\"ds\": \"2019-05-06T00:00:00\", \"trend\": 0.010487934253072867, \"yhat\": 0.010487934253072867, \"yhat_lower\": -0.032598025872839095, \"yhat_upper\": 0.04868552108759751, \"fact\": -0.0058, \"Id\": 2, \"anomaly\": 0, \"importance\": 0.0}, {\"ds\": \"2019-05-13T00:00:00\", \"trend\": 0.011541787488993411, \"yhat\": 0.011541787488993411, \"yhat_lower\": -0.02704950226674783, \"yhat_upper\": 0.0516674363263274, \"fact\": 0.0341, \"Id\": 3, \"anomaly\": 0, \"importance\": 0.0}, {\"ds\": \"2019-05-20T00:00:00\", \"trend\": 0.012595640724913957, \"yhat\": 0.012595640724913957, \"yhat_lower\": -0.0249710340965337, \"yhat_upper\": 0.05344028165749339, \"fact\": 0.0344, \"Id\": 4, \"anomaly\": 0, \"importance\": 0.0}, {\"ds\": \"2019-05-27T00:00:00\", \"trend\": 0.013649493960834504, \"yhat\": 0.013649493960834504, \"yhat_lower\": -0.026281938841441692, \"yhat_upper\": 0.051132499050493205, \"fact\": null, \"Id\": 5, \"anomaly\": 0, \"importance\": 0.0}, {\"ds\": \"2019-06-03T00:00:00\", \"trend\": 0.014703347196755048, \"yhat\": 0.014703347196755048, \"yhat_lower\": -0.026715891038454318, \"yhat_upper\": 0.05555617963826155, \"fact\": -0.1019, \"Id\": 6, \"anomaly\": -1, \"importance\": -0.7378224628218418}, {\"ds\": \"2019-06-10T00:00:00\", \"trend\": 0.015757200432675592, \"yhat\": 0.015757200432675592, \"yhat_lower\": -0.02242869084341495, \"yhat_upper\": 0.056763858754250905, \"fact\": 0.0399, \"Id\": 7, \"anomaly\": 0, \"importance\": 0.0}, {\"ds\": \"2019-06-17T00:00:00\", \"trend\": 0.01681105366859614, \"yhat\": 0.01681105366859614, \"yhat_lower\": -0.02363041101873795, \"yhat_upper\": 0.05968751398437949, \"fact\": null, \"Id\": 8, \"anomaly\": 0, \"importance\": 0.0}, {\"ds\": \"2019-07-01T00:00:00\", \"trend\": 0.01891876014043723, \"yhat\": 0.01891876014043723, \"yhat_lower\": -0.021417140801571068, \"yhat_upper\": 0.06021956025274362, \"fact\": 0.0026, \"Id\": 9, \"anomaly\": 0, \"importance\": 0.0}, {\"ds\": \"2019-07-08T00:00:00\", \"trend\": 0.01997261337635778, \"yhat\": 0.01997261337635778, \"yhat_lower\": -0.022880465074771452, \"yhat_upper\": 0.06125441247896988, \"fact\": 0.0486, \"Id\": 10, \"anomaly\": 0, \"importance\": 0.0}, {\"ds\": \"2019-07-15T00:00:00\", \"trend\": 0.02102646661227832, \"yhat\": 0.02102646661227832, \"yhat_lower\": -0.021959847335005885, \"yhat_upper\": 0.06236620331216172, \"fact\": null, \"Id\": 11, \"anomaly\": 0, \"importance\": 0.0}, {\"ds\": \"2019-07-22T00:00:00\", \"trend\": 0.022080319848198866, \"yhat\": 0.022080319848198866, \"yhat_lower\": -0.02078691806426682, \"yhat_upper\": 0.06235622869250613, \"fact\": 0.0184, \"Id\": 12, \"anomaly\": 0, \"importance\": 0.0}, {\"ds\": \"2019-07-29T00:00:00\", \"trend\": 0.023134173084119414, \"yhat\": 0.023134173084119414, \"yhat_lower\": -0.020013449367572694, \"yhat_upper\": 0.06673410077785272, \"fact\": 0.0248, \"Id\": 13, \"anomaly\": 0, \"importance\": 0.0}, {\"ds\": \"2019-08-05T00:00:00\", \"trend\": 0.024188026320039954, \"yhat\": 0.024188026320039954, \"yhat_lower\": -0.01609751933878451, \"yhat_upper\": 0.06290010656367728, \"fact\": 0.0339, \"Id\": 14, \"anomaly\": 0, \"importance\": 0.0}, {\"ds\": \"2019-08-12T00:00:00\", \"trend\": 0.0252418795559605, \"yhat\": 0.0252418795559605, \"yhat_lower\": -0.01787535042583751, \"yhat_upper\": 0.0667328140191549, \"fact\": 0.0619, \"Id\": 15, \"anomaly\": 0, \"importance\": 0.0}, {\"ds\": \"2019-08-19T00:00:00\", \"trend\": 0.02629573279188105, \"yhat\": 0.02629573279188105, \"yhat_lower\": -0.012079129866228583, \"yhat_upper\": 0.06832451455351202, \"fact\": 0.0524, \"Id\": 16, \"anomaly\": 0, \"importance\": 0.0}, {\"ds\": \"2019-08-26T00:00:00\", \"trend\": 0.027349586027801593, \"yhat\": 0.027349586027801593, \"yhat_lower\": -0.014514692556860234, \"yhat_upper\": 0.0684731536487583, \"fact\": 0.0039, \"Id\": 17, \"anomaly\": 0, \"importance\": 0.0}, {\"ds\": \"2019-09-02T00:00:00\", \"trend\": 0.02840343926372214, \"yhat\": 0.02840343926372214, \"yhat_lower\": -0.014742667530287561, \"yhat_upper\": 0.06998490502440971, \"fact\": null, \"Id\": 18, \"anomaly\": 0, \"importance\": 0.0}, {\"ds\": \"2019-09-09T00:00:00\", \"trend\": 0.02945729249964268, \"yhat\": 0.02945729249964268, \"yhat_lower\": -0.010621198496828167, \"yhat_upper\": 0.07439626456610829, \"fact\": 0.0524, \"Id\": 19, \"anomaly\": 0, \"importance\": 0.0}, {\"ds\": \"2019-09-16T00:00:00\", \"trend\": 0.03051114573556323, \"yhat\": 0.03051114573556323, \"yhat_lower\": -0.009622950089668469, \"yhat_upper\": 0.0740720521018347, \"fact\": 0.0222, \"Id\": 20, \"anomaly\": 0, \"importance\": 0.0}, {\"ds\": \"2019-09-23T00:00:00\", \"trend\": 0.031564998972446495, \"yhat\": 0.031564998972446495, \"yhat_lower\": -0.00936468261538884, \"yhat_upper\": 0.07156247889697279, \"fact\": 0.0242, \"Id\": 21, \"anomaly\": 0, \"importance\": 0.0}, {\"ds\": \"2019-09-30T00:00:00\", \"trend\": 0.03261885220932976, \"yhat\": 0.03261885220932976, \"yhat_lower\": -0.010613298289165997, \"yhat_upper\": 0.07830083240190518, \"fact\": 0.0407, \"Id\": 22, \"anomaly\": 0, \"importance\": 0.0}, {\"ds\": \"2019-10-07T00:00:00\", \"trend\": 0.033672705446213015, \"yhat\": 0.033672705446213015, \"yhat_lower\": -0.007009849931058025, \"yhat_upper\": 0.07734165943161056, \"fact\": 0.0539, \"Id\": 23, \"anomaly\": 0, \"importance\": 0.0}, {\"ds\": \"2019-10-14T00:00:00\", \"trend\": 0.03472655868309628, \"yhat\": 0.03472655868309628, \"yhat_lower\": -0.007567482936711177, \"yhat_upper\": 0.07555509825795087, \"fact\": 0.0197, \"Id\": 24, \"anomaly\": 0, \"importance\": 0.0}, {\"ds\": \"2019-10-21T00:00:00\", \"trend\": 0.03578041191997955, \"yhat\": 0.03578041191997955, \"yhat_lower\": -0.007127794007723175, \"yhat_upper\": 0.0789388918148389, \"fact\": 0.0008, \"Id\": 25, \"anomaly\": 0, \"importance\": 0.0}], \"data-8cc4e2b66b2a0a585c52130b6084fb14\": [{\"ds\": \"2019-04-29T00:00:00\", \"trend\": 0.009434081017152322, \"yhat\": 0.009434081017152322, \"yhat_lower\": -0.030792792695801208, \"yhat_upper\": 0.049965968623526875, \"fact\": 0.0289, \"Id\": 1, \"anomaly\": 0, \"importance\": 0.0}, {\"ds\": \"2019-05-06T00:00:00\", \"trend\": 0.010487934253072867, \"yhat\": 0.010487934253072867, \"yhat_lower\": -0.032598025872839095, \"yhat_upper\": 0.04868552108759751, \"fact\": -0.0058, \"Id\": 2, \"anomaly\": 0, \"importance\": 0.0}, {\"ds\": \"2019-05-13T00:00:00\", \"trend\": 0.011541787488993411, \"yhat\": 0.011541787488993411, \"yhat_lower\": -0.02704950226674783, \"yhat_upper\": 0.0516674363263274, \"fact\": 0.0341, \"Id\": 3, \"anomaly\": 0, \"importance\": 0.0}, {\"ds\": \"2019-05-20T00:00:00\", \"trend\": 0.012595640724913957, \"yhat\": 0.012595640724913957, \"yhat_lower\": -0.0249710340965337, \"yhat_upper\": 0.05344028165749339, \"fact\": 0.0344, \"Id\": 4, \"anomaly\": 0, \"importance\": 0.0}, {\"ds\": \"2019-05-27T00:00:00\", \"trend\": 0.013649493960834504, \"yhat\": 0.013649493960834504, \"yhat_lower\": -0.026281938841441692, \"yhat_upper\": 0.051132499050493205, \"fact\": null, \"Id\": 5, \"anomaly\": 0, \"importance\": 0.0}, {\"ds\": \"2019-06-10T00:00:00\", \"trend\": 0.015757200432675592, \"yhat\": 0.015757200432675592, \"yhat_lower\": -0.02242869084341495, \"yhat_upper\": 0.056763858754250905, \"fact\": 0.0399, \"Id\": 7, \"anomaly\": 0, \"importance\": 0.0}, {\"ds\": \"2019-06-17T00:00:00\", \"trend\": 0.01681105366859614, \"yhat\": 0.01681105366859614, \"yhat_lower\": -0.02363041101873795, \"yhat_upper\": 0.05968751398437949, \"fact\": null, \"Id\": 8, \"anomaly\": 0, \"importance\": 0.0}, {\"ds\": \"2019-07-01T00:00:00\", \"trend\": 0.01891876014043723, \"yhat\": 0.01891876014043723, \"yhat_lower\": -0.021417140801571068, \"yhat_upper\": 0.06021956025274362, \"fact\": 0.0026, \"Id\": 9, \"anomaly\": 0, \"importance\": 0.0}, {\"ds\": \"2019-07-08T00:00:00\", \"trend\": 0.01997261337635778, \"yhat\": 0.01997261337635778, \"yhat_lower\": -0.022880465074771452, \"yhat_upper\": 0.06125441247896988, \"fact\": 0.0486, \"Id\": 10, \"anomaly\": 0, \"importance\": 0.0}, {\"ds\": \"2019-07-15T00:00:00\", \"trend\": 0.02102646661227832, \"yhat\": 0.02102646661227832, \"yhat_lower\": -0.021959847335005885, \"yhat_upper\": 0.06236620331216172, \"fact\": null, \"Id\": 11, \"anomaly\": 0, \"importance\": 0.0}, {\"ds\": \"2019-07-22T00:00:00\", \"trend\": 0.022080319848198866, \"yhat\": 0.022080319848198866, \"yhat_lower\": -0.02078691806426682, \"yhat_upper\": 0.06235622869250613, \"fact\": 0.0184, \"Id\": 12, \"anomaly\": 0, \"importance\": 0.0}, {\"ds\": \"2019-07-29T00:00:00\", \"trend\": 0.023134173084119414, \"yhat\": 0.023134173084119414, \"yhat_lower\": -0.020013449367572694, \"yhat_upper\": 0.06673410077785272, \"fact\": 0.0248, \"Id\": 13, \"anomaly\": 0, \"importance\": 0.0}, {\"ds\": \"2019-08-05T00:00:00\", \"trend\": 0.024188026320039954, \"yhat\": 0.024188026320039954, \"yhat_lower\": -0.01609751933878451, \"yhat_upper\": 0.06290010656367728, \"fact\": 0.0339, \"Id\": 14, \"anomaly\": 0, \"importance\": 0.0}, {\"ds\": \"2019-08-12T00:00:00\", \"trend\": 0.0252418795559605, \"yhat\": 0.0252418795559605, \"yhat_lower\": -0.01787535042583751, \"yhat_upper\": 0.0667328140191549, \"fact\": 0.0619, \"Id\": 15, \"anomaly\": 0, \"importance\": 0.0}, {\"ds\": \"2019-08-19T00:00:00\", \"trend\": 0.02629573279188105, \"yhat\": 0.02629573279188105, \"yhat_lower\": -0.012079129866228583, \"yhat_upper\": 0.06832451455351202, \"fact\": 0.0524, \"Id\": 16, \"anomaly\": 0, \"importance\": 0.0}, {\"ds\": \"2019-08-26T00:00:00\", \"trend\": 0.027349586027801593, \"yhat\": 0.027349586027801593, \"yhat_lower\": -0.014514692556860234, \"yhat_upper\": 0.0684731536487583, \"fact\": 0.0039, \"Id\": 17, \"anomaly\": 0, \"importance\": 0.0}, {\"ds\": \"2019-09-02T00:00:00\", \"trend\": 0.02840343926372214, \"yhat\": 0.02840343926372214, \"yhat_lower\": -0.014742667530287561, \"yhat_upper\": 0.06998490502440971, \"fact\": null, \"Id\": 18, \"anomaly\": 0, \"importance\": 0.0}, {\"ds\": \"2019-09-09T00:00:00\", \"trend\": 0.02945729249964268, \"yhat\": 0.02945729249964268, \"yhat_lower\": -0.010621198496828167, \"yhat_upper\": 0.07439626456610829, \"fact\": 0.0524, \"Id\": 19, \"anomaly\": 0, \"importance\": 0.0}, {\"ds\": \"2019-09-16T00:00:00\", \"trend\": 0.03051114573556323, \"yhat\": 0.03051114573556323, \"yhat_lower\": -0.009622950089668469, \"yhat_upper\": 0.0740720521018347, \"fact\": 0.0222, \"Id\": 20, \"anomaly\": 0, \"importance\": 0.0}, {\"ds\": \"2019-09-23T00:00:00\", \"trend\": 0.031564998972446495, \"yhat\": 0.031564998972446495, \"yhat_lower\": -0.00936468261538884, \"yhat_upper\": 0.07156247889697279, \"fact\": 0.0242, \"Id\": 21, \"anomaly\": 0, \"importance\": 0.0}, {\"ds\": \"2019-09-30T00:00:00\", \"trend\": 0.03261885220932976, \"yhat\": 0.03261885220932976, \"yhat_lower\": -0.010613298289165997, \"yhat_upper\": 0.07830083240190518, \"fact\": 0.0407, \"Id\": 22, \"anomaly\": 0, \"importance\": 0.0}, {\"ds\": \"2019-10-07T00:00:00\", \"trend\": 0.033672705446213015, \"yhat\": 0.033672705446213015, \"yhat_lower\": -0.007009849931058025, \"yhat_upper\": 0.07734165943161056, \"fact\": 0.0539, \"Id\": 23, \"anomaly\": 0, \"importance\": 0.0}, {\"ds\": \"2019-10-14T00:00:00\", \"trend\": 0.03472655868309628, \"yhat\": 0.03472655868309628, \"yhat_lower\": -0.007567482936711177, \"yhat_upper\": 0.07555509825795087, \"fact\": 0.0197, \"Id\": 24, \"anomaly\": 0, \"importance\": 0.0}, {\"ds\": \"2019-10-21T00:00:00\", \"trend\": 0.03578041191997955, \"yhat\": 0.03578041191997955, \"yhat_lower\": -0.007127794007723175, \"yhat_upper\": 0.0789388918148389, \"fact\": 0.0008, \"Id\": 25, \"anomaly\": 0, \"importance\": 0.0}], \"data-41aa90ad306471aaae4a6997fb285c79\": [{\"ds\": \"2019-06-03T00:00:00\", \"trend\": 0.014703347196755048, \"yhat\": 0.014703347196755048, \"yhat_lower\": -0.026715891038454318, \"yhat_upper\": 0.05555617963826155, \"fact\": -0.1019, \"Id\": 6, \"anomaly\": -1, \"importance\": -0.7378224628218418}]}};\n",
       "const opt = {};\n",
       "const type = \"vega-lite\";\n",
       "const id = \"188b9375-c521-4326-9381-5de4e12e452b\";\n",
       "\n",
       "const output_area = this;\n",
       "\n",
       "require([\"nbextensions/jupyter-vega/index\"], function(vega) {\n",
       "  const target = document.createElement(\"div\");\n",
       "  target.id = id;\n",
       "  target.className = \"vega-embed\";\n",
       "\n",
       "  const style = document.createElement(\"style\");\n",
       "  style.textContent = [\n",
       "    \".vega-embed .error p {\",\n",
       "    \"  color: firebrick;\",\n",
       "    \"  font-size: 14px;\",\n",
       "    \"}\",\n",
       "  ].join(\"\\\\n\");\n",
       "\n",
       "  // element is a jQuery wrapped DOM element inside the output area\n",
       "  // see http://ipython.readthedocs.io/en/stable/api/generated/\\\n",
       "  // IPython.display.html#IPython.display.Javascript.__init__\n",
       "  element[0].appendChild(target);\n",
       "  element[0].appendChild(style);\n",
       "\n",
       "  vega.render(\"#\" + id, spec, type, opt, output_area);\n",
       "}, function (err) {\n",
       "  if (err.requireType !== \"scripterror\") {\n",
       "    throw(err);\n",
       "  }\n",
       "});\n"
      ],
      "text/plain": [
       "<vega.vegalite.VegaLite at 0x244ef2e3088>"
      ]
     },
     "metadata": {
      "jupyter-vega": "#188b9375-c521-4326-9381-5de4e12e452b"
     },
     "output_type": "display_data"
    },
    {
     "data": {
      "text/plain": []
     },
     "execution_count": 79,
     "metadata": {},
     "output_type": "execute_result"
    },
    {
     "data": {
      "image/png": "[encoded data removed]"
     },
     "metadata": {
      "jupyter-vega": "#188b9375-c521-4326-9381-5de4e12e452b"
     },
     "output_type": "display_data"
    }
   ],
   "source": [
    "def plot_anomalies(forecasted):\n",
    "    interval = alt.Chart(forecasted).mark_area(interpolate=\"basis\", color = '#7FC97F').encode(\n",
    "    x=alt.X('ds:T',  title ='date'),\n",
    "    y='yhat_upper',\n",
    "    y2='yhat_lower',\n",
    "    tooltip=['ds', 'fact', 'yhat_lower', 'yhat_upper','Id']\n",
    "    ).interactive().properties(\n",
    "        title='Anomaly Detection'\n",
    "    )\n",
    "\n",
    "    fact = alt.Chart(forecasted[forecasted.anomaly==0]).mark_circle(size=15, opacity=0.7, color = 'Black').encode(\n",
    "        x='ds:T',\n",
    "        y=alt.Y('fact', title='bottom reflectance'),    \n",
    "        tooltip=['ds', 'fact', 'yhat_lower', 'yhat_upper','Id']\n",
    "    ).interactive()\n",
    "\n",
    "    anomalies = alt.Chart(forecasted[forecasted.anomaly!=0]).mark_circle(size=30, color = 'Red').encode(\n",
    "        x='ds:T',\n",
    "        y=alt.Y('fact', title='bottom reflectance'),    \n",
    "        tooltip=['ds', 'fact', 'yhat_lower', 'yhat_upper','Id'],\n",
    "        size = alt.Size( 'importance', legend=None)\n",
    "    ).interactive()\n",
    "\n",
    "    return alt.layer(interval, fact, anomalies)\\\n",
    "              .properties(width=870, height=450)\\\n",
    "              .configure_title(fontSize=20)\n",
    "            \n",
    "plot_anomalies(pred2)"
   ]
  },
  {
   "cell_type": "code",
   "execution_count": 20,
   "metadata": {},
   "outputs": [
    {
     "name": "stdout",
     "output_type": "stream",
     "text": [
      "0      1\n",
      "1      2\n",
      "2      3\n",
      "3      4\n",
      "4      5\n",
      "5      6\n",
      "6      7\n",
      "7      8\n",
      "8      9\n",
      "9     10\n",
      "10    11\n",
      "11    12\n",
      "12    13\n",
      "13    14\n",
      "14    15\n",
      "15    16\n",
      "16    17\n",
      "17    18\n",
      "18    19\n",
      "19    20\n",
      "20    21\n",
      "21    22\n",
      "22    23\n",
      "23    24\n",
      "24    25\n",
      "Name: Id, dtype: int64\n"
     ]
    }
   ],
   "source": [
    "print (pred.Id)"
   ]
  },
  {
   "cell_type": "code",
   "execution_count": 21,
   "metadata": {},
   "outputs": [
    {
     "name": "stdout",
     "output_type": "stream",
     "text": [
      "0      1\n",
      "1      2\n",
      "2      3\n",
      "3      4\n",
      "4      5\n",
      "5      6\n",
      "6      7\n",
      "7      8\n",
      "8      9\n",
      "9     10\n",
      "10    11\n",
      "11    12\n",
      "12    13\n",
      "13    14\n",
      "14    15\n",
      "15    16\n",
      "16    17\n",
      "17    18\n",
      "18    19\n",
      "19    20\n",
      "20    21\n",
      "21    22\n",
      "22    23\n",
      "23    24\n",
      "24    25\n",
      "Name: Id, dtype: int64\n"
     ]
    }
   ],
   "source": [
    "print (pred2.Id)"
   ]
  },
  {
   "cell_type": "code",
   "execution_count": 22,
   "metadata": {},
   "outputs": [
    {
     "name": "stdout",
     "output_type": "stream",
     "text": [
      "0      1\n",
      "1      2\n",
      "2      3\n",
      "3      4\n",
      "4      5\n",
      "5      6\n",
      "6      7\n",
      "7      8\n",
      "8      9\n",
      "9     10\n",
      "10    11\n",
      "11    12\n",
      "12    13\n",
      "13    14\n",
      "14    15\n",
      "15    16\n",
      "16    17\n",
      "17    18\n",
      "18    19\n",
      "19    20\n",
      "20    21\n",
      "21    22\n",
      "22    23\n",
      "23    24\n",
      "24    25\n",
      "Name: Id, dtype: int64\n"
     ]
    }
   ],
   "source": [
    "print (pred.Id)"
   ]
  },
  {
   "cell_type": "code",
   "execution_count": 23,
   "metadata": {},
   "outputs": [],
   "source": [
    "upper = pred[pred['fact']>pred['yhat_upper']] \n",
    "lower = pred[pred['fact']<pred['yhat_lower']] \n",
    "#abnorm=pred[pred['anomaly']==0]"
   ]
  },
  {
   "cell_type": "code",
   "execution_count": 24,
   "metadata": {},
   "outputs": [
    {
     "name": "stdout",
     "output_type": "stream",
     "text": [
      "Empty DataFrame\n",
      "Columns: [ds, trend, yhat_lower, yhat_upper, trend_lower, trend_upper, additive_terms, additive_terms_lower, additive_terms_upper, multiplicative_terms, multiplicative_terms_lower, multiplicative_terms_upper, yhat, fact, Id]\n",
      "Index: []\n"
     ]
    }
   ],
   "source": [
    "print (upper)"
   ]
  },
  {
   "cell_type": "code",
   "execution_count": 25,
   "metadata": {},
   "outputs": [
    {
     "data": {
      "text/html": [
       "<table border=\"1\" class=\"dataframe\">\n",
       "  <thead>\n",
       "    <tr style=\"text-align: right;\">\n",
       "      <th></th>\n",
       "      <th>ds</th>\n",
       "      <th>trend</th>\n",
       "      <th>yhat_lower</th>\n",
       "      <th>yhat_upper</th>\n",
       "      <th>trend_lower</th>\n",
       "      <th>trend_upper</th>\n",
       "      <th>additive_terms</th>\n",
       "      <th>additive_terms_lower</th>\n",
       "      <th>additive_terms_upper</th>\n",
       "      <th>multiplicative_terms</th>\n",
       "      <th>multiplicative_terms_lower</th>\n",
       "      <th>multiplicative_terms_upper</th>\n",
       "      <th>yhat</th>\n",
       "      <th>fact</th>\n",
       "      <th>Id</th>\n",
       "    </tr>\n",
       "  </thead>\n",
       "  <tbody>\n",
       "  </tbody>\n",
       "</table>"
      ],
      "text/plain": [
       "<IPython.core.display.HTML object>"
      ]
     },
     "metadata": {},
     "output_type": "display_data"
    }
   ],
   "source": [
    "from IPython.core.display import HTML\n",
    "display(HTML(upper.to_html()))"
   ]
  },
  {
   "cell_type": "code",
   "execution_count": null,
   "metadata": {},
   "outputs": [],
   "source": []
  }
 ],
 "metadata": {
  "kernelspec": {
   "display_name": "Python 3",
   "language": "python",
   "name": "python3"
  },
  "language_info": {
   "codemirror_mode": {
    "name": "ipython",
    "version": 3
   },
   "file_extension": ".py",
   "mimetype": "text/x-python",
   "name": "python",
   "nbconvert_exporter": "python",
   "pygments_lexer": "ipython3",
   "version": "3.7.4"
  }
 },
 "nbformat": 4,
 "nbformat_minor": 2
}
