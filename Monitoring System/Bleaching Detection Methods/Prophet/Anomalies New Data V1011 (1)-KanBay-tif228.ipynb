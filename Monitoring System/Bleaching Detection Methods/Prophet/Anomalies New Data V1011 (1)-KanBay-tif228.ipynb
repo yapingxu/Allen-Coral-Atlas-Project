{
 "cells": [
  {
   "cell_type": "code",
   "execution_count": 37,
   "metadata": {},
   "outputs": [],
   "source": [
    "import pandas as pd\n",
    "\n",
    "\n",
    "from dbfread import DBF\n",
    "from pandas import DataFrame\n",
    "\n",
    "df2 = pd.read_excel(\"C:\\\\Users\\\\yapingxu.ASURITE\\\\Documents\\\\Allen Coral Atlas\\\\L15-0126E-1148N_br.tif228\\\\tif228mean.xlsx\")\n",
    "#dbf = DBF(\"C:\\\\Users\\\\yapingxu.ASURITE\\\\Documents\\\\Allen Coral Atlas\\\\Oahu\\\\bottom_reprocess\\\\kanbay\\\\CoralClip\\\\ShpData\\\\ValidLocationsMean.dbf\", load=True)\n",
    "#dbf = DBF(\"D:\\\\LCL\\\\LCL\\\\yaping coral reef\\\\ShpData\\\\ShpData\\\\ValidLocationsMean.dbf\", load=True)\n",
    "#df = DataFrame(iter(dbf))\n",
    "\n",
    "#from simpledbf import Dbf5\n",
    "# dbf = Dbf5(\"C:\\\\Users\\\\LCL\\\\Allen Coral Atlas\\\\ShpData\\\\ValidLocationsMax.dbf\")\n",
    "\n",
    "#import geopandas as gpd\n",
    "#gpddf = gpd.read_file(\"C:\\\\Users\\\\yapingxu.ASURITE\\\\Documents\\\\Allen Coral Atlas\\\\Oahu\\\\bottom_reprocess\\\\kanbay\\\\CoralClip\\\\ShpData\\\\ValidLocationsMean.dbf\",float_precision='high') \n",
    "#df=pd.DataFrame(gpddf)\n",
    "\n",
    "\n",
    "#df1 = gpd.GeoDataFrame.from_file(u\"C:\\\\Users\\\\yapingxu.ASURITE\\\\Documents\\\\Allen Coral Atlas\\\\Oahu\\\\bottom_reprocess\\\\kanbay\\\\CoralClip\\\\ShpData\\\\ValidLocationsMean.dbf\")\n",
    "#df = pd.DataFrame(df1)\n",
    "\n",
    "##df = dbf.to_dataframe()\n",
    "#df\n"
   ]
  },
  {
   "cell_type": "code",
   "execution_count": 38,
   "metadata": {},
   "outputs": [
    {
     "data": {
      "text/plain": [
       "False"
      ]
     },
     "execution_count": 38,
     "metadata": {},
     "output_type": "execute_result"
    }
   ],
   "source": [
    "import sys\n",
    "'geopandas' in sys.modules"
   ]
  },
  {
   "cell_type": "code",
   "execution_count": 39,
   "metadata": {},
   "outputs": [
    {
     "data": {
      "text/html": [
       "<div>\n",
       "<style scoped>\n",
       "    .dataframe tbody tr th:only-of-type {\n",
       "        vertical-align: middle;\n",
       "    }\n",
       "\n",
       "    .dataframe tbody tr th {\n",
       "        vertical-align: top;\n",
       "    }\n",
       "\n",
       "    .dataframe thead th {\n",
       "        text-align: right;\n",
       "    }\n",
       "</style>\n",
       "<table border=\"1\" class=\"dataframe\">\n",
       "  <thead>\n",
       "    <tr style=\"text-align: right;\">\n",
       "      <th></th>\n",
       "      <th>Id</th>\n",
       "      <th>ds</th>\n",
       "      <th>y</th>\n",
       "    </tr>\n",
       "  </thead>\n",
       "  <tbody>\n",
       "    <tr>\n",
       "      <td>0</td>\n",
       "      <td>1</td>\n",
       "      <td>20190429</td>\n",
       "      <td>0.0527</td>\n",
       "    </tr>\n",
       "    <tr>\n",
       "      <td>1</td>\n",
       "      <td>2</td>\n",
       "      <td>20190506</td>\n",
       "      <td>0.0133</td>\n",
       "    </tr>\n",
       "    <tr>\n",
       "      <td>2</td>\n",
       "      <td>3</td>\n",
       "      <td>20190513</td>\n",
       "      <td>0.0282</td>\n",
       "    </tr>\n",
       "    <tr>\n",
       "      <td>3</td>\n",
       "      <td>4</td>\n",
       "      <td>20190520</td>\n",
       "      <td>0.0433</td>\n",
       "    </tr>\n",
       "    <tr>\n",
       "      <td>4</td>\n",
       "      <td>5</td>\n",
       "      <td>20190527</td>\n",
       "      <td>0.0516</td>\n",
       "    </tr>\n",
       "  </tbody>\n",
       "</table>\n",
       "</div>"
      ],
      "text/plain": [
       "   Id        ds       y\n",
       "0   1  20190429  0.0527\n",
       "1   2  20190506  0.0133\n",
       "2   3  20190513  0.0282\n",
       "3   4  20190520  0.0433\n",
       "4   5  20190527  0.0516"
      ]
     },
     "execution_count": 39,
     "metadata": {},
     "output_type": "execute_result"
    }
   ],
   "source": [
    "df2.head()"
   ]
  },
  {
   "cell_type": "code",
   "execution_count": 40,
   "metadata": {},
   "outputs": [
    {
     "data": {
      "text/plain": [
       "24"
      ]
     },
     "execution_count": 40,
     "metadata": {},
     "output_type": "execute_result"
    }
   ],
   "source": [
    "len(df2)"
   ]
  },
  {
   "cell_type": "code",
   "execution_count": 41,
   "metadata": {},
   "outputs": [
    {
     "name": "stderr",
     "output_type": "stream",
     "text": [
      "INFO:fbprophet:n_changepoints greater than number of observations.Using 22.\n"
     ]
    }
   ],
   "source": [
    "import pandas as pd\n",
    "from fbprophet import Prophet\n",
    "import matplotlib\n",
    "import altair as alt\n",
    "alt.renderers.enable('notebook')\n",
    "from vega_datasets import data\n",
    "\n",
    "from altair import pipe, limit_rows, to_values\n",
    "t = lambda data: pipe(data, limit_rows(max_rows=110000), to_values) # default is 5000 rows, changed to 6000 to display total rows.\n",
    "alt.data_transformers.register('custom', t)\n",
    "alt.data_transformers.enable('custom')\n",
    "\n",
    "#df1 = pd.read_excel(\"C:\\\\Users\\\\yapingxu\\\\Documents\\\\TimeSeriesPython\\\\Oahu\\\\DataCSV - Copy.xlsx\")\n",
    "def fit_predict_model(dataframe, interval_width = 0.99, changepoint_range = 0.99):\n",
    "    m = Prophet(daily_seasonality = False, yearly_seasonality = False, weekly_seasonality = False,\n",
    "                seasonality_mode = 'multiplicative', \n",
    "                interval_width = interval_width,\n",
    "                changepoint_range = changepoint_range)\n",
    "    m = m.fit(dataframe)\n",
    "    forecast = m.predict(dataframe)\n",
    "    forecast['fact'] = dataframe['y'].reset_index(drop = True)\n",
    "    forecast['Id'] = dataframe['Id']\n",
    "    return forecast\n",
    "    \n",
    "pred = fit_predict_model(df2)"
   ]
  },
  {
   "cell_type": "code",
   "execution_count": 42,
   "metadata": {},
   "outputs": [],
   "source": [
    "def detect_anomalies(forecast):\n",
    "    forecasted = forecast[['ds','trend', 'yhat', 'yhat_lower', 'yhat_upper', 'fact','Id']].copy()\n",
    "    #forecast['fact'] = df['y']\n",
    "\n",
    "    forecasted['anomaly'] = 0\n",
    "    forecasted.loc[forecasted['fact'] > forecasted['yhat_upper'], 'anomaly'] = 1\n",
    "    forecasted.loc[forecasted['fact'] < forecasted['yhat_lower'], 'anomaly'] = -1\n",
    "\n",
    "    #anomaly importances, define the size of the red points\n",
    "    forecasted['importance'] = 0\n",
    "    forecasted.loc[forecasted['anomaly'] ==1, 'importance'] = \\\n",
    "        (forecasted['fact'] - forecasted['yhat_upper'])/forecast['fact']\n",
    "    forecasted.loc[forecasted['anomaly'] ==-1, 'importance'] = \\\n",
    "        (forecasted['yhat_lower'] - forecasted['fact'])/forecast['fact']\n",
    "    \n",
    "    return forecasted\n",
    "\n",
    "pred2 = detect_anomalies(pred)"
   ]
  },
  {
   "cell_type": "code",
   "execution_count": 43,
   "metadata": {
    "scrolled": true
   },
   "outputs": [
    {
     "data": {
      "application/javascript": [
       "const spec = {\"config\": {\"view\": {\"width\": 400, \"height\": 300}, \"mark\": {\"tooltip\": null}, \"title\": {\"fontSize\": 20}}, \"layer\": [{\"data\": {\"name\": \"data-15f2db921bb66cd3cc40729ba45f0848\"}, \"mark\": {\"type\": \"area\", \"color\": \"#7FC97F\", \"interpolate\": \"basis\"}, \"encoding\": {\"tooltip\": [{\"type\": \"temporal\", \"field\": \"ds\"}, {\"type\": \"quantitative\", \"field\": \"fact\"}, {\"type\": \"quantitative\", \"field\": \"yhat_lower\"}, {\"type\": \"quantitative\", \"field\": \"yhat_upper\"}, {\"type\": \"quantitative\", \"field\": \"Id\"}], \"x\": {\"type\": \"temporal\", \"field\": \"ds\", \"title\": \"date\"}, \"y\": {\"type\": \"quantitative\", \"field\": \"yhat_upper\"}, \"y2\": {\"field\": \"yhat_lower\"}}, \"selection\": {\"selector004\": {\"type\": \"interval\", \"bind\": \"scales\", \"encodings\": [\"x\", \"y\"]}}, \"title\": \"Anomaly Detection\"}, {\"data\": {\"name\": \"data-15f2db921bb66cd3cc40729ba45f0848\"}, \"mark\": {\"type\": \"circle\", \"color\": \"Black\", \"opacity\": 0.7, \"size\": 15}, \"encoding\": {\"tooltip\": [{\"type\": \"temporal\", \"field\": \"ds\"}, {\"type\": \"quantitative\", \"field\": \"fact\"}, {\"type\": \"quantitative\", \"field\": \"yhat_lower\"}, {\"type\": \"quantitative\", \"field\": \"yhat_upper\"}, {\"type\": \"quantitative\", \"field\": \"Id\"}], \"x\": {\"type\": \"temporal\", \"field\": \"ds\"}, \"y\": {\"type\": \"quantitative\", \"field\": \"fact\", \"title\": \"bottom reflectance\"}}, \"selection\": {\"selector005\": {\"type\": \"interval\", \"bind\": \"scales\", \"encodings\": [\"x\", \"y\"]}}}, {\"data\": {\"name\": \"data-d751713988987e9331980363e24189ce\"}, \"mark\": {\"type\": \"circle\", \"color\": \"Red\", \"size\": 30}, \"encoding\": {\"size\": {\"type\": \"quantitative\", \"field\": \"importance\", \"legend\": null}, \"tooltip\": [{\"type\": \"temporal\", \"field\": \"ds\"}, {\"type\": \"quantitative\", \"field\": \"fact\"}, {\"type\": \"quantitative\", \"field\": \"yhat_lower\"}, {\"type\": \"quantitative\", \"field\": \"yhat_upper\"}, {\"type\": \"quantitative\", \"field\": \"Id\"}], \"x\": {\"type\": \"temporal\", \"field\": \"ds\"}, \"y\": {\"type\": \"quantitative\", \"field\": \"fact\", \"title\": \"bottom reflectance\"}}, \"selection\": {\"selector006\": {\"type\": \"interval\", \"bind\": \"scales\", \"encodings\": [\"x\", \"y\"]}}}], \"height\": 450, \"width\": 870, \"$schema\": \"https://vega.github.io/schema/vega-lite/v3.4.0.json\", \"datasets\": {\"data-15f2db921bb66cd3cc40729ba45f0848\": [{\"ds\": \"2019-04-29T00:00:00\", \"trend\": 0.021353816601512608, \"yhat\": 0.021353816601512608, \"yhat_lower\": -0.03697477691240469, \"yhat_upper\": 0.08428031003926781, \"fact\": 0.0527, \"Id\": 1, \"anomaly\": 0, \"importance\": 0.0}, {\"ds\": \"2019-05-06T00:00:00\", \"trend\": 0.022399269390000386, \"yhat\": 0.022399269390000386, \"yhat_lower\": -0.037617327043134974, \"yhat_upper\": 0.08004385873467156, \"fact\": 0.0133, \"Id\": 2, \"anomaly\": 0, \"importance\": 0.0}, {\"ds\": \"2019-05-13T00:00:00\", \"trend\": 0.023444722178712768, \"yhat\": 0.023444722178712768, \"yhat_lower\": -0.033781287677004404, \"yhat_upper\": 0.07959805692478404, \"fact\": 0.0282, \"Id\": 3, \"anomaly\": 0, \"importance\": 0.0}, {\"ds\": \"2019-05-20T00:00:00\", \"trend\": 0.02449017496761481, \"yhat\": 0.02449017496761481, \"yhat_lower\": -0.03477008894154013, \"yhat_upper\": 0.08430351616386694, \"fact\": 0.0433, \"Id\": 4, \"anomaly\": 0, \"importance\": 0.0}, {\"ds\": \"2019-05-27T00:00:00\", \"trend\": 0.025535627756782538, \"yhat\": 0.025535627756782538, \"yhat_lower\": -0.03231527417077959, \"yhat_upper\": 0.08252542941919538, \"fact\": 0.0516, \"Id\": 5, \"anomaly\": 0, \"importance\": 0.0}, {\"ds\": \"2019-06-03T00:00:00\", \"trend\": 0.026581080546270175, \"yhat\": 0.026581080546270175, \"yhat_lower\": -0.028737315795019088, \"yhat_upper\": 0.08517141814009715, \"fact\": -0.0243, \"Id\": 6, \"anomaly\": 0, \"importance\": 0.0}, {\"ds\": \"2019-06-10T00:00:00\", \"trend\": 0.02762653333556403, \"yhat\": 0.02762653333556403, \"yhat_lower\": -0.031619459884700524, \"yhat_upper\": 0.08250897775307486, \"fact\": 0.0426, \"Id\": 7, \"anomaly\": 0, \"importance\": 0.0}, {\"ds\": \"2019-06-17T00:00:00\", \"trend\": 0.028671986125003626, \"yhat\": 0.028671986125003626, \"yhat_lower\": -0.03744675338640293, \"yhat_upper\": 0.08900343461800136, \"fact\": -0.0245, \"Id\": 8, \"anomaly\": 0, \"importance\": 0.0}, {\"ds\": \"2019-07-01T00:00:00\", \"trend\": 0.0307628917033559, \"yhat\": 0.0307628917033559, \"yhat_lower\": -0.028812481370884456, \"yhat_upper\": 0.08792837917584562, \"fact\": 0.0046, \"Id\": 9, \"anomaly\": 0, \"importance\": 0.0}, {\"ds\": \"2019-07-08T00:00:00\", \"trend\": 0.03180834449267072, \"yhat\": 0.03180834449267072, \"yhat_lower\": -0.031684064842146226, \"yhat_upper\": 0.09235508894523743, \"fact\": 0.0465, \"Id\": 10, \"anomaly\": 0, \"importance\": 0.0}, {\"ds\": \"2019-07-15T00:00:00\", \"trend\": 0.03285379728235946, \"yhat\": 0.03285379728235946, \"yhat_lower\": -0.026623886446470697, \"yhat_upper\": 0.09144057652585348, \"fact\": 0.0177, \"Id\": 11, \"anomaly\": 0, \"importance\": 0.0}, {\"ds\": \"2019-07-22T00:00:00\", \"trend\": 0.03389925007205803, \"yhat\": 0.03389925007205803, \"yhat_lower\": -0.029437767144568774, \"yhat_upper\": 0.09208214877149276, \"fact\": 0.0277, \"Id\": 12, \"anomaly\": 0, \"importance\": 0.0}, {\"ds\": \"2019-07-29T00:00:00\", \"trend\": 0.03494470286162282, \"yhat\": 0.03494470286162282, \"yhat_lower\": -0.02886372784304509, \"yhat_upper\": 0.09297741773155643, \"fact\": 0.0363, \"Id\": 13, \"anomaly\": 0, \"importance\": 0.0}, {\"ds\": \"2019-08-05T00:00:00\", \"trend\": 0.03599015565086637, \"yhat\": 0.03599015565086637, \"yhat_lower\": -0.018922290849198803, \"yhat_upper\": 0.09376153199196234, \"fact\": 0.044, \"Id\": 14, \"anomaly\": 0, \"importance\": 0.0}, {\"ds\": \"2019-08-12T00:00:00\", \"trend\": 0.037035608440001276, \"yhat\": 0.037035608440001276, \"yhat_lower\": -0.025711256666617166, \"yhat_upper\": 0.09433265043283962, \"fact\": 0.0644, \"Id\": 15, \"anomaly\": 0, \"importance\": 0.0}, {\"ds\": \"2019-08-19T00:00:00\", \"trend\": 0.038081061229115934, \"yhat\": 0.038081061229115934, \"yhat_lower\": -0.019550356841097218, \"yhat_upper\": 0.09870488892884596, \"fact\": 0.0825, \"Id\": 16, \"anomaly\": 0, \"importance\": 0.0}, {\"ds\": \"2019-08-26T00:00:00\", \"trend\": 0.03912651401846835, \"yhat\": 0.03912651401846835, \"yhat_lower\": -0.021959960826975128, \"yhat_upper\": 0.09562573920514258, \"fact\": 0.0176, \"Id\": 17, \"anomaly\": 0, \"importance\": 0.0}, {\"ds\": \"2019-09-02T00:00:00\", \"trend\": 0.04017196680787342, \"yhat\": 0.04017196680787342, \"yhat_lower\": -0.022403295480104984, \"yhat_upper\": 0.09624683794481007, \"fact\": 0.023, \"Id\": 18, \"anomaly\": 0, \"importance\": 0.0}, {\"ds\": \"2019-09-09T00:00:00\", \"trend\": 0.041217419596971075, \"yhat\": 0.041217419596971075, \"yhat_lower\": -0.015588951573391444, \"yhat_upper\": 0.099238371798599, \"fact\": 0.0531, \"Id\": 19, \"anomaly\": 0, \"importance\": 0.0}, {\"ds\": \"2019-09-16T00:00:00\", \"trend\": 0.04226287238601844, \"yhat\": 0.04226287238601844, \"yhat_lower\": -0.01108896708873356, \"yhat_upper\": 0.09728436022214475, \"fact\": 0.0272, \"Id\": 20, \"anomaly\": 0, \"importance\": 0.0}, {\"ds\": \"2019-09-23T00:00:00\", \"trend\": 0.04330832517487849, \"yhat\": 0.04330832517487849, \"yhat_lower\": -0.014648977853410116, \"yhat_upper\": 0.1015080079939182, \"fact\": 0.0532, \"Id\": 21, \"anomaly\": 0, \"importance\": 0.0}, {\"ds\": \"2019-09-30T00:00:00\", \"trend\": 0.04435377796407117, \"yhat\": 0.04435377796407117, \"yhat_lower\": -0.014260107523709611, \"yhat_upper\": 0.10317843056916313, \"fact\": 0.0528, \"Id\": 22, \"anomaly\": 0, \"importance\": 0.0}, {\"ds\": \"2019-10-07T00:00:00\", \"trend\": 0.04539923075334661, \"yhat\": 0.04539923075334661, \"yhat_lower\": -0.016090473228787976, \"yhat_upper\": 0.10520428064277706, \"fact\": 0.0535, \"Id\": 23, \"anomaly\": 0, \"importance\": 0.0}, {\"ds\": \"2019-10-14T00:00:00\", \"trend\": 0.04644468354291977, \"yhat\": 0.04644468354291977, \"yhat_lower\": -0.014747561089620019, \"yhat_upper\": 0.10381124297214414, \"fact\": 0.0309, \"Id\": 24, \"anomaly\": 0, \"importance\": 0.0}], \"data-d751713988987e9331980363e24189ce\": []}};\n",
       "const opt = {};\n",
       "const type = \"vega-lite\";\n",
       "const id = \"50795770-e7e4-476b-a7eb-6acc086b96d7\";\n",
       "\n",
       "const output_area = this;\n",
       "\n",
       "require([\"nbextensions/jupyter-vega/index\"], function(vega) {\n",
       "  const target = document.createElement(\"div\");\n",
       "  target.id = id;\n",
       "  target.className = \"vega-embed\";\n",
       "\n",
       "  const style = document.createElement(\"style\");\n",
       "  style.textContent = [\n",
       "    \".vega-embed .error p {\",\n",
       "    \"  color: firebrick;\",\n",
       "    \"  font-size: 14px;\",\n",
       "    \"}\",\n",
       "  ].join(\"\\\\n\");\n",
       "\n",
       "  // element is a jQuery wrapped DOM element inside the output area\n",
       "  // see http://ipython.readthedocs.io/en/stable/api/generated/\\\n",
       "  // IPython.display.html#IPython.display.Javascript.__init__\n",
       "  element[0].appendChild(target);\n",
       "  element[0].appendChild(style);\n",
       "\n",
       "  vega.render(\"#\" + id, spec, type, opt, output_area);\n",
       "}, function (err) {\n",
       "  if (err.requireType !== \"scripterror\") {\n",
       "    throw(err);\n",
       "  }\n",
       "});\n"
      ],
      "text/plain": [
       "<vega.vegalite.VegaLite at 0x24798fb7c08>"
      ]
     },
     "metadata": {
      "jupyter-vega": "#50795770-e7e4-476b-a7eb-6acc086b96d7"
     },
     "output_type": "display_data"
    },
    {
     "data": {
      "text/plain": []
     },
     "execution_count": 43,
     "metadata": {},
     "output_type": "execute_result"
    },
    {
     "data": {
      "image/png": "[encoded data removed]"
     },
     "metadata": {
      "jupyter-vega": "#50795770-e7e4-476b-a7eb-6acc086b96d7"
     },
     "output_type": "display_data"
    }
   ],
   "source": [
    "def plot_anomalies(forecasted):\n",
    "    interval = alt.Chart(forecasted).mark_area(interpolate=\"basis\", color = '#7FC97F').encode(\n",
    "    x=alt.X('ds:T',  title ='date'),\n",
    "    y='yhat_upper',\n",
    "    y2='yhat_lower',\n",
    "    tooltip=['ds', 'fact', 'yhat_lower', 'yhat_upper','Id']\n",
    "    ).interactive().properties(\n",
    "        title='Anomaly Detection'\n",
    "    )\n",
    "\n",
    "    fact = alt.Chart(forecasted[forecasted.anomaly==0]).mark_circle(size=15, opacity=0.7, color = 'Black').encode(\n",
    "        x='ds:T',\n",
    "        y=alt.Y('fact', title='bottom reflectance'),    \n",
    "        tooltip=['ds', 'fact', 'yhat_lower', 'yhat_upper','Id']\n",
    "    ).interactive()\n",
    "\n",
    "    anomalies = alt.Chart(forecasted[forecasted.anomaly!=0]).mark_circle(size=30, color = 'Red').encode(\n",
    "        x='ds:T',\n",
    "        y=alt.Y('fact', title='bottom reflectance'),    \n",
    "        tooltip=['ds', 'fact', 'yhat_lower', 'yhat_upper','Id'],\n",
    "        size = alt.Size( 'importance', legend=None)\n",
    "    ).interactive()\n",
    "\n",
    "    return alt.layer(interval, fact, anomalies)\\\n",
    "              .properties(width=870, height=450)\\\n",
    "              .configure_title(fontSize=20)\n",
    "            \n",
    "plot_anomalies(pred2)"
   ]
  },
  {
   "cell_type": "code",
   "execution_count": null,
   "metadata": {},
   "outputs": [],
   "source": [
    "print (pred.Id)"
   ]
  },
  {
   "cell_type": "code",
   "execution_count": null,
   "metadata": {},
   "outputs": [],
   "source": [
    "print (pred2.Id)"
   ]
  },
  {
   "cell_type": "code",
   "execution_count": null,
   "metadata": {},
   "outputs": [],
   "source": [
    "print (pred.Id)"
   ]
  },
  {
   "cell_type": "code",
   "execution_count": null,
   "metadata": {},
   "outputs": [],
   "source": [
    "upper = pred[pred['fact']>pred['yhat_upper']] \n",
    "lower = pred[pred['fact']<pred['yhat_lower']] \n",
    "#abnorm=pred[pred['anomaly']==0]"
   ]
  },
  {
   "cell_type": "code",
   "execution_count": null,
   "metadata": {},
   "outputs": [],
   "source": [
    "print (upper)"
   ]
  },
  {
   "cell_type": "code",
   "execution_count": null,
   "metadata": {},
   "outputs": [],
   "source": [
    "from IPython.core.display import HTML\n",
    "display(HTML(upper.to_html()))"
   ]
  },
  {
   "cell_type": "code",
   "execution_count": null,
   "metadata": {},
   "outputs": [],
   "source": []
  }
 ],
 "metadata": {
  "kernelspec": {
   "display_name": "Python 3",
   "language": "python",
   "name": "python3"
  },
  "language_info": {
   "codemirror_mode": {
    "name": "ipython",
    "version": 3
   },
   "file_extension": ".py",
   "mimetype": "text/x-python",
   "name": "python",
   "nbconvert_exporter": "python",
   "pygments_lexer": "ipython3",
   "version": "3.7.4"
  }
 },
 "nbformat": 4,
 "nbformat_minor": 2
}
