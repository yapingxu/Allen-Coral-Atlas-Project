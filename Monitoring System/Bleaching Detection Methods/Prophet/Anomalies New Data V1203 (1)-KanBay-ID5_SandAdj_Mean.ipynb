{
 "cells": [
  {
   "cell_type": "code",
   "execution_count": 1,
   "metadata": {},
   "outputs": [],
   "source": [
    "import pandas as pd\n",
    "\n",
    "\n",
    "from dbfread import DBF\n",
    "from pandas import DataFrame\n",
    "\n",
    "#reading excel data that contains time series data:\n",
    "df2 = pd.read_excel(\"C:\\\\Users\\\\yapingxu.ASURITE\\\\Documents\\\\Allen Coral Atlas\\\\ID5ZonalMeanSandAdj\\\\ID5SandAdjMean.xlsx\")\n",
    "#dbf = DBF(\"C:\\\\Users\\\\yapingxu.ASURITE\\\\Documents\\\\Allen Coral Atlas\\\\Oahu\\\\bottom_reprocess\\\\kanbay\\\\CoralClip\\\\ShpData\\\\ValidLocationsMean.dbf\", load=True)\n",
    "#dbf = DBF(\"D:\\\\LCL\\\\LCL\\\\yaping coral reef\\\\ShpData\\\\ShpData\\\\ValidLocationsMean.dbf\", load=True)\n",
    "#df = DataFrame(iter(dbf))\n",
    "\n",
    "#from simpledbf import Dbf5\n",
    "# dbf = Dbf5(\"C:\\\\Users\\\\LCL\\\\Allen Coral Atlas\\\\ShpData\\\\ValidLocationsMax.dbf\")\n",
    "\n",
    "#import geopandas as gpd\n",
    "#gpddf = gpd.read_file(\"C:\\\\Users\\\\yapingxu.ASURITE\\\\Documents\\\\Allen Coral Atlas\\\\Oahu\\\\bottom_reprocess\\\\kanbay\\\\CoralClip\\\\ShpData\\\\ValidLocationsMean.dbf\",float_precision='high') \n",
    "#df=pd.DataFrame(gpddf)\n",
    "\n",
    "\n",
    "#df1 = gpd.GeoDataFrame.from_file(u\"C:\\\\Users\\\\yapingxu.ASURITE\\\\Documents\\\\Allen Coral Atlas\\\\Oahu\\\\bottom_reprocess\\\\kanbay\\\\CoralClip\\\\ShpData\\\\ValidLocationsMean.dbf\")\n",
    "#df = pd.DataFrame(df1)\n",
    "\n",
    "##df = dbf.to_dataframe()\n",
    "#df\n"
   ]
  },
  {
   "cell_type": "code",
   "execution_count": 2,
   "metadata": {},
   "outputs": [
    {
     "data": {
      "text/plain": [
       "False"
      ]
     },
     "execution_count": 2,
     "metadata": {},
     "output_type": "execute_result"
    }
   ],
   "source": [
    "import sys\n",
    "'geopandas' in sys.modules"
   ]
  },
  {
   "cell_type": "code",
   "execution_count": 3,
   "metadata": {},
   "outputs": [
    {
     "data": {
      "text/html": [
       "<div>\n",
       "<style scoped>\n",
       "    .dataframe tbody tr th:only-of-type {\n",
       "        vertical-align: middle;\n",
       "    }\n",
       "\n",
       "    .dataframe tbody tr th {\n",
       "        vertical-align: top;\n",
       "    }\n",
       "\n",
       "    .dataframe thead th {\n",
       "        text-align: right;\n",
       "    }\n",
       "</style>\n",
       "<table border=\"1\" class=\"dataframe\">\n",
       "  <thead>\n",
       "    <tr style=\"text-align: right;\">\n",
       "      <th></th>\n",
       "      <th>Id</th>\n",
       "      <th>ds</th>\n",
       "      <th>y</th>\n",
       "    </tr>\n",
       "  </thead>\n",
       "  <tbody>\n",
       "    <tr>\n",
       "      <td>0</td>\n",
       "      <td>1</td>\n",
       "      <td>20190729</td>\n",
       "      <td>0.0353</td>\n",
       "    </tr>\n",
       "    <tr>\n",
       "      <td>1</td>\n",
       "      <td>2</td>\n",
       "      <td>20190805</td>\n",
       "      <td>0.0434</td>\n",
       "    </tr>\n",
       "    <tr>\n",
       "      <td>2</td>\n",
       "      <td>3</td>\n",
       "      <td>20190812</td>\n",
       "      <td>0.0417</td>\n",
       "    </tr>\n",
       "    <tr>\n",
       "      <td>3</td>\n",
       "      <td>4</td>\n",
       "      <td>20190819</td>\n",
       "      <td>0.0618</td>\n",
       "    </tr>\n",
       "    <tr>\n",
       "      <td>4</td>\n",
       "      <td>5</td>\n",
       "      <td>20190826</td>\n",
       "      <td>0.0499</td>\n",
       "    </tr>\n",
       "  </tbody>\n",
       "</table>\n",
       "</div>"
      ],
      "text/plain": [
       "   Id        ds       y\n",
       "0   1  20190729  0.0353\n",
       "1   2  20190805  0.0434\n",
       "2   3  20190812  0.0417\n",
       "3   4  20190819  0.0618\n",
       "4   5  20190826  0.0499"
      ]
     },
     "execution_count": 3,
     "metadata": {},
     "output_type": "execute_result"
    }
   ],
   "source": [
    "df2.head()"
   ]
  },
  {
   "cell_type": "code",
   "execution_count": 4,
   "metadata": {},
   "outputs": [
    {
     "data": {
      "text/plain": [
       "15"
      ]
     },
     "execution_count": 4,
     "metadata": {},
     "output_type": "execute_result"
    }
   ],
   "source": [
    "len(df2)"
   ]
  },
  {
   "cell_type": "code",
   "execution_count": 8,
   "metadata": {},
   "outputs": [
    {
     "name": "stderr",
     "output_type": "stream",
     "text": [
      "INFO:fbprophet:n_changepoints greater than number of observations.Using 9.\n"
     ]
    }
   ],
   "source": [
    "import pandas as pd\n",
    "from fbprophet import Prophet\n",
    "import matplotlib\n",
    "import altair as alt\n",
    "alt.renderers.enable('notebook')\n",
    "from vega_datasets import data #the last three lines are for plotting support\n",
    "\n",
    "from altair import pipe, limit_rows, to_values\n",
    "t = lambda data: pipe(data, limit_rows(max_rows=110000), to_values) # default is 5000 rows, changed to 110000 to display total rows.\n",
    "alt.data_transformers.register('custom', t)\n",
    "alt.data_transformers.enable('custom')\n",
    "\n",
    "#df1 = pd.read_excel(\"C:\\\\Users\\\\yapingxu\\\\Documents\\\\TimeSeriesPython\\\\Oahu\\\\DataCSV - Copy.xlsx\")\n",
    "#The following modual is to define the forcasting model.Seasonality, interval_width and number of change points are the three most important parameters.\n",
    "def fit_predict_model(dataframe, interval_width = 0.90, n_changepoints =4):\n",
    "    # fit the model by instantiating a new Prophet object:\n",
    "    m = Prophet(daily_seasonality = False, yearly_seasonality = False, weekly_seasonality = False,\n",
    "                seasonality_mode = 'additive', \n",
    "                interval_width = interval_width,\n",
    "                n_changepoints = n_changepoints\n",
    "                )\n",
    "                #optional parameter:changepoint_range = changepoint_range)\n",
    "    # then call its fit method and pass in the historical dataframe:    \n",
    "    m = m.fit(dataframe) \n",
    "    forecast = m.predict(dataframe)\n",
    "    forecast['fact'] = dataframe['y'].reset_index(drop = True)\n",
    "    forecast['Id'] = dataframe['Id']\n",
    "    ##The predict method will assign each row in future a predicted value which it names yhat. \n",
    "    # we pass in historical dates by the above fit method, it will provide an in-sample fit. \n",
    "    #The forecast object here is a new dataframe that includes a column yhat with the forecast, as well as columns for components and uncertainty intervals. They'll be used in the next module.\n",
    "    return forecast\n",
    "    \n",
    "pred = fit_predict_model(df2)"
   ]
  },
  {
   "cell_type": "code",
   "execution_count": 9,
   "metadata": {},
   "outputs": [],
   "source": [
    "def detect_anomalies(forecast):\n",
    "    forecasted = forecast[['ds','trend', 'yhat', 'yhat_lower', 'yhat_upper', 'fact','Id']].copy() #see the lat comment in the last module.\n",
    "    #forecast['fact'] = df['y']\n",
    "    \n",
    "    # define the anomalies records. If the true value is larger than predicted upper, it's defined as upper anomaly. If the true value is smaller than predicted lower, it's defined as lower anomaly. \n",
    "    forecasted['anomaly'] = 0\n",
    "    forecasted.loc[forecasted['fact'] > forecasted['yhat_upper'], 'anomaly'] = 1\n",
    "    forecasted.loc[forecasted['fact'] < forecasted['yhat_lower'], 'anomaly'] = -1\n",
    "\n",
    "    #anomaly importances, define the size of the red points.\n",
    "    forecasted['importance'] = 0\n",
    "    forecasted.loc[forecasted['anomaly'] ==1, 'importance'] = \\\n",
    "        (forecasted['fact'] - forecasted['yhat_upper'])/forecast['fact']\n",
    "    forecasted.loc[forecasted['anomaly'] ==-1, 'importance'] = \\\n",
    "        (forecasted['yhat_lower'] - forecasted['fact'])/forecast['fact']\n",
    "    \n",
    "    return forecasted\n",
    "\n",
    "pred2 = detect_anomalies(pred)"
   ]
  },
  {
   "cell_type": "code",
   "execution_count": 10,
   "metadata": {
    "scrolled": true
   },
   "outputs": [
    {
     "data": {
      "application/javascript": [
       "const spec = {\"config\": {\"view\": {\"width\": 400, \"height\": 300}, \"mark\": {\"tooltip\": null}, \"title\": {\"fontSize\": 20}}, \"layer\": [{\"data\": {\"name\": \"data-098c7425b96e4118ba225ca3f5b06a23\"}, \"mark\": {\"type\": \"area\", \"color\": \"#7FC97F\", \"interpolate\": \"basis\"}, \"encoding\": {\"tooltip\": [{\"type\": \"temporal\", \"field\": \"ds\"}, {\"type\": \"quantitative\", \"field\": \"fact\"}, {\"type\": \"quantitative\", \"field\": \"yhat_lower\"}, {\"type\": \"quantitative\", \"field\": \"yhat_upper\"}, {\"type\": \"quantitative\", \"field\": \"Id\"}], \"x\": {\"type\": \"temporal\", \"field\": \"ds\", \"title\": \"date\"}, \"y\": {\"type\": \"quantitative\", \"field\": \"yhat_upper\"}, \"y2\": {\"field\": \"yhat_lower\"}}, \"selection\": {\"selector004\": {\"type\": \"interval\", \"bind\": \"scales\", \"encodings\": [\"x\", \"y\"]}}, \"title\": \"Anomaly Detection\"}, {\"data\": {\"name\": \"data-9ce6fff6f2a94e10850ceb15fc804c74\"}, \"mark\": {\"type\": \"circle\", \"color\": \"Black\", \"opacity\": 0.7, \"size\": 15}, \"encoding\": {\"tooltip\": [{\"type\": \"temporal\", \"field\": \"ds\"}, {\"type\": \"quantitative\", \"field\": \"fact\"}, {\"type\": \"quantitative\", \"field\": \"yhat_lower\"}, {\"type\": \"quantitative\", \"field\": \"yhat_upper\"}, {\"type\": \"quantitative\", \"field\": \"Id\"}], \"x\": {\"type\": \"temporal\", \"field\": \"ds\"}, \"y\": {\"type\": \"quantitative\", \"field\": \"fact\", \"title\": \"bottom reflectance\"}}, \"selection\": {\"selector005\": {\"type\": \"interval\", \"bind\": \"scales\", \"encodings\": [\"x\", \"y\"]}}}, {\"data\": {\"name\": \"data-106e829335cfd21ec77b4ad0f3a3cb0d\"}, \"mark\": {\"type\": \"circle\", \"color\": \"Red\", \"size\": 30}, \"encoding\": {\"size\": {\"type\": \"quantitative\", \"field\": \"importance\", \"legend\": null}, \"tooltip\": [{\"type\": \"temporal\", \"field\": \"ds\"}, {\"type\": \"quantitative\", \"field\": \"fact\"}, {\"type\": \"quantitative\", \"field\": \"yhat_lower\"}, {\"type\": \"quantitative\", \"field\": \"yhat_upper\"}, {\"type\": \"quantitative\", \"field\": \"Id\"}], \"x\": {\"type\": \"temporal\", \"field\": \"ds\"}, \"y\": {\"type\": \"quantitative\", \"field\": \"fact\", \"title\": \"bottom reflectance\"}}, \"selection\": {\"selector006\": {\"type\": \"interval\", \"bind\": \"scales\", \"encodings\": [\"x\", \"y\"]}}}], \"height\": 450, \"width\": 870, \"$schema\": \"https://vega.github.io/schema/vega-lite/v3.4.0.json\", \"datasets\": {\"data-098c7425b96e4118ba225ca3f5b06a23\": [{\"ds\": \"2019-07-29T00:00:00\", \"trend\": 0.04870298327151662, \"yhat\": 0.04870298327151662, \"yhat_lower\": 0.031121062607913468, \"yhat_upper\": 0.06653938790951652, \"fact\": 0.0353, \"Id\": 1, \"anomaly\": 0, \"importance\": 0.0}, {\"ds\": \"2019-08-05T00:00:00\", \"trend\": 0.04685039088187467, \"yhat\": 0.04685039088187467, \"yhat_lower\": 0.029492437962651687, \"yhat_upper\": 0.0659197177705994, \"fact\": 0.0434, \"Id\": 2, \"anomaly\": 0, \"importance\": 0.0}, {\"ds\": \"2019-08-12T00:00:00\", \"trend\": 0.04499779849706093, \"yhat\": 0.04499779849706093, \"yhat_lower\": 0.027167592419184414, \"yhat_upper\": 0.06297243668844776, \"fact\": 0.0417, \"Id\": 3, \"anomaly\": 0, \"importance\": 0.0}, {\"ds\": \"2019-08-19T00:00:00\", \"trend\": 0.04314520611697828, \"yhat\": 0.04314520611697828, \"yhat_lower\": 0.02352788740483494, \"yhat_upper\": 0.060808200083050386, \"fact\": 0.0618, \"Id\": 4, \"anomaly\": 1, \"importance\": 0.016048542345463025}, {\"ds\": \"2019-08-26T00:00:00\", \"trend\": 0.04129261373043048, \"yhat\": 0.04129261373043048, \"yhat_lower\": 0.022471392793680097, \"yhat_upper\": 0.06032949971241543, \"fact\": 0.0499, \"Id\": 5, \"anomaly\": 0, \"importance\": 0.0}, {\"ds\": \"2019-09-02T00:00:00\", \"trend\": 0.039440021347331516, \"yhat\": 0.039440021347331516, \"yhat_lower\": 0.020612399085400718, \"yhat_upper\": 0.05823659574315996, \"fact\": null, \"Id\": 6, \"anomaly\": 0, \"importance\": 0.0}, {\"ds\": \"2019-09-09T00:00:00\", \"trend\": 0.03758742896423255, \"yhat\": 0.03758742896423255, \"yhat_lower\": 0.019492957242656, \"yhat_upper\": 0.05541705977596596, \"fact\": 0.0221, \"Id\": 7, \"anomaly\": 0, \"importance\": 0.0}, {\"ds\": \"2019-09-16T00:00:00\", \"trend\": 0.03573483657842772, \"yhat\": 0.03573483657842772, \"yhat_lower\": 0.017156225007698103, \"yhat_upper\": 0.05286186392443644, \"fact\": 0.0427, \"Id\": 8, \"anomaly\": 0, \"importance\": 0.0}, {\"ds\": \"2019-09-23T00:00:00\", \"trend\": 0.03388224419711434, \"yhat\": 0.03388224419711434, \"yhat_lower\": 0.01644521920133766, \"yhat_upper\": 0.05280951147833215, \"fact\": null, \"Id\": 9, \"anomaly\": 0, \"importance\": 0.0}, {\"ds\": \"2019-09-30T00:00:00\", \"trend\": 0.032029651815800954, \"yhat\": 0.032029651815800954, \"yhat_lower\": 0.013939756789762416, \"yhat_upper\": 0.049167868639054396, \"fact\": 0.0319, \"Id\": 10, \"anomaly\": 0, \"importance\": 0.0}, {\"ds\": \"2019-10-07T00:00:00\", \"trend\": 0.030177059432354176, \"yhat\": 0.030177059432354176, \"yhat_lower\": 0.012529346559184952, \"yhat_upper\": 0.04780645054148184, \"fact\": 0.0387, \"Id\": 11, \"anomaly\": 0, \"importance\": 0.0}, {\"ds\": \"2019-10-14T00:00:00\", \"trend\": 0.028324467048675184, \"yhat\": 0.028324467048675184, \"yhat_lower\": 0.010919398047389329, \"yhat_upper\": 0.04562663588880955, \"fact\": 0.0296, \"Id\": 12, \"anomaly\": 0, \"importance\": 0.0}, {\"ds\": \"2019-10-21T00:00:00\", \"trend\": 0.026471874662535737, \"yhat\": 0.026471874662535737, \"yhat_lower\": 0.008732491084078961, \"yhat_upper\": 0.04472279960495328, \"fact\": 0.0319, \"Id\": 13, \"anomaly\": 0, \"importance\": 0.0}, {\"ds\": \"2019-10-28T00:00:00\", \"trend\": 0.024619282276396287, \"yhat\": 0.024619282276396287, \"yhat_lower\": 0.006642561500224999, \"yhat_upper\": 0.043271349339007274, \"fact\": 0.0337, \"Id\": 14, \"anomaly\": 0, \"importance\": 0.0}, {\"ds\": \"2019-11-04T00:00:00\", \"trend\": 0.022766689890256833, \"yhat\": 0.022766689890256833, \"yhat_lower\": 0.0033030827479592594, \"yhat_upper\": 0.04022805329678589, \"fact\": 0.0002, \"Id\": 15, \"anomaly\": -1, \"importance\": 15.515413739796296}], \"data-9ce6fff6f2a94e10850ceb15fc804c74\": [{\"ds\": \"2019-07-29T00:00:00\", \"trend\": 0.04870298327151662, \"yhat\": 0.04870298327151662, \"yhat_lower\": 0.031121062607913468, \"yhat_upper\": 0.06653938790951652, \"fact\": 0.0353, \"Id\": 1, \"anomaly\": 0, \"importance\": 0.0}, {\"ds\": \"2019-08-05T00:00:00\", \"trend\": 0.04685039088187467, \"yhat\": 0.04685039088187467, \"yhat_lower\": 0.029492437962651687, \"yhat_upper\": 0.0659197177705994, \"fact\": 0.0434, \"Id\": 2, \"anomaly\": 0, \"importance\": 0.0}, {\"ds\": \"2019-08-12T00:00:00\", \"trend\": 0.04499779849706093, \"yhat\": 0.04499779849706093, \"yhat_lower\": 0.027167592419184414, \"yhat_upper\": 0.06297243668844776, \"fact\": 0.0417, \"Id\": 3, \"anomaly\": 0, \"importance\": 0.0}, {\"ds\": \"2019-08-26T00:00:00\", \"trend\": 0.04129261373043048, \"yhat\": 0.04129261373043048, \"yhat_lower\": 0.022471392793680097, \"yhat_upper\": 0.06032949971241543, \"fact\": 0.0499, \"Id\": 5, \"anomaly\": 0, \"importance\": 0.0}, {\"ds\": \"2019-09-02T00:00:00\", \"trend\": 0.039440021347331516, \"yhat\": 0.039440021347331516, \"yhat_lower\": 0.020612399085400718, \"yhat_upper\": 0.05823659574315996, \"fact\": null, \"Id\": 6, \"anomaly\": 0, \"importance\": 0.0}, {\"ds\": \"2019-09-09T00:00:00\", \"trend\": 0.03758742896423255, \"yhat\": 0.03758742896423255, \"yhat_lower\": 0.019492957242656, \"yhat_upper\": 0.05541705977596596, \"fact\": 0.0221, \"Id\": 7, \"anomaly\": 0, \"importance\": 0.0}, {\"ds\": \"2019-09-16T00:00:00\", \"trend\": 0.03573483657842772, \"yhat\": 0.03573483657842772, \"yhat_lower\": 0.017156225007698103, \"yhat_upper\": 0.05286186392443644, \"fact\": 0.0427, \"Id\": 8, \"anomaly\": 0, \"importance\": 0.0}, {\"ds\": \"2019-09-23T00:00:00\", \"trend\": 0.03388224419711434, \"yhat\": 0.03388224419711434, \"yhat_lower\": 0.01644521920133766, \"yhat_upper\": 0.05280951147833215, \"fact\": null, \"Id\": 9, \"anomaly\": 0, \"importance\": 0.0}, {\"ds\": \"2019-09-30T00:00:00\", \"trend\": 0.032029651815800954, \"yhat\": 0.032029651815800954, \"yhat_lower\": 0.013939756789762416, \"yhat_upper\": 0.049167868639054396, \"fact\": 0.0319, \"Id\": 10, \"anomaly\": 0, \"importance\": 0.0}, {\"ds\": \"2019-10-07T00:00:00\", \"trend\": 0.030177059432354176, \"yhat\": 0.030177059432354176, \"yhat_lower\": 0.012529346559184952, \"yhat_upper\": 0.04780645054148184, \"fact\": 0.0387, \"Id\": 11, \"anomaly\": 0, \"importance\": 0.0}, {\"ds\": \"2019-10-14T00:00:00\", \"trend\": 0.028324467048675184, \"yhat\": 0.028324467048675184, \"yhat_lower\": 0.010919398047389329, \"yhat_upper\": 0.04562663588880955, \"fact\": 0.0296, \"Id\": 12, \"anomaly\": 0, \"importance\": 0.0}, {\"ds\": \"2019-10-21T00:00:00\", \"trend\": 0.026471874662535737, \"yhat\": 0.026471874662535737, \"yhat_lower\": 0.008732491084078961, \"yhat_upper\": 0.04472279960495328, \"fact\": 0.0319, \"Id\": 13, \"anomaly\": 0, \"importance\": 0.0}, {\"ds\": \"2019-10-28T00:00:00\", \"trend\": 0.024619282276396287, \"yhat\": 0.024619282276396287, \"yhat_lower\": 0.006642561500224999, \"yhat_upper\": 0.043271349339007274, \"fact\": 0.0337, \"Id\": 14, \"anomaly\": 0, \"importance\": 0.0}], \"data-106e829335cfd21ec77b4ad0f3a3cb0d\": [{\"ds\": \"2019-08-19T00:00:00\", \"trend\": 0.04314520611697828, \"yhat\": 0.04314520611697828, \"yhat_lower\": 0.02352788740483494, \"yhat_upper\": 0.060808200083050386, \"fact\": 0.0618, \"Id\": 4, \"anomaly\": 1, \"importance\": 0.016048542345463025}, {\"ds\": \"2019-11-04T00:00:00\", \"trend\": 0.022766689890256833, \"yhat\": 0.022766689890256833, \"yhat_lower\": 0.0033030827479592594, \"yhat_upper\": 0.04022805329678589, \"fact\": 0.0002, \"Id\": 15, \"anomaly\": -1, \"importance\": 15.515413739796296}]}};\n",
       "const opt = {};\n",
       "const type = \"vega-lite\";\n",
       "const id = \"00c1cbb7-fce9-4d18-9c41-1376f9f025f9\";\n",
       "\n",
       "const output_area = this;\n",
       "\n",
       "require([\"nbextensions/jupyter-vega/index\"], function(vega) {\n",
       "  const target = document.createElement(\"div\");\n",
       "  target.id = id;\n",
       "  target.className = \"vega-embed\";\n",
       "\n",
       "  const style = document.createElement(\"style\");\n",
       "  style.textContent = [\n",
       "    \".vega-embed .error p {\",\n",
       "    \"  color: firebrick;\",\n",
       "    \"  font-size: 14px;\",\n",
       "    \"}\",\n",
       "  ].join(\"\\\\n\");\n",
       "\n",
       "  // element is a jQuery wrapped DOM element inside the output area\n",
       "  // see http://ipython.readthedocs.io/en/stable/api/generated/\\\n",
       "  // IPython.display.html#IPython.display.Javascript.__init__\n",
       "  element[0].appendChild(target);\n",
       "  element[0].appendChild(style);\n",
       "\n",
       "  vega.render(\"#\" + id, spec, type, opt, output_area);\n",
       "}, function (err) {\n",
       "  if (err.requireType !== \"scripterror\") {\n",
       "    throw(err);\n",
       "  }\n",
       "});\n"
      ],
      "text/plain": [
       "<vega.vegalite.VegaLite at 0x21e865adf08>"
      ]
     },
     "metadata": {
      "jupyter-vega": "#00c1cbb7-fce9-4d18-9c41-1376f9f025f9"
     },
     "output_type": "display_data"
    },
    {
     "data": {
      "text/plain": []
     },
     "execution_count": 10,
     "metadata": {},
     "output_type": "execute_result"
    },
    {
     "data": {
      "image/png": "[encoded data removed]"
     },
     "metadata": {
      "jupyter-vega": "#00c1cbb7-fce9-4d18-9c41-1376f9f025f9"
     },
     "output_type": "display_data"
    }
   ],
   "source": [
    "def plot_anomalies(forecasted):\n",
    "    # define how to plot the background with upper and lower boundary:\n",
    "    interval = alt.Chart(forecasted).mark_area(interpolate=\"basis\", color = '#7FC97F').encode(\n",
    "    x=alt.X('ds:T',  title ='date'),\n",
    "    y='yhat_upper',\n",
    "    y2='yhat_lower',\n",
    "    tooltip=['ds', 'fact', 'yhat_lower', 'yhat_upper','Id']\n",
    "    ).interactive().properties(\n",
    "        title='Anomaly Detection'\n",
    "    )\n",
    "    # define how to plot the \"normal\" values, and interactively show them up as mouse pointer hovers over them.\n",
    "    fact = alt.Chart(forecasted[forecasted.anomaly==0]).mark_circle(size=15, opacity=0.7, color = 'Black').encode(\n",
    "        x='ds:T',\n",
    "        y=alt.Y('fact', title='bottom reflectance'),    \n",
    "        tooltip=['ds', 'fact', 'yhat_lower', 'yhat_upper','Id']\n",
    "    ).interactive()\n",
    "    # define how to plot the anomaly values, and show them up as mouse pointer hovers over them.\n",
    "    anomalies = alt.Chart(forecasted[forecasted.anomaly!=0]).mark_circle(size=30, color = 'Red').encode(\n",
    "        x='ds:T',\n",
    "        y=alt.Y('fact', title='bottom reflectance'),    \n",
    "        tooltip=['ds', 'fact', 'yhat_lower', 'yhat_upper','Id'],\n",
    "        size = alt.Size( 'importance', legend=None)\n",
    "    ).interactive()\n",
    "\n",
    "    return alt.layer(interval, fact, anomalies)\\\n",
    "              .properties(width=870, height=450)\\\n",
    "              .configure_title(fontSize=20)\n",
    "            \n",
    "plot_anomalies(pred2)"
   ]
  },
  {
   "cell_type": "code",
   "execution_count": 20,
   "metadata": {},
   "outputs": [
    {
     "name": "stdout",
     "output_type": "stream",
     "text": [
      "0      1\n",
      "1      2\n",
      "2      3\n",
      "3      4\n",
      "4      5\n",
      "5      6\n",
      "6      7\n",
      "7      8\n",
      "8      9\n",
      "9     10\n",
      "10    11\n",
      "11    12\n",
      "12    13\n",
      "13    14\n",
      "14    15\n",
      "15    16\n",
      "16    17\n",
      "17    18\n",
      "18    19\n",
      "19    20\n",
      "20    21\n",
      "21    22\n",
      "22    23\n",
      "23    24\n",
      "24    25\n",
      "Name: Id, dtype: int64\n"
     ]
    }
   ],
   "source": [
    "print (pred.Id) #for testing purpose, can be ignored."
   ]
  },
  {
   "cell_type": "code",
   "execution_count": 21,
   "metadata": {},
   "outputs": [
    {
     "name": "stdout",
     "output_type": "stream",
     "text": [
      "0      1\n",
      "1      2\n",
      "2      3\n",
      "3      4\n",
      "4      5\n",
      "5      6\n",
      "6      7\n",
      "7      8\n",
      "8      9\n",
      "9     10\n",
      "10    11\n",
      "11    12\n",
      "12    13\n",
      "13    14\n",
      "14    15\n",
      "15    16\n",
      "16    17\n",
      "17    18\n",
      "18    19\n",
      "19    20\n",
      "20    21\n",
      "21    22\n",
      "22    23\n",
      "23    24\n",
      "24    25\n",
      "Name: Id, dtype: int64\n"
     ]
    }
   ],
   "source": [
    "print (pred2.Id) #for testing purpose, can be ignored."
   ]
  },
  {
   "cell_type": "code",
   "execution_count": 22,
   "metadata": {},
   "outputs": [
    {
     "name": "stdout",
     "output_type": "stream",
     "text": [
      "0      1\n",
      "1      2\n",
      "2      3\n",
      "3      4\n",
      "4      5\n",
      "5      6\n",
      "6      7\n",
      "7      8\n",
      "8      9\n",
      "9     10\n",
      "10    11\n",
      "11    12\n",
      "12    13\n",
      "13    14\n",
      "14    15\n",
      "15    16\n",
      "16    17\n",
      "17    18\n",
      "18    19\n",
      "19    20\n",
      "20    21\n",
      "21    22\n",
      "22    23\n",
      "23    24\n",
      "24    25\n",
      "Name: Id, dtype: int64\n"
     ]
    }
   ],
   "source": [
    "print (pred.Id) #for testing purpose, can be ignored."
   ]
  },
  {
   "cell_type": "code",
   "execution_count": 23,
   "metadata": {},
   "outputs": [],
   "source": [
    "upper = pred[pred['fact']>pred['yhat_upper']] \n",
    "lower = pred[pred['fact']<pred['yhat_lower']] \n",
    "#abnorm=pred[pred['anomaly']==0]"
   ]
  },
  {
   "cell_type": "code",
   "execution_count": 24,
   "metadata": {},
   "outputs": [
    {
     "name": "stdout",
     "output_type": "stream",
     "text": [
      "Empty DataFrame\n",
      "Columns: [ds, trend, yhat_lower, yhat_upper, trend_lower, trend_upper, additive_terms, additive_terms_lower, additive_terms_upper, multiplicative_terms, multiplicative_terms_lower, multiplicative_terms_upper, yhat, fact, Id]\n",
      "Index: []\n"
     ]
    }
   ],
   "source": [
    "print (upper)"
   ]
  },
  {
   "cell_type": "code",
   "execution_count": 25,
   "metadata": {},
   "outputs": [
    {
     "data": {
      "text/html": [
       "<table border=\"1\" class=\"dataframe\">\n",
       "  <thead>\n",
       "    <tr style=\"text-align: right;\">\n",
       "      <th></th>\n",
       "      <th>ds</th>\n",
       "      <th>trend</th>\n",
       "      <th>yhat_lower</th>\n",
       "      <th>yhat_upper</th>\n",
       "      <th>trend_lower</th>\n",
       "      <th>trend_upper</th>\n",
       "      <th>additive_terms</th>\n",
       "      <th>additive_terms_lower</th>\n",
       "      <th>additive_terms_upper</th>\n",
       "      <th>multiplicative_terms</th>\n",
       "      <th>multiplicative_terms_lower</th>\n",
       "      <th>multiplicative_terms_upper</th>\n",
       "      <th>yhat</th>\n",
       "      <th>fact</th>\n",
       "      <th>Id</th>\n",
       "    </tr>\n",
       "  </thead>\n",
       "  <tbody>\n",
       "  </tbody>\n",
       "</table>"
      ],
      "text/plain": [
       "<IPython.core.display.HTML object>"
      ]
     },
     "metadata": {},
     "output_type": "display_data"
    }
   ],
   "source": [
    "#Output the anmaly results into table:\n",
    "from IPython.core.display import HTML\n",
    "display(HTML(upper.to_html()))"
   ]
  },
  {
   "cell_type": "code",
   "execution_count": null,
   "metadata": {},
   "outputs": [],
   "source": []
  }
 ],
 "metadata": {
  "kernelspec": {
   "display_name": "Python 3",
   "language": "python",
   "name": "python3"
  },
  "language_info": {
   "codemirror_mode": {
    "name": "ipython",
    "version": 3
   },
   "file_extension": ".py",
   "mimetype": "text/x-python",
   "name": "python",
   "nbconvert_exporter": "python",
   "pygments_lexer": "ipython3",
   "version": "3.7.4"
  }
 },
 "nbformat": 4,
 "nbformat_minor": 2
}
