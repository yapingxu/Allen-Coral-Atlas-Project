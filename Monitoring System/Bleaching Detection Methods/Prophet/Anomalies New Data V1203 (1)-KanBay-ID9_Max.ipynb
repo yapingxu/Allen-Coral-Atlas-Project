{
 "cells": [
  {
   "cell_type": "code",
   "execution_count": 1,
   "metadata": {},
   "outputs": [],
   "source": [
    "import pandas as pd\n",
    "\n",
    "\n",
    "from dbfread import DBF\n",
    "from pandas import DataFrame\n",
    "\n",
    "#reading excel data that contains time series data:\n",
    "df2 = pd.read_excel(\"C:\\\\Users\\\\yapingxu.ASURITE\\\\Documents\\\\Allen Coral Atlas\\\\ID9ZonalMax\\\\ID9Max.xlsx\")\n",
    "#dbf = DBF(\"C:\\\\Users\\\\yapingxu.ASURITE\\\\Documents\\\\Allen Coral Atlas\\\\Oahu\\\\bottom_reprocess\\\\kanbay\\\\CoralClip\\\\ShpData\\\\ValidLocationsMean.dbf\", load=True)\n",
    "#dbf = DBF(\"D:\\\\LCL\\\\LCL\\\\yaping coral reef\\\\ShpData\\\\ShpData\\\\ValidLocationsMean.dbf\", load=True)\n",
    "#df = DataFrame(iter(dbf))\n",
    "\n",
    "#from simpledbf import Dbf5\n",
    "# dbf = Dbf5(\"C:\\\\Users\\\\LCL\\\\Allen Coral Atlas\\\\ShpData\\\\ValidLocationsMax.dbf\")\n",
    "\n",
    "#import geopandas as gpd\n",
    "#gpddf = gpd.read_file(\"C:\\\\Users\\\\yapingxu.ASURITE\\\\Documents\\\\Allen Coral Atlas\\\\Oahu\\\\bottom_reprocess\\\\kanbay\\\\CoralClip\\\\ShpData\\\\ValidLocationsMean.dbf\",float_precision='high') \n",
    "#df=pd.DataFrame(gpddf)\n",
    "\n",
    "\n",
    "#df1 = gpd.GeoDataFrame.from_file(u\"C:\\\\Users\\\\yapingxu.ASURITE\\\\Documents\\\\Allen Coral Atlas\\\\Oahu\\\\bottom_reprocess\\\\kanbay\\\\CoralClip\\\\ShpData\\\\ValidLocationsMean.dbf\")\n",
    "#df = pd.DataFrame(df1)\n",
    "\n",
    "##df = dbf.to_dataframe()\n",
    "#df\n"
   ]
  },
  {
   "cell_type": "code",
   "execution_count": 2,
   "metadata": {},
   "outputs": [
    {
     "data": {
      "text/plain": [
       "False"
      ]
     },
     "execution_count": 2,
     "metadata": {},
     "output_type": "execute_result"
    }
   ],
   "source": [
    "import sys\n",
    "'geopandas' in sys.modules"
   ]
  },
  {
   "cell_type": "code",
   "execution_count": 3,
   "metadata": {},
   "outputs": [
    {
     "data": {
      "text/html": [
       "<div>\n",
       "<style scoped>\n",
       "    .dataframe tbody tr th:only-of-type {\n",
       "        vertical-align: middle;\n",
       "    }\n",
       "\n",
       "    .dataframe tbody tr th {\n",
       "        vertical-align: top;\n",
       "    }\n",
       "\n",
       "    .dataframe thead th {\n",
       "        text-align: right;\n",
       "    }\n",
       "</style>\n",
       "<table border=\"1\" class=\"dataframe\">\n",
       "  <thead>\n",
       "    <tr style=\"text-align: right;\">\n",
       "      <th></th>\n",
       "      <th>Id</th>\n",
       "      <th>ds</th>\n",
       "      <th>y</th>\n",
       "    </tr>\n",
       "  </thead>\n",
       "  <tbody>\n",
       "    <tr>\n",
       "      <td>0</td>\n",
       "      <td>1</td>\n",
       "      <td>20190429</td>\n",
       "      <td>0.0510</td>\n",
       "    </tr>\n",
       "    <tr>\n",
       "      <td>1</td>\n",
       "      <td>2</td>\n",
       "      <td>20190506</td>\n",
       "      <td>-0.0040</td>\n",
       "    </tr>\n",
       "    <tr>\n",
       "      <td>2</td>\n",
       "      <td>3</td>\n",
       "      <td>20190513</td>\n",
       "      <td>NaN</td>\n",
       "    </tr>\n",
       "    <tr>\n",
       "      <td>3</td>\n",
       "      <td>4</td>\n",
       "      <td>20190520</td>\n",
       "      <td>NaN</td>\n",
       "    </tr>\n",
       "    <tr>\n",
       "      <td>4</td>\n",
       "      <td>5</td>\n",
       "      <td>20190527</td>\n",
       "      <td>0.0047</td>\n",
       "    </tr>\n",
       "  </tbody>\n",
       "</table>\n",
       "</div>"
      ],
      "text/plain": [
       "   Id        ds       y\n",
       "0   1  20190429  0.0510\n",
       "1   2  20190506 -0.0040\n",
       "2   3  20190513     NaN\n",
       "3   4  20190520     NaN\n",
       "4   5  20190527  0.0047"
      ]
     },
     "execution_count": 3,
     "metadata": {},
     "output_type": "execute_result"
    }
   ],
   "source": [
    "df2.head()"
   ]
  },
  {
   "cell_type": "code",
   "execution_count": 4,
   "metadata": {},
   "outputs": [
    {
     "data": {
      "text/plain": [
       "26"
      ]
     },
     "execution_count": 4,
     "metadata": {},
     "output_type": "execute_result"
    }
   ],
   "source": [
    "len(df2)"
   ]
  },
  {
   "cell_type": "code",
   "execution_count": 29,
   "metadata": {},
   "outputs": [],
   "source": [
    "import pandas as pd\n",
    "from fbprophet import Prophet\n",
    "import matplotlib\n",
    "import altair as alt\n",
    "alt.renderers.enable('notebook')\n",
    "from vega_datasets import data #the last three lines are for plotting support\n",
    "\n",
    "from altair import pipe, limit_rows, to_values\n",
    "t = lambda data: pipe(data, limit_rows(max_rows=5000), to_values) # default is 5000 rows, changed to 110000 to display total rows.\n",
    "alt.data_transformers.register('custom', t)\n",
    "alt.data_transformers.enable('custom')\n",
    "\n",
    "#df1 = pd.read_excel(\"C:\\\\Users\\\\yapingxu\\\\Documents\\\\TimeSeriesPython\\\\Oahu\\\\DataCSV - Copy.xlsx\")\n",
    "#The following modual is to define the forcasting model.Seasonality, interval_width and number of change points are the three most important parameters.\n",
    "def fit_predict_model(dataframe, interval_width = 0.90, changepoints = ['20190805','20190812','20190819','20190826','20190805','20190902','20190909','20190916','20190923','20190930','20191007','20191014','20191021']):\n",
    "    # fit the model by instantiating a new Prophet object:\n",
    "    m = Prophet(daily_seasonality = True, yearly_seasonality = False, weekly_seasonality = False,\n",
    "                seasonality_mode = 'additive', \n",
    "                interval_width = interval_width,\n",
    "                changepoints = changepoints)\n",
    "                #optional parameter:changepoint_range = changepoint_range)\n",
    "    # then call its fit method and pass in the historical dataframe:    \n",
    "    m = m.fit(dataframe) \n",
    "    forecast = m.predict(dataframe)\n",
    "    forecast['fact'] = dataframe['y'].reset_index(drop = True)\n",
    "    forecast['Id'] = dataframe['Id']\n",
    "    ##The predict method will assign each row in future a predicted value which it names yhat. \n",
    "    # we pass in historical dates by the above fit method, it will provide an in-sample fit. \n",
    "    #The forecast object here is a new dataframe that includes a column yhat with the forecast, as well as columns for components and uncertainty intervals. They'll be used in the next module.\n",
    "    return forecast\n",
    "    \n",
    "pred = fit_predict_model(df2)"
   ]
  },
  {
   "cell_type": "code",
   "execution_count": 30,
   "metadata": {},
   "outputs": [],
   "source": [
    "def detect_anomalies(forecast):\n",
    "    forecasted = forecast[['ds','trend', 'yhat', 'yhat_lower', 'yhat_upper', 'fact','Id']].copy() #see the lat comment in the last module.\n",
    "    #forecast['fact'] = df['y']\n",
    "    \n",
    "    # define the anomalies records. If the true value is larger than predicted upper, it's defined as upper anomaly. If the true value is smaller than predicted lower, it's defined as lower anomaly. \n",
    "    forecasted['anomaly'] = 0\n",
    "    forecasted.loc[forecasted['fact'] > forecasted['yhat_upper'], 'anomaly'] = 1\n",
    "    forecasted.loc[forecasted['fact'] < forecasted['yhat_lower'], 'anomaly'] = -1\n",
    "\n",
    "    #anomaly importances, define the size of the red points.\n",
    "    forecasted['importance'] = 0\n",
    "    forecasted.loc[forecasted['anomaly'] ==1, 'importance'] = \\\n",
    "        (forecasted['fact'] - forecasted['yhat_upper'])/forecast['fact']\n",
    "    forecasted.loc[forecasted['anomaly'] ==-1, 'importance'] = \\\n",
    "        (forecasted['yhat_lower'] - forecasted['fact'])/forecast['fact']\n",
    "    \n",
    "    return forecasted\n",
    "\n",
    "pred2 = detect_anomalies(pred)"
   ]
  },
  {
   "cell_type": "code",
   "execution_count": 31,
   "metadata": {
    "scrolled": true
   },
   "outputs": [
    {
     "data": {
      "application/javascript": [
       "const spec = {\"config\": {\"view\": {\"width\": 400, \"height\": 300}, \"mark\": {\"tooltip\": null}, \"title\": {\"fontSize\": 20}}, \"layer\": [{\"data\": {\"name\": \"data-0ec2a21c5d548a3e491f198a95e2e7ff\"}, \"mark\": {\"type\": \"area\", \"color\": \"#7FC97F\", \"interpolate\": \"basis\"}, \"encoding\": {\"tooltip\": [{\"type\": \"temporal\", \"field\": \"ds\"}, {\"type\": \"quantitative\", \"field\": \"fact\"}, {\"type\": \"quantitative\", \"field\": \"yhat_lower\"}, {\"type\": \"quantitative\", \"field\": \"yhat_upper\"}, {\"type\": \"quantitative\", \"field\": \"Id\"}], \"x\": {\"type\": \"temporal\", \"field\": \"ds\", \"title\": \"date\"}, \"y\": {\"type\": \"quantitative\", \"field\": \"yhat_upper\"}, \"y2\": {\"field\": \"yhat_lower\"}}, \"selection\": {\"selector010\": {\"type\": \"interval\", \"bind\": \"scales\", \"encodings\": [\"x\", \"y\"]}}, \"title\": \"Anomaly Detection\"}, {\"data\": {\"name\": \"data-855d496fc79c0434874cb67e9ea0347e\"}, \"mark\": {\"type\": \"circle\", \"color\": \"Black\", \"opacity\": 0.7, \"size\": 15}, \"encoding\": {\"tooltip\": [{\"type\": \"temporal\", \"field\": \"ds\"}, {\"type\": \"quantitative\", \"field\": \"fact\"}, {\"type\": \"quantitative\", \"field\": \"yhat_lower\"}, {\"type\": \"quantitative\", \"field\": \"yhat_upper\"}, {\"type\": \"quantitative\", \"field\": \"Id\"}], \"x\": {\"type\": \"temporal\", \"field\": \"ds\"}, \"y\": {\"type\": \"quantitative\", \"field\": \"fact\", \"title\": \"bottom reflectance\"}}, \"selection\": {\"selector011\": {\"type\": \"interval\", \"bind\": \"scales\", \"encodings\": [\"x\", \"y\"]}}}, {\"data\": {\"name\": \"data-cbb0a811c7d85916d862861aba04f52f\"}, \"mark\": {\"type\": \"circle\", \"color\": \"Red\", \"size\": 30}, \"encoding\": {\"size\": {\"type\": \"quantitative\", \"field\": \"importance\", \"legend\": null}, \"tooltip\": [{\"type\": \"temporal\", \"field\": \"ds\"}, {\"type\": \"quantitative\", \"field\": \"fact\"}, {\"type\": \"quantitative\", \"field\": \"yhat_lower\"}, {\"type\": \"quantitative\", \"field\": \"yhat_upper\"}, {\"type\": \"quantitative\", \"field\": \"Id\"}], \"x\": {\"type\": \"temporal\", \"field\": \"ds\"}, \"y\": {\"type\": \"quantitative\", \"field\": \"fact\", \"title\": \"bottom reflectance\"}}, \"selection\": {\"selector012\": {\"type\": \"interval\", \"bind\": \"scales\", \"encodings\": [\"x\", \"y\"]}}}], \"height\": 450, \"width\": 870, \"$schema\": \"https://vega.github.io/schema/vega-lite/v3.4.0.json\", \"datasets\": {\"data-0ec2a21c5d548a3e491f198a95e2e7ff\": [{\"ds\": \"2019-04-29T00:00:00\", \"trend\": 0.0007204878952760241, \"yhat\": 0.012061546389801704, \"yhat_lower\": -0.031161943371615302, \"yhat_upper\": 0.053703840269723024, \"fact\": 0.051, \"Id\": 1, \"anomaly\": 0, \"importance\": 0.0}, {\"ds\": \"2019-05-06T00:00:00\", \"trend\": 0.003243359372666888, \"yhat\": 0.014584417867192568, \"yhat_lower\": -0.030107779660186643, \"yhat_upper\": 0.05723204314045966, \"fact\": -0.004, \"Id\": 2, \"anomaly\": 0, \"importance\": 0.0}, {\"ds\": \"2019-05-13T00:00:00\", \"trend\": 0.005766230850057752, \"yhat\": 0.017107289344583432, \"yhat_lower\": -0.026978590268317552, \"yhat_upper\": 0.06032831241817315, \"fact\": null, \"Id\": 3, \"anomaly\": 0, \"importance\": 0.0}, {\"ds\": \"2019-05-20T00:00:00\", \"trend\": 0.008289102327448616, \"yhat\": 0.019630160821974295, \"yhat_lower\": -0.02403197836755202, \"yhat_upper\": 0.06597227533026183, \"fact\": null, \"Id\": 4, \"anomaly\": 0, \"importance\": 0.0}, {\"ds\": \"2019-05-27T00:00:00\", \"trend\": 0.010811973804839479, \"yhat\": 0.02215303229936516, \"yhat_lower\": -0.02164368267610213, \"yhat_upper\": 0.06455120131696371, \"fact\": 0.0047, \"Id\": 5, \"anomaly\": 0, \"importance\": 0.0}, {\"ds\": \"2019-06-03T00:00:00\", \"trend\": 0.013334845282230345, \"yhat\": 0.024675903776756027, \"yhat_lower\": -0.020084810141913163, \"yhat_upper\": 0.06581785779707722, \"fact\": -0.0341, \"Id\": 6, \"anomaly\": -1, \"importance\": -0.4110026351345113}, {\"ds\": \"2019-06-10T00:00:00\", \"trend\": 0.01585771675962121, \"yhat\": 0.027198775254146892, \"yhat_lower\": -0.020232479276642082, \"yhat_upper\": 0.06944066182725289, \"fact\": 0.0619, \"Id\": 7, \"anomaly\": 0, \"importance\": 0.0}, {\"ds\": \"2019-06-17T00:00:00\", \"trend\": 0.018380588237012073, \"yhat\": 0.02972164673153775, \"yhat_lower\": -0.0151743909093575, \"yhat_upper\": 0.06904292162975, \"fact\": -0.0131, \"Id\": 8, \"anomaly\": 0, \"importance\": 0.0}, {\"ds\": \"2019-06-24T00:00:00\", \"trend\": 0.020903459714402935, \"yhat\": 0.03224451820892862, \"yhat_lower\": -0.012142007179466377, \"yhat_upper\": 0.07385747173865206, \"fact\": null, \"Id\": 9, \"anomaly\": 0, \"importance\": 0.0}, {\"ds\": \"2019-07-01T00:00:00\", \"trend\": 0.0234263311917938, \"yhat\": 0.03476738968631948, \"yhat_lower\": -0.009216954191456088, \"yhat_upper\": 0.07930493873478035, \"fact\": 0.0621, \"Id\": 10, \"anomaly\": 0, \"importance\": 0.0}, {\"ds\": \"2019-07-08T00:00:00\", \"trend\": 0.025949202669184664, \"yhat\": 0.03729026116371034, \"yhat_lower\": -0.007448665139575953, \"yhat_upper\": 0.08083970583370521, \"fact\": 0.0467, \"Id\": 11, \"anomaly\": 0, \"importance\": 0.0}, {\"ds\": \"2019-07-15T00:00:00\", \"trend\": 0.02847207414657553, \"yhat\": 0.03981313264110121, \"yhat_lower\": -0.0058913202308776376, \"yhat_upper\": 0.0821700594453573, \"fact\": 0.0521, \"Id\": 12, \"anomaly\": 0, \"importance\": 0.0}, {\"ds\": \"2019-07-22T00:00:00\", \"trend\": 0.030994945623966392, \"yhat\": 0.042336004118492074, \"yhat_lower\": 0.001529358187084463, \"yhat_upper\": 0.08462270324801893, \"fact\": null, \"Id\": 13, \"anomaly\": 0, \"importance\": 0.0}, {\"ds\": \"2019-07-29T00:00:00\", \"trend\": 0.033517817101357254, \"yhat\": 0.04485887559588293, \"yhat_lower\": 0.0007468633370522744, \"yhat_upper\": 0.08889909718085647, \"fact\": 0.0512, \"Id\": 14, \"anomaly\": 0, \"importance\": 0.0}, {\"ds\": \"2019-08-05T00:00:00\", \"trend\": 0.03604068857874812, \"yhat\": 0.0473817470732738, \"yhat_lower\": -5.372250920346947e-05, \"yhat_upper\": 0.0900032702741048, \"fact\": 0.0203, \"Id\": 15, \"anomaly\": 0, \"importance\": 0.0}, {\"ds\": \"2019-08-12T00:00:00\", \"trend\": 0.03856356005667764, \"yhat\": 0.04990461855120332, \"yhat_lower\": 0.0070984528972040115, \"yhat_upper\": 0.09411112311369187, \"fact\": 0.0635, \"Id\": 16, \"anomaly\": 0, \"importance\": 0.0}, {\"ds\": \"2019-08-19T00:00:00\", \"trend\": 0.04108643153459309, \"yhat\": 0.05242749002911877, \"yhat_lower\": 0.008715374244554555, \"yhat_upper\": 0.09791327295218025, \"fact\": 0.0841, \"Id\": 17, \"anomaly\": 0, \"importance\": 0.0}, {\"ds\": \"2019-08-26T00:00:00\", \"trend\": 0.043609303012338584, \"yhat\": 0.05495036150686426, \"yhat_lower\": 0.010940984377630476, \"yhat_upper\": 0.09930891909250993, \"fact\": null, \"Id\": 18, \"anomaly\": 0, \"importance\": 0.0}, {\"ds\": \"2019-09-02T00:00:00\", \"trend\": 0.04613217449037308, \"yhat\": 0.05747323298489876, \"yhat_lower\": 0.016990228863788145, \"yhat_upper\": 0.10103807326372462, \"fact\": null, \"Id\": 19, \"anomaly\": 0, \"importance\": 0.0}, {\"ds\": \"2019-09-09T00:00:00\", \"trend\": 0.048655045968499934, \"yhat\": 0.05999610446302561, \"yhat_lower\": 0.015913167771961566, \"yhat_upper\": 0.1023818013110143, \"fact\": 0.0836, \"Id\": 20, \"anomaly\": 0, \"importance\": 0.0}, {\"ds\": \"2019-09-16T00:00:00\", \"trend\": 0.05117791744652247, \"yhat\": 0.06251897594104815, \"yhat_lower\": 0.018807733764030075, \"yhat_upper\": 0.1036390976457864, \"fact\": null, \"Id\": 21, \"anomaly\": 0, \"importance\": 0.0}, {\"ds\": \"2019-09-23T00:00:00\", \"trend\": 0.053700788924817514, \"yhat\": 0.0650418474193432, \"yhat_lower\": 0.02397474371052601, \"yhat_upper\": 0.10856126672860582, \"fact\": 0.0696, \"Id\": 22, \"anomaly\": 0, \"importance\": 0.0}, {\"ds\": \"2019-09-30T00:00:00\", \"trend\": 0.05622366040310626, \"yhat\": 0.06756471889763194, \"yhat_lower\": 0.025704995509870238, \"yhat_upper\": 0.1082630370521761, \"fact\": 0.0749, \"Id\": 23, \"anomaly\": 0, \"importance\": 0.0}, {\"ds\": \"2019-10-07T00:00:00\", \"trend\": 0.05874653188159618, \"yhat\": 0.07008759037612186, \"yhat_lower\": 0.028046445443650383, \"yhat_upper\": 0.10998845027727237, \"fact\": 0.0742, \"Id\": 24, \"anomaly\": 0, \"importance\": 0.0}, {\"ds\": \"2019-10-14T00:00:00\", \"trend\": 0.061269403359814, \"yhat\": 0.07261046185433968, \"yhat_lower\": 0.029500602056106506, \"yhat_upper\": 0.11499014542463584, \"fact\": 0.0543, \"Id\": 25, \"anomaly\": 0, \"importance\": 0.0}, {\"ds\": \"2019-10-21T00:00:00\", \"trend\": 0.06379227483820826, \"yhat\": 0.07513333333273395, \"yhat_lower\": 0.031239951121905633, \"yhat_upper\": 0.11700677089951136, \"fact\": 0.0443, \"Id\": 26, \"anomaly\": 0, \"importance\": 0.0}], \"data-855d496fc79c0434874cb67e9ea0347e\": [{\"ds\": \"2019-04-29T00:00:00\", \"trend\": 0.0007204878952760241, \"yhat\": 0.012061546389801704, \"yhat_lower\": -0.031161943371615302, \"yhat_upper\": 0.053703840269723024, \"fact\": 0.051, \"Id\": 1, \"anomaly\": 0, \"importance\": 0.0}, {\"ds\": \"2019-05-06T00:00:00\", \"trend\": 0.003243359372666888, \"yhat\": 0.014584417867192568, \"yhat_lower\": -0.030107779660186643, \"yhat_upper\": 0.05723204314045966, \"fact\": -0.004, \"Id\": 2, \"anomaly\": 0, \"importance\": 0.0}, {\"ds\": \"2019-05-13T00:00:00\", \"trend\": 0.005766230850057752, \"yhat\": 0.017107289344583432, \"yhat_lower\": -0.026978590268317552, \"yhat_upper\": 0.06032831241817315, \"fact\": null, \"Id\": 3, \"anomaly\": 0, \"importance\": 0.0}, {\"ds\": \"2019-05-20T00:00:00\", \"trend\": 0.008289102327448616, \"yhat\": 0.019630160821974295, \"yhat_lower\": -0.02403197836755202, \"yhat_upper\": 0.06597227533026183, \"fact\": null, \"Id\": 4, \"anomaly\": 0, \"importance\": 0.0}, {\"ds\": \"2019-05-27T00:00:00\", \"trend\": 0.010811973804839479, \"yhat\": 0.02215303229936516, \"yhat_lower\": -0.02164368267610213, \"yhat_upper\": 0.06455120131696371, \"fact\": 0.0047, \"Id\": 5, \"anomaly\": 0, \"importance\": 0.0}, {\"ds\": \"2019-06-10T00:00:00\", \"trend\": 0.01585771675962121, \"yhat\": 0.027198775254146892, \"yhat_lower\": -0.020232479276642082, \"yhat_upper\": 0.06944066182725289, \"fact\": 0.0619, \"Id\": 7, \"anomaly\": 0, \"importance\": 0.0}, {\"ds\": \"2019-06-17T00:00:00\", \"trend\": 0.018380588237012073, \"yhat\": 0.02972164673153775, \"yhat_lower\": -0.0151743909093575, \"yhat_upper\": 0.06904292162975, \"fact\": -0.0131, \"Id\": 8, \"anomaly\": 0, \"importance\": 0.0}, {\"ds\": \"2019-06-24T00:00:00\", \"trend\": 0.020903459714402935, \"yhat\": 0.03224451820892862, \"yhat_lower\": -0.012142007179466377, \"yhat_upper\": 0.07385747173865206, \"fact\": null, \"Id\": 9, \"anomaly\": 0, \"importance\": 0.0}, {\"ds\": \"2019-07-01T00:00:00\", \"trend\": 0.0234263311917938, \"yhat\": 0.03476738968631948, \"yhat_lower\": -0.009216954191456088, \"yhat_upper\": 0.07930493873478035, \"fact\": 0.0621, \"Id\": 10, \"anomaly\": 0, \"importance\": 0.0}, {\"ds\": \"2019-07-08T00:00:00\", \"trend\": 0.025949202669184664, \"yhat\": 0.03729026116371034, \"yhat_lower\": -0.007448665139575953, \"yhat_upper\": 0.08083970583370521, \"fact\": 0.0467, \"Id\": 11, \"anomaly\": 0, \"importance\": 0.0}, {\"ds\": \"2019-07-15T00:00:00\", \"trend\": 0.02847207414657553, \"yhat\": 0.03981313264110121, \"yhat_lower\": -0.0058913202308776376, \"yhat_upper\": 0.0821700594453573, \"fact\": 0.0521, \"Id\": 12, \"anomaly\": 0, \"importance\": 0.0}, {\"ds\": \"2019-07-22T00:00:00\", \"trend\": 0.030994945623966392, \"yhat\": 0.042336004118492074, \"yhat_lower\": 0.001529358187084463, \"yhat_upper\": 0.08462270324801893, \"fact\": null, \"Id\": 13, \"anomaly\": 0, \"importance\": 0.0}, {\"ds\": \"2019-07-29T00:00:00\", \"trend\": 0.033517817101357254, \"yhat\": 0.04485887559588293, \"yhat_lower\": 0.0007468633370522744, \"yhat_upper\": 0.08889909718085647, \"fact\": 0.0512, \"Id\": 14, \"anomaly\": 0, \"importance\": 0.0}, {\"ds\": \"2019-08-05T00:00:00\", \"trend\": 0.03604068857874812, \"yhat\": 0.0473817470732738, \"yhat_lower\": -5.372250920346947e-05, \"yhat_upper\": 0.0900032702741048, \"fact\": 0.0203, \"Id\": 15, \"anomaly\": 0, \"importance\": 0.0}, {\"ds\": \"2019-08-12T00:00:00\", \"trend\": 0.03856356005667764, \"yhat\": 0.04990461855120332, \"yhat_lower\": 0.0070984528972040115, \"yhat_upper\": 0.09411112311369187, \"fact\": 0.0635, \"Id\": 16, \"anomaly\": 0, \"importance\": 0.0}, {\"ds\": \"2019-08-19T00:00:00\", \"trend\": 0.04108643153459309, \"yhat\": 0.05242749002911877, \"yhat_lower\": 0.008715374244554555, \"yhat_upper\": 0.09791327295218025, \"fact\": 0.0841, \"Id\": 17, \"anomaly\": 0, \"importance\": 0.0}, {\"ds\": \"2019-08-26T00:00:00\", \"trend\": 0.043609303012338584, \"yhat\": 0.05495036150686426, \"yhat_lower\": 0.010940984377630476, \"yhat_upper\": 0.09930891909250993, \"fact\": null, \"Id\": 18, \"anomaly\": 0, \"importance\": 0.0}, {\"ds\": \"2019-09-02T00:00:00\", \"trend\": 0.04613217449037308, \"yhat\": 0.05747323298489876, \"yhat_lower\": 0.016990228863788145, \"yhat_upper\": 0.10103807326372462, \"fact\": null, \"Id\": 19, \"anomaly\": 0, \"importance\": 0.0}, {\"ds\": \"2019-09-09T00:00:00\", \"trend\": 0.048655045968499934, \"yhat\": 0.05999610446302561, \"yhat_lower\": 0.015913167771961566, \"yhat_upper\": 0.1023818013110143, \"fact\": 0.0836, \"Id\": 20, \"anomaly\": 0, \"importance\": 0.0}, {\"ds\": \"2019-09-16T00:00:00\", \"trend\": 0.05117791744652247, \"yhat\": 0.06251897594104815, \"yhat_lower\": 0.018807733764030075, \"yhat_upper\": 0.1036390976457864, \"fact\": null, \"Id\": 21, \"anomaly\": 0, \"importance\": 0.0}, {\"ds\": \"2019-09-23T00:00:00\", \"trend\": 0.053700788924817514, \"yhat\": 0.0650418474193432, \"yhat_lower\": 0.02397474371052601, \"yhat_upper\": 0.10856126672860582, \"fact\": 0.0696, \"Id\": 22, \"anomaly\": 0, \"importance\": 0.0}, {\"ds\": \"2019-09-30T00:00:00\", \"trend\": 0.05622366040310626, \"yhat\": 0.06756471889763194, \"yhat_lower\": 0.025704995509870238, \"yhat_upper\": 0.1082630370521761, \"fact\": 0.0749, \"Id\": 23, \"anomaly\": 0, \"importance\": 0.0}, {\"ds\": \"2019-10-07T00:00:00\", \"trend\": 0.05874653188159618, \"yhat\": 0.07008759037612186, \"yhat_lower\": 0.028046445443650383, \"yhat_upper\": 0.10998845027727237, \"fact\": 0.0742, \"Id\": 24, \"anomaly\": 0, \"importance\": 0.0}, {\"ds\": \"2019-10-14T00:00:00\", \"trend\": 0.061269403359814, \"yhat\": 0.07261046185433968, \"yhat_lower\": 0.029500602056106506, \"yhat_upper\": 0.11499014542463584, \"fact\": 0.0543, \"Id\": 25, \"anomaly\": 0, \"importance\": 0.0}, {\"ds\": \"2019-10-21T00:00:00\", \"trend\": 0.06379227483820826, \"yhat\": 0.07513333333273395, \"yhat_lower\": 0.031239951121905633, \"yhat_upper\": 0.11700677089951136, \"fact\": 0.0443, \"Id\": 26, \"anomaly\": 0, \"importance\": 0.0}], \"data-cbb0a811c7d85916d862861aba04f52f\": [{\"ds\": \"2019-06-03T00:00:00\", \"trend\": 0.013334845282230345, \"yhat\": 0.024675903776756027, \"yhat_lower\": -0.020084810141913163, \"yhat_upper\": 0.06581785779707722, \"fact\": -0.0341, \"Id\": 6, \"anomaly\": -1, \"importance\": -0.4110026351345113}]}};\n",
       "const opt = {};\n",
       "const type = \"vega-lite\";\n",
       "const id = \"31d96bc0-2129-4e3e-84d3-5ba9c4ee8480\";\n",
       "\n",
       "const output_area = this;\n",
       "\n",
       "require([\"nbextensions/jupyter-vega/index\"], function(vega) {\n",
       "  const target = document.createElement(\"div\");\n",
       "  target.id = id;\n",
       "  target.className = \"vega-embed\";\n",
       "\n",
       "  const style = document.createElement(\"style\");\n",
       "  style.textContent = [\n",
       "    \".vega-embed .error p {\",\n",
       "    \"  color: firebrick;\",\n",
       "    \"  font-size: 14px;\",\n",
       "    \"}\",\n",
       "  ].join(\"\\\\n\");\n",
       "\n",
       "  // element is a jQuery wrapped DOM element inside the output area\n",
       "  // see http://ipython.readthedocs.io/en/stable/api/generated/\\\n",
       "  // IPython.display.html#IPython.display.Javascript.__init__\n",
       "  element[0].appendChild(target);\n",
       "  element[0].appendChild(style);\n",
       "\n",
       "  vega.render(\"#\" + id, spec, type, opt, output_area);\n",
       "}, function (err) {\n",
       "  if (err.requireType !== \"scripterror\") {\n",
       "    throw(err);\n",
       "  }\n",
       "});\n"
      ],
      "text/plain": [
       "<vega.vegalite.VegaLite at 0x292e8a7aa88>"
      ]
     },
     "metadata": {
      "jupyter-vega": "#31d96bc0-2129-4e3e-84d3-5ba9c4ee8480"
     },
     "output_type": "display_data"
    },
    {
     "data": {
      "text/plain": []
     },
     "execution_count": 31,
     "metadata": {},
     "output_type": "execute_result"
    },
    {
     "data": {
      "image/png": "[encoded data removed]"
     },
     "metadata": {
      "jupyter-vega": "#31d96bc0-2129-4e3e-84d3-5ba9c4ee8480"
     },
     "output_type": "display_data"
    }
   ],
   "source": [
    "def plot_anomalies(forecasted):\n",
    "    # define how to plot the background with upper and lower boundary:\n",
    "    interval = alt.Chart(forecasted).mark_area(interpolate=\"basis\", color = '#7FC97F').encode(\n",
    "    x=alt.X('ds:T',  title ='date'),\n",
    "    y='yhat_upper',\n",
    "    y2='yhat_lower',\n",
    "    tooltip=['ds', 'fact', 'yhat_lower', 'yhat_upper','Id']\n",
    "    ).interactive().properties(\n",
    "        title='Anomaly Detection'\n",
    "    )\n",
    "    # define how to plot the \"normal\" values, and interactively show them up as mouse pointer hovers over them.\n",
    "    fact = alt.Chart(forecasted[forecasted.anomaly==0]).mark_circle(size=15, opacity=0.7, color = 'Black').encode(\n",
    "        x='ds:T',\n",
    "        y=alt.Y('fact', title='bottom reflectance'),    \n",
    "        tooltip=['ds', 'fact', 'yhat_lower', 'yhat_upper','Id']\n",
    "    ).interactive()\n",
    "    # define how to plot the anomaly values, and show them up as mouse pointer hovers over them.\n",
    "    anomalies = alt.Chart(forecasted[forecasted.anomaly!=0]).mark_circle(size=30, color = 'Red').encode(\n",
    "        x='ds:T',\n",
    "        y=alt.Y('fact', title='bottom reflectance'),    \n",
    "        tooltip=['ds', 'fact', 'yhat_lower', 'yhat_upper','Id'],\n",
    "        size = alt.Size( 'importance', legend=None)\n",
    "    ).interactive()\n",
    "\n",
    "    return alt.layer(interval, fact, anomalies)\\\n",
    "              .properties(width=870, height=450)\\\n",
    "              .configure_title(fontSize=20)\n",
    "            \n",
    "plot_anomalies(pred2)"
   ]
  },
  {
   "cell_type": "code",
   "execution_count": 20,
   "metadata": {},
   "outputs": [
    {
     "name": "stdout",
     "output_type": "stream",
     "text": [
      "0      1\n",
      "1      2\n",
      "2      3\n",
      "3      4\n",
      "4      5\n",
      "5      6\n",
      "6      7\n",
      "7      8\n",
      "8      9\n",
      "9     10\n",
      "10    11\n",
      "11    12\n",
      "12    13\n",
      "13    14\n",
      "14    15\n",
      "15    16\n",
      "16    17\n",
      "17    18\n",
      "18    19\n",
      "19    20\n",
      "20    21\n",
      "21    22\n",
      "22    23\n",
      "23    24\n",
      "24    25\n",
      "Name: Id, dtype: int64\n"
     ]
    }
   ],
   "source": [
    "print (pred.Id) #for testing purpose, can be ignored."
   ]
  },
  {
   "cell_type": "code",
   "execution_count": 21,
   "metadata": {},
   "outputs": [
    {
     "name": "stdout",
     "output_type": "stream",
     "text": [
      "0      1\n",
      "1      2\n",
      "2      3\n",
      "3      4\n",
      "4      5\n",
      "5      6\n",
      "6      7\n",
      "7      8\n",
      "8      9\n",
      "9     10\n",
      "10    11\n",
      "11    12\n",
      "12    13\n",
      "13    14\n",
      "14    15\n",
      "15    16\n",
      "16    17\n",
      "17    18\n",
      "18    19\n",
      "19    20\n",
      "20    21\n",
      "21    22\n",
      "22    23\n",
      "23    24\n",
      "24    25\n",
      "Name: Id, dtype: int64\n"
     ]
    }
   ],
   "source": [
    "print (pred2.Id) #for testing purpose, can be ignored."
   ]
  },
  {
   "cell_type": "code",
   "execution_count": 22,
   "metadata": {},
   "outputs": [
    {
     "name": "stdout",
     "output_type": "stream",
     "text": [
      "0      1\n",
      "1      2\n",
      "2      3\n",
      "3      4\n",
      "4      5\n",
      "5      6\n",
      "6      7\n",
      "7      8\n",
      "8      9\n",
      "9     10\n",
      "10    11\n",
      "11    12\n",
      "12    13\n",
      "13    14\n",
      "14    15\n",
      "15    16\n",
      "16    17\n",
      "17    18\n",
      "18    19\n",
      "19    20\n",
      "20    21\n",
      "21    22\n",
      "22    23\n",
      "23    24\n",
      "24    25\n",
      "Name: Id, dtype: int64\n"
     ]
    }
   ],
   "source": [
    "print (pred.Id) #for testing purpose, can be ignored."
   ]
  },
  {
   "cell_type": "code",
   "execution_count": 23,
   "metadata": {},
   "outputs": [],
   "source": [
    "upper = pred[pred['fact']>pred['yhat_upper']] \n",
    "lower = pred[pred['fact']<pred['yhat_lower']] \n",
    "#abnorm=pred[pred['anomaly']==0]"
   ]
  },
  {
   "cell_type": "code",
   "execution_count": 24,
   "metadata": {},
   "outputs": [
    {
     "name": "stdout",
     "output_type": "stream",
     "text": [
      "Empty DataFrame\n",
      "Columns: [ds, trend, yhat_lower, yhat_upper, trend_lower, trend_upper, additive_terms, additive_terms_lower, additive_terms_upper, multiplicative_terms, multiplicative_terms_lower, multiplicative_terms_upper, yhat, fact, Id]\n",
      "Index: []\n"
     ]
    }
   ],
   "source": [
    "print (upper)"
   ]
  },
  {
   "cell_type": "code",
   "execution_count": 25,
   "metadata": {},
   "outputs": [
    {
     "data": {
      "text/html": [
       "<table border=\"1\" class=\"dataframe\">\n",
       "  <thead>\n",
       "    <tr style=\"text-align: right;\">\n",
       "      <th></th>\n",
       "      <th>ds</th>\n",
       "      <th>trend</th>\n",
       "      <th>yhat_lower</th>\n",
       "      <th>yhat_upper</th>\n",
       "      <th>trend_lower</th>\n",
       "      <th>trend_upper</th>\n",
       "      <th>additive_terms</th>\n",
       "      <th>additive_terms_lower</th>\n",
       "      <th>additive_terms_upper</th>\n",
       "      <th>multiplicative_terms</th>\n",
       "      <th>multiplicative_terms_lower</th>\n",
       "      <th>multiplicative_terms_upper</th>\n",
       "      <th>yhat</th>\n",
       "      <th>fact</th>\n",
       "      <th>Id</th>\n",
       "    </tr>\n",
       "  </thead>\n",
       "  <tbody>\n",
       "  </tbody>\n",
       "</table>"
      ],
      "text/plain": [
       "<IPython.core.display.HTML object>"
      ]
     },
     "metadata": {},
     "output_type": "display_data"
    }
   ],
   "source": [
    "#Output the anmaly results into table:\n",
    "from IPython.core.display import HTML\n",
    "display(HTML(upper.to_html()))"
   ]
  },
  {
   "cell_type": "code",
   "execution_count": null,
   "metadata": {},
   "outputs": [],
   "source": []
  }
 ],
 "metadata": {
  "kernelspec": {
   "display_name": "Python 3",
   "language": "python",
   "name": "python3"
  },
  "language_info": {
   "codemirror_mode": {
    "name": "ipython",
    "version": 3
   },
   "file_extension": ".py",
   "mimetype": "text/x-python",
   "name": "python",
   "nbconvert_exporter": "python",
   "pygments_lexer": "ipython3",
   "version": "3.7.4"
  }
 },
 "nbformat": 4,
 "nbformat_minor": 2
}
