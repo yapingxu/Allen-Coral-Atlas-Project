{
 "cells": [
  {
   "cell_type": "code",
   "execution_count": 10,
   "metadata": {},
   "outputs": [],
   "source": [
    "#!/bin/env python3\n",
    "import numpy as np\n",
    "import os, sys\n",
    "\n",
    "#Weekly Example\n",
    "\n",
    "infiles = [\"C:/Users/LCL/Allen Coral Atlas/Dave share/Weekly Example/20200408to202004015_Level1_ll.csv\",\n",
    "\"C:/Users/LCL/Allen Coral Atlas/Dave share/Weekly Example/20200408to202004015_Level2_ll.csv\",\n",
    "\"C:/Users/LCL/Allen Coral Atlas/Dave share/Weekly Example/20200408to202004015_Level3_ll.csv\"]\n",
    "\n",
    "inarr1 = np.genfromtxt(infiles[0], delimiter=',', skip_header=1)\n",
    "inarr2 = np.genfromtxt(infiles[1], delimiter=',', skip_header=1)\n",
    "inarr3 = np.genfromtxt(infiles[2], delimiter=',', skip_header=1)\n",
    "\n",
    "allarr = np.concatenate((inarr1, inarr2, inarr3))\n",
    "\n",
    "allarr2 = np.zeros((allarr.shape[0], 3))\n",
    "\n",
    "for j,rec in enumerate(allarr):\n",
    "  allarr2[j,:] = rec[[0,1,3]]\n",
    "\n",
    "rindex = np.floor(np.random.random(17000) * allarr2.shape[0]).astype(np.int64)\n",
    "allarr3 = allarr2[rindex]\n",
    "np.save(\"C:/Users/LCL/Allen Coral Atlas/Dave share/Weekly Example/20200408to20200415_Weekly.npy\", allarr3)\n"
   ]
  },
  {
   "cell_type": "code",
   "execution_count": 11,
   "metadata": {},
   "outputs": [],
   "source": [
    "#!/bin/env python3\n",
    "import numpy as np\n",
    "import os, sys\n",
    "\n",
    "#Three-week Moving Average Eacample\n",
    "infiles = [\"C:/Users/LCL/Allen Coral Atlas/Dave share/ThreeweekAverage Example/20200408to202004015_Level1_ll.csv\",\n",
    "\"C:/Users/LCL/Allen Coral Atlas/Dave share/ThreeweekAverage Example/20200408to202004015_Level2_ll.csv\",\n",
    "\"C:/Users/LCL/Allen Coral Atlas/Dave share/ThreeweekAverage Example/20200408to202004015_Level3_ll.csv\"]\n",
    "\n",
    "inarr1 = np.genfromtxt(infiles[0], delimiter=',', skip_header=1)\n",
    "inarr2 = np.genfromtxt(infiles[1], delimiter=',', skip_header=1)\n",
    "inarr3 = np.genfromtxt(infiles[2], delimiter=',', skip_header=1)\n",
    "\n",
    "allarr = np.concatenate((inarr1, inarr2, inarr3))\n",
    "\n",
    "allarr2 = np.zeros((allarr.shape[0], 3))\n",
    "\n",
    "for j,rec in enumerate(allarr):\n",
    "  allarr2[j,:] = rec[[0,1,3]]\n",
    "\n",
    "rindex = np.floor(np.random.random(17000) * allarr2.shape[0]).astype(np.int64)\n",
    "allarr3 = allarr2[rindex]\n",
    "np.save(\"C:/Users/LCL/Allen Coral Atlas/Dave share/ThreeweekAverage Example/20200408to20200415_Weekly.npy\", allarr3)"
   ]
  },
  {
   "cell_type": "code",
   "execution_count": null,
   "metadata": {},
   "outputs": [],
   "source": []
  }
 ],
 "metadata": {
  "kernelspec": {
   "display_name": "Python 3",
   "language": "python",
   "name": "python3"
  },
  "language_info": {
   "codemirror_mode": {
    "name": "ipython",
    "version": 3
   },
   "file_extension": ".py",
   "mimetype": "text/x-python",
   "name": "python",
   "nbconvert_exporter": "python",
   "pygments_lexer": "ipython3",
   "version": "3.7.1"
  }
 },
 "nbformat": 4,
 "nbformat_minor": 2
}
